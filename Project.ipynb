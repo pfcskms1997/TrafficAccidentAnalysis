{
 "cells": [
  {
   "cell_type": "markdown",
   "metadata": {},
   "source": [
    "### 1. 교통사고분석시스템(TAAS)에서 데이터 수집\n",
    "    * 2014_19년 서울_경기 개별 교통사고 정보.xlsx\n",
    "    * 서울시 개별사고정보(2007_2009).xlsx\n",
    "    * 서울시 개별사고정보(2010_2018).xlsx"
   ]
  },
  {
   "cell_type": "markdown",
   "metadata": {},
   "source": [
    "### 3. 분석 작업"
   ]
  },
  {
   "cell_type": "code",
   "execution_count": 100,
   "metadata": {
    "scrolled": true
   },
   "outputs": [
    {
     "data": {
      "text/html": [
       "<div>\n",
       "<style scoped>\n",
       "    .dataframe tbody tr th:only-of-type {\n",
       "        vertical-align: middle;\n",
       "    }\n",
       "\n",
       "    .dataframe tbody tr th {\n",
       "        vertical-align: top;\n",
       "    }\n",
       "\n",
       "    .dataframe thead th {\n",
       "        text-align: right;\n",
       "    }\n",
       "</style>\n",
       "<table border=\"1\" class=\"dataframe\">\n",
       "  <thead>\n",
       "    <tr style=\"text-align: right;\">\n",
       "      <th></th>\n",
       "      <th>발생일</th>\n",
       "      <th>발생시간</th>\n",
       "      <th>요일</th>\n",
       "      <th>주야</th>\n",
       "      <th>발생지_시군구</th>\n",
       "      <th>법정동명</th>\n",
       "      <th>사고내용</th>\n",
       "      <th>사망자수</th>\n",
       "      <th>중상자수</th>\n",
       "      <th>경상자수</th>\n",
       "      <th>...</th>\n",
       "      <th>피해자성별</th>\n",
       "      <th>피해자연령</th>\n",
       "      <th>피해자신체상해정도</th>\n",
       "      <th>주야코드</th>\n",
       "      <th>사고내용코드</th>\n",
       "      <th>가해자차종코드</th>\n",
       "      <th>기상상태코드</th>\n",
       "      <th>노면상태코드</th>\n",
       "      <th>발생연도</th>\n",
       "      <th>발생월</th>\n",
       "    </tr>\n",
       "  </thead>\n",
       "  <tbody>\n",
       "    <tr>\n",
       "      <th>0</th>\n",
       "      <td>20070101</td>\n",
       "      <td>00시</td>\n",
       "      <td>월</td>\n",
       "      <td>야</td>\n",
       "      <td>금천구</td>\n",
       "      <td>시흥동</td>\n",
       "      <td>중상</td>\n",
       "      <td>0</td>\n",
       "      <td>1</td>\n",
       "      <td>0</td>\n",
       "      <td>...</td>\n",
       "      <td>남</td>\n",
       "      <td>23</td>\n",
       "      <td>중상</td>\n",
       "      <td>0</td>\n",
       "      <td>1</td>\n",
       "      <td>0</td>\n",
       "      <td>0</td>\n",
       "      <td>0</td>\n",
       "      <td>2007</td>\n",
       "      <td>1</td>\n",
       "    </tr>\n",
       "    <tr>\n",
       "      <th>1</th>\n",
       "      <td>20070101</td>\n",
       "      <td>01시</td>\n",
       "      <td>월</td>\n",
       "      <td>야</td>\n",
       "      <td>동대문구</td>\n",
       "      <td>청량리동</td>\n",
       "      <td>중상</td>\n",
       "      <td>0</td>\n",
       "      <td>1</td>\n",
       "      <td>0</td>\n",
       "      <td>...</td>\n",
       "      <td>남</td>\n",
       "      <td>44</td>\n",
       "      <td>중상</td>\n",
       "      <td>0</td>\n",
       "      <td>1</td>\n",
       "      <td>0</td>\n",
       "      <td>0</td>\n",
       "      <td>0</td>\n",
       "      <td>2007</td>\n",
       "      <td>1</td>\n",
       "    </tr>\n",
       "    <tr>\n",
       "      <th>2</th>\n",
       "      <td>20070101</td>\n",
       "      <td>01시</td>\n",
       "      <td>월</td>\n",
       "      <td>야</td>\n",
       "      <td>마포구</td>\n",
       "      <td>서교동</td>\n",
       "      <td>중상</td>\n",
       "      <td>0</td>\n",
       "      <td>1</td>\n",
       "      <td>0</td>\n",
       "      <td>...</td>\n",
       "      <td>남</td>\n",
       "      <td>25</td>\n",
       "      <td>상해없음</td>\n",
       "      <td>0</td>\n",
       "      <td>1</td>\n",
       "      <td>5</td>\n",
       "      <td>0</td>\n",
       "      <td>0</td>\n",
       "      <td>2007</td>\n",
       "      <td>1</td>\n",
       "    </tr>\n",
       "    <tr>\n",
       "      <th>3</th>\n",
       "      <td>20070101</td>\n",
       "      <td>01시</td>\n",
       "      <td>월</td>\n",
       "      <td>야</td>\n",
       "      <td>강서구</td>\n",
       "      <td>화곡동</td>\n",
       "      <td>중상</td>\n",
       "      <td>0</td>\n",
       "      <td>1</td>\n",
       "      <td>0</td>\n",
       "      <td>...</td>\n",
       "      <td>남</td>\n",
       "      <td>19</td>\n",
       "      <td>중상</td>\n",
       "      <td>0</td>\n",
       "      <td>1</td>\n",
       "      <td>0</td>\n",
       "      <td>0</td>\n",
       "      <td>0</td>\n",
       "      <td>2007</td>\n",
       "      <td>1</td>\n",
       "    </tr>\n",
       "    <tr>\n",
       "      <th>4</th>\n",
       "      <td>20070101</td>\n",
       "      <td>01시</td>\n",
       "      <td>월</td>\n",
       "      <td>야</td>\n",
       "      <td>송파구</td>\n",
       "      <td>가락동</td>\n",
       "      <td>경상</td>\n",
       "      <td>0</td>\n",
       "      <td>0</td>\n",
       "      <td>1</td>\n",
       "      <td>...</td>\n",
       "      <td>여</td>\n",
       "      <td>43</td>\n",
       "      <td>경상</td>\n",
       "      <td>0</td>\n",
       "      <td>2</td>\n",
       "      <td>3</td>\n",
       "      <td>0</td>\n",
       "      <td>0</td>\n",
       "      <td>2007</td>\n",
       "      <td>1</td>\n",
       "    </tr>\n",
       "    <tr>\n",
       "      <th>...</th>\n",
       "      <td>...</td>\n",
       "      <td>...</td>\n",
       "      <td>...</td>\n",
       "      <td>...</td>\n",
       "      <td>...</td>\n",
       "      <td>...</td>\n",
       "      <td>...</td>\n",
       "      <td>...</td>\n",
       "      <td>...</td>\n",
       "      <td>...</td>\n",
       "      <td>...</td>\n",
       "      <td>...</td>\n",
       "      <td>...</td>\n",
       "      <td>...</td>\n",
       "      <td>...</td>\n",
       "      <td>...</td>\n",
       "      <td>...</td>\n",
       "      <td>...</td>\n",
       "      <td>...</td>\n",
       "      <td>...</td>\n",
       "      <td>...</td>\n",
       "    </tr>\n",
       "    <tr>\n",
       "      <th>492932</th>\n",
       "      <td>20191231</td>\n",
       "      <td>22시</td>\n",
       "      <td>화</td>\n",
       "      <td>야</td>\n",
       "      <td>동작구</td>\n",
       "      <td>상도동</td>\n",
       "      <td>중상</td>\n",
       "      <td>0</td>\n",
       "      <td>1</td>\n",
       "      <td>0</td>\n",
       "      <td>...</td>\n",
       "      <td>남</td>\n",
       "      <td>54</td>\n",
       "      <td>중상</td>\n",
       "      <td>0</td>\n",
       "      <td>1</td>\n",
       "      <td>0</td>\n",
       "      <td>0</td>\n",
       "      <td>0</td>\n",
       "      <td>2019</td>\n",
       "      <td>12</td>\n",
       "    </tr>\n",
       "    <tr>\n",
       "      <th>492933</th>\n",
       "      <td>20191231</td>\n",
       "      <td>22시</td>\n",
       "      <td>화</td>\n",
       "      <td>야</td>\n",
       "      <td>중랑구</td>\n",
       "      <td>면목동</td>\n",
       "      <td>부상신고</td>\n",
       "      <td>0</td>\n",
       "      <td>0</td>\n",
       "      <td>0</td>\n",
       "      <td>...</td>\n",
       "      <td>여</td>\n",
       "      <td>33</td>\n",
       "      <td>부상신고</td>\n",
       "      <td>0</td>\n",
       "      <td>3</td>\n",
       "      <td>1</td>\n",
       "      <td>0</td>\n",
       "      <td>0</td>\n",
       "      <td>2019</td>\n",
       "      <td>12</td>\n",
       "    </tr>\n",
       "    <tr>\n",
       "      <th>492934</th>\n",
       "      <td>20191231</td>\n",
       "      <td>22시</td>\n",
       "      <td>화</td>\n",
       "      <td>야</td>\n",
       "      <td>강남구</td>\n",
       "      <td>삼성동</td>\n",
       "      <td>경상</td>\n",
       "      <td>0</td>\n",
       "      <td>0</td>\n",
       "      <td>1</td>\n",
       "      <td>...</td>\n",
       "      <td>여</td>\n",
       "      <td>61</td>\n",
       "      <td>경상</td>\n",
       "      <td>0</td>\n",
       "      <td>2</td>\n",
       "      <td>0</td>\n",
       "      <td>0</td>\n",
       "      <td>0</td>\n",
       "      <td>2019</td>\n",
       "      <td>12</td>\n",
       "    </tr>\n",
       "    <tr>\n",
       "      <th>492935</th>\n",
       "      <td>20191231</td>\n",
       "      <td>22시</td>\n",
       "      <td>화</td>\n",
       "      <td>야</td>\n",
       "      <td>송파구</td>\n",
       "      <td>송파동</td>\n",
       "      <td>경상</td>\n",
       "      <td>0</td>\n",
       "      <td>0</td>\n",
       "      <td>1</td>\n",
       "      <td>...</td>\n",
       "      <td>여</td>\n",
       "      <td>18</td>\n",
       "      <td>경상</td>\n",
       "      <td>0</td>\n",
       "      <td>2</td>\n",
       "      <td>0</td>\n",
       "      <td>0</td>\n",
       "      <td>0</td>\n",
       "      <td>2019</td>\n",
       "      <td>12</td>\n",
       "    </tr>\n",
       "    <tr>\n",
       "      <th>492936</th>\n",
       "      <td>20191231</td>\n",
       "      <td>23시</td>\n",
       "      <td>화</td>\n",
       "      <td>야</td>\n",
       "      <td>강남구</td>\n",
       "      <td>수서동</td>\n",
       "      <td>경상</td>\n",
       "      <td>0</td>\n",
       "      <td>0</td>\n",
       "      <td>1</td>\n",
       "      <td>...</td>\n",
       "      <td>남</td>\n",
       "      <td>53</td>\n",
       "      <td>경상</td>\n",
       "      <td>0</td>\n",
       "      <td>2</td>\n",
       "      <td>0</td>\n",
       "      <td>0</td>\n",
       "      <td>0</td>\n",
       "      <td>2019</td>\n",
       "      <td>12</td>\n",
       "    </tr>\n",
       "  </tbody>\n",
       "</table>\n",
       "<p>492937 rows × 35 columns</p>\n",
       "</div>"
      ],
      "text/plain": [
       "             발생일 발생시간 요일 주야 발생지_시군구  법정동명  사고내용  사망자수  중상자수  경상자수  ...  피해자성별  \\\n",
       "0       20070101  00시  월  야     금천구   시흥동    중상     0     1     0  ...      남   \n",
       "1       20070101  01시  월  야    동대문구  청량리동    중상     0     1     0  ...      남   \n",
       "2       20070101  01시  월  야     마포구   서교동    중상     0     1     0  ...      남   \n",
       "3       20070101  01시  월  야     강서구   화곡동    중상     0     1     0  ...      남   \n",
       "4       20070101  01시  월  야     송파구   가락동    경상     0     0     1  ...      여   \n",
       "...          ...  ... .. ..     ...   ...   ...   ...   ...   ...  ...    ...   \n",
       "492932  20191231  22시  화  야     동작구   상도동    중상     0     1     0  ...      남   \n",
       "492933  20191231  22시  화  야     중랑구   면목동  부상신고     0     0     0  ...      여   \n",
       "492934  20191231  22시  화  야     강남구   삼성동    경상     0     0     1  ...      여   \n",
       "492935  20191231  22시  화  야     송파구   송파동    경상     0     0     1  ...      여   \n",
       "492936  20191231  23시  화  야     강남구   수서동    경상     0     0     1  ...      남   \n",
       "\n",
       "       피해자연령 피해자신체상해정도 주야코드 사고내용코드 가해자차종코드 기상상태코드 노면상태코드  발생연도 발생월  \n",
       "0         23        중상    0      1       0      0      0  2007   1  \n",
       "1         44        중상    0      1       0      0      0  2007   1  \n",
       "2         25      상해없음    0      1       5      0      0  2007   1  \n",
       "3         19        중상    0      1       0      0      0  2007   1  \n",
       "4         43        경상    0      2       3      0      0  2007   1  \n",
       "...      ...       ...  ...    ...     ...    ...    ...   ...  ..  \n",
       "492932    54        중상    0      1       0      0      0  2019  12  \n",
       "492933    33      부상신고    0      3       1      0      0  2019  12  \n",
       "492934    61        경상    0      2       0      0      0  2019  12  \n",
       "492935    18        경상    0      2       0      0      0  2019  12  \n",
       "492936    53        경상    0      2       0      0      0  2019  12  \n",
       "\n",
       "[492937 rows x 35 columns]"
      ]
     },
     "execution_count": 100,
     "metadata": {},
     "output_type": "execute_result"
    }
   ],
   "source": [
    "import pandas as pd\n",
    "import numpy as np\n",
    "\n",
    "# Load Data\n",
    "Seoul_0719 = pd.read_csv('서울시 개별사고정보(2007_2019).csv',  encoding=\"cp949\")\n",
    "Seoul_0719"
   ]
  },
  {
   "cell_type": "code",
   "execution_count": 8,
   "metadata": {},
   "outputs": [
    {
     "data": {
      "text/plain": [
       "0         월\n",
       "1         월\n",
       "2         월\n",
       "3         월\n",
       "4         월\n",
       "         ..\n",
       "492932    화\n",
       "492933    화\n",
       "492934    화\n",
       "492935    화\n",
       "492936    화\n",
       "Name: 요일, Length: 492937, dtype: object"
      ]
     },
     "execution_count": 8,
     "metadata": {},
     "output_type": "execute_result"
    }
   ],
   "source": [
    "Seoul_0719.iloc[0:, 2]"
   ]
  },
  {
   "cell_type": "code",
   "execution_count": 3,
   "metadata": {
    "scrolled": true
   },
   "outputs": [
    {
     "name": "stdout",
     "output_type": "stream",
     "text": [
      "<class 'pandas.core.frame.DataFrame'>\n",
      "RangeIndex: 492937 entries, 0 to 492936\n",
      "Data columns (total 35 columns):\n",
      " #   Column     Non-Null Count   Dtype \n",
      "---  ------     --------------   ----- \n",
      " 0   발생일        492937 non-null  int64 \n",
      " 1   발생시간       492937 non-null  object\n",
      " 2   요일         492937 non-null  object\n",
      " 3   주야         492937 non-null  object\n",
      " 4   발생지_시군구    492937 non-null  object\n",
      " 5   법정동명       492849 non-null  object\n",
      " 6   사고내용       492937 non-null  object\n",
      " 7   사망자수       492937 non-null  int64 \n",
      " 8   중상자수       492937 non-null  int64 \n",
      " 9   경상자수       492937 non-null  int64 \n",
      " 10  부상신고자수     492937 non-null  int64 \n",
      " 11  사고유형_대분류   492937 non-null  object\n",
      " 12  사고유형_중분류   492937 non-null  object\n",
      " 13  사고유형       492937 non-null  object\n",
      " 14  가해자법규위반    492936 non-null  object\n",
      " 15  노면상태_대분류   492937 non-null  object\n",
      " 16  노면상태       492937 non-null  object\n",
      " 17  기상상태       492937 non-null  object\n",
      " 18  도로형태_대분류   492937 non-null  object\n",
      " 19  도로형태       492937 non-null  object\n",
      " 20  가해자차종      492937 non-null  object\n",
      " 21  가해자성별      492937 non-null  object\n",
      " 22  가해자연령      492937 non-null  int64 \n",
      " 23  가해자신체상해정도  492937 non-null  object\n",
      " 24  피해자차종      492937 non-null  object\n",
      " 25  피해자성별      492937 non-null  object\n",
      " 26  피해자연령      492937 non-null  int64 \n",
      " 27  피해자신체상해정도  492937 non-null  object\n",
      " 28  주야코드       492937 non-null  int64 \n",
      " 29  사고내용코드     492937 non-null  int64 \n",
      " 30  가해자차종코드    492937 non-null  int64 \n",
      " 31  기상상태코드     492937 non-null  int64 \n",
      " 32  노면상태코드     492937 non-null  int64 \n",
      " 33  발생연도       492937 non-null  int64 \n",
      " 34  발생월        492937 non-null  int64 \n",
      "dtypes: int64(14), object(21)\n",
      "memory usage: 131.6+ MB\n"
     ]
    }
   ],
   "source": [
    "Seoul_0719.info()"
   ]
  },
  {
   "cell_type": "code",
   "execution_count": 2,
   "metadata": {
    "scrolled": false
   },
   "outputs": [
    {
     "data": {
      "image/png": "[encoded data removed]",
      "text/plain": [
       "<Figure size 360x360 with 2 Axes>"
      ]
     },
     "metadata": {
      "needs_background": "light"
     },
     "output_type": "display_data"
    }
   ],
   "source": [
    "import matplotlib.pyplot as plt\n",
    "import seaborn as sns\n",
    "from matplotlib import font_manager, rc\n",
    "\n",
    "font_name = font_manager.FontProperties(fname=\"c:/Windows/Fonts/malgun.ttf\").get_name()\n",
    "rc('font', family=font_name)\n",
    "rc('figure', figsize=(5, 5))\n",
    "\n",
    "Seoul_0719.groupby('발생연도').size().plot.line(title='연도별 교통사고 발생 건수', color='blue', grid=True)\n",
    "plt.ylim(10000, 45000)\n",
    "plt.legend(['연간 발생 건수'])\n",
    "Seoul_0719.groupby('발생연도')['사망자수'].sum().plot.line(linestyle='-.',\n",
    "                                              secondary_y=True, color='red', grid=True)\n",
    "plt.ylim(150, 450)\n",
    "plt.legend(['연간 사망자수'], loc='lower right')\n",
    "plt.show()\n",
    "# Seoul_0719.groupby('발생연도')['사망자수'].sum() # 연도별 사망자수 계산"
   ]
  },
  {
   "cell_type": "code",
   "execution_count": 12,
   "metadata": {
    "scrolled": false
   },
   "outputs": [
    {
     "data": {
      "image/png": "[encoded data removed]",
      "text/plain": [
       "<Figure size 2160x360 with 2 Axes>"
      ]
     },
     "metadata": {
      "needs_background": "light"
     },
     "output_type": "display_data"
    }
   ],
   "source": [
    "plt.figure(figsize=(30, 5))\n",
    "plt.subplot(1, 2, 1)\n",
    "Seoul_0719.groupby(Seoul_0719['가해자차종']).size().sort_values(ascending=False).plot(kind='bar')\n",
    "plt.title('가해자차종', fontsize=20)\n",
    "plt.xticks(fontsize=15)\n",
    "plt.yticks(fontsize=15)\n",
    "\n",
    "plt.subplot(1, 2, 2)\n",
    "Seoul_0719.groupby(Seoul_0719['피해자차종']).size().sort_values(ascending=False).plot(kind='bar')\n",
    "plt.title('피해자차종', fontsize=20)\n",
    "plt.xticks(fontsize=15)\n",
    "plt.yticks(fontsize=15)\n",
    "\n",
    "plt.show()"
   ]
  },
  {
   "cell_type": "code",
   "execution_count": 13,
   "metadata": {
    "scrolled": true
   },
   "outputs": [
    {
     "data": {
      "text/plain": [
       "<matplotlib.axes._subplots.AxesSubplot at 0x25eb37a9f40>"
      ]
     },
     "execution_count": 13,
     "metadata": {},
     "output_type": "execute_result"
    },
    {
     "data": {
      "image/png": "[encoded data removed]",
      "text/plain": [
       "<Figure size 360x360 with 1 Axes>"
      ]
     },
     "metadata": {
      "needs_background": "light"
     },
     "output_type": "display_data"
    }
   ],
   "source": [
    "Seoul_0719.groupby(Seoul_0719['가해자법규위반']).size().sort_values(ascending=False).plot(kind='bar', title='가해자법규위반')"
   ]
  },
  {
   "cell_type": "code",
   "execution_count": 15,
   "metadata": {
    "scrolled": true
   },
   "outputs": [
    {
     "data": {
      "text/html": [
       "<div>\n",
       "<style scoped>\n",
       "    .dataframe tbody tr th:only-of-type {\n",
       "        vertical-align: middle;\n",
       "    }\n",
       "\n",
       "    .dataframe tbody tr th {\n",
       "        vertical-align: top;\n",
       "    }\n",
       "\n",
       "    .dataframe thead th {\n",
       "        text-align: right;\n",
       "    }\n",
       "</style>\n",
       "<table border=\"1\" class=\"dataframe\">\n",
       "  <thead>\n",
       "    <tr style=\"text-align: right;\">\n",
       "      <th></th>\n",
       "      <th>사망자수</th>\n",
       "      <th>중상자수</th>\n",
       "      <th>경상자수</th>\n",
       "      <th>부상신고자수</th>\n",
       "      <th>가해자연령</th>\n",
       "      <th>피해자연령</th>\n",
       "      <th>주야코드</th>\n",
       "      <th>사고내용코드</th>\n",
       "      <th>가해자차종코드</th>\n",
       "      <th>기상상태코드</th>\n",
       "      <th>노면상태코드</th>\n",
       "      <th>발생연도</th>\n",
       "      <th>발생월</th>\n",
       "    </tr>\n",
       "  </thead>\n",
       "  <tbody>\n",
       "    <tr>\n",
       "      <th>count</th>\n",
       "      <td>492937.000000</td>\n",
       "      <td>492937.000000</td>\n",
       "      <td>492937.000000</td>\n",
       "      <td>492937.000000</td>\n",
       "      <td>492937.000000</td>\n",
       "      <td>492937.000000</td>\n",
       "      <td>492937.000000</td>\n",
       "      <td>492937.000000</td>\n",
       "      <td>492937.000000</td>\n",
       "      <td>492937.000000</td>\n",
       "      <td>492937.000000</td>\n",
       "      <td>492937.000000</td>\n",
       "      <td>492937.000000</td>\n",
       "    </tr>\n",
       "    <tr>\n",
       "      <th>mean</th>\n",
       "      <td>0.009046</td>\n",
       "      <td>0.373857</td>\n",
       "      <td>0.959459</td>\n",
       "      <td>0.102739</td>\n",
       "      <td>45.456040</td>\n",
       "      <td>43.367116</td>\n",
       "      <td>0.508791</td>\n",
       "      <td>1.709330</td>\n",
       "      <td>0.776257</td>\n",
       "      <td>1.268779</td>\n",
       "      <td>0.349704</td>\n",
       "      <td>2012.918547</td>\n",
       "      <td>6.682047</td>\n",
       "    </tr>\n",
       "    <tr>\n",
       "      <th>std</th>\n",
       "      <td>0.096608</td>\n",
       "      <td>0.594592</td>\n",
       "      <td>1.031594</td>\n",
       "      <td>0.409471</td>\n",
       "      <td>14.507636</td>\n",
       "      <td>16.134034</td>\n",
       "      <td>0.499923</td>\n",
       "      <td>0.581468</td>\n",
       "      <td>1.440980</td>\n",
       "      <td>0.760782</td>\n",
       "      <td>1.088441</td>\n",
       "      <td>3.733694</td>\n",
       "      <td>3.384653</td>\n",
       "    </tr>\n",
       "    <tr>\n",
       "      <th>min</th>\n",
       "      <td>0.000000</td>\n",
       "      <td>0.000000</td>\n",
       "      <td>0.000000</td>\n",
       "      <td>0.000000</td>\n",
       "      <td>1.000000</td>\n",
       "      <td>1.000000</td>\n",
       "      <td>0.000000</td>\n",
       "      <td>0.000000</td>\n",
       "      <td>0.000000</td>\n",
       "      <td>1.000000</td>\n",
       "      <td>0.000000</td>\n",
       "      <td>2007.000000</td>\n",
       "      <td>1.000000</td>\n",
       "    </tr>\n",
       "    <tr>\n",
       "      <th>25%</th>\n",
       "      <td>0.000000</td>\n",
       "      <td>0.000000</td>\n",
       "      <td>0.000000</td>\n",
       "      <td>0.000000</td>\n",
       "      <td>34.000000</td>\n",
       "      <td>31.000000</td>\n",
       "      <td>0.000000</td>\n",
       "      <td>1.000000</td>\n",
       "      <td>0.000000</td>\n",
       "      <td>1.000000</td>\n",
       "      <td>0.000000</td>\n",
       "      <td>2010.000000</td>\n",
       "      <td>4.000000</td>\n",
       "    </tr>\n",
       "    <tr>\n",
       "      <th>50%</th>\n",
       "      <td>0.000000</td>\n",
       "      <td>0.000000</td>\n",
       "      <td>1.000000</td>\n",
       "      <td>0.000000</td>\n",
       "      <td>47.000000</td>\n",
       "      <td>44.000000</td>\n",
       "      <td>1.000000</td>\n",
       "      <td>2.000000</td>\n",
       "      <td>0.000000</td>\n",
       "      <td>1.000000</td>\n",
       "      <td>0.000000</td>\n",
       "      <td>2013.000000</td>\n",
       "      <td>7.000000</td>\n",
       "    </tr>\n",
       "    <tr>\n",
       "      <th>75%</th>\n",
       "      <td>0.000000</td>\n",
       "      <td>1.000000</td>\n",
       "      <td>1.000000</td>\n",
       "      <td>0.000000</td>\n",
       "      <td>56.000000</td>\n",
       "      <td>55.000000</td>\n",
       "      <td>1.000000</td>\n",
       "      <td>2.000000</td>\n",
       "      <td>1.000000</td>\n",
       "      <td>1.000000</td>\n",
       "      <td>0.000000</td>\n",
       "      <td>2016.000000</td>\n",
       "      <td>10.000000</td>\n",
       "    </tr>\n",
       "    <tr>\n",
       "      <th>max</th>\n",
       "      <td>4.000000</td>\n",
       "      <td>21.000000</td>\n",
       "      <td>41.000000</td>\n",
       "      <td>49.000000</td>\n",
       "      <td>117.000000</td>\n",
       "      <td>117.000000</td>\n",
       "      <td>1.000000</td>\n",
       "      <td>3.000000</td>\n",
       "      <td>12.000000</td>\n",
       "      <td>6.000000</td>\n",
       "      <td>7.000000</td>\n",
       "      <td>2019.000000</td>\n",
       "      <td>12.000000</td>\n",
       "    </tr>\n",
       "  </tbody>\n",
       "</table>\n",
       "</div>"
      ],
      "text/plain": [
       "                사망자수           중상자수           경상자수         부상신고자수  \\\n",
       "count  492937.000000  492937.000000  492937.000000  492937.000000   \n",
       "mean        0.009046       0.373857       0.959459       0.102739   \n",
       "std         0.096608       0.594592       1.031594       0.409471   \n",
       "min         0.000000       0.000000       0.000000       0.000000   \n",
       "25%         0.000000       0.000000       0.000000       0.000000   \n",
       "50%         0.000000       0.000000       1.000000       0.000000   \n",
       "75%         0.000000       1.000000       1.000000       0.000000   \n",
       "max         4.000000      21.000000      41.000000      49.000000   \n",
       "\n",
       "               가해자연령          피해자연령           주야코드         사고내용코드  \\\n",
       "count  492937.000000  492937.000000  492937.000000  492937.000000   \n",
       "mean       45.456040      43.367116       0.508791       1.709330   \n",
       "std        14.507636      16.134034       0.499923       0.581468   \n",
       "min         1.000000       1.000000       0.000000       0.000000   \n",
       "25%        34.000000      31.000000       0.000000       1.000000   \n",
       "50%        47.000000      44.000000       1.000000       2.000000   \n",
       "75%        56.000000      55.000000       1.000000       2.000000   \n",
       "max       117.000000     117.000000       1.000000       3.000000   \n",
       "\n",
       "             가해자차종코드         기상상태코드         노면상태코드           발생연도  \\\n",
       "count  492937.000000  492937.000000  492937.000000  492937.000000   \n",
       "mean        0.776257       1.268779       0.349704    2012.918547   \n",
       "std         1.440980       0.760782       1.088441       3.733694   \n",
       "min         0.000000       1.000000       0.000000    2007.000000   \n",
       "25%         0.000000       1.000000       0.000000    2010.000000   \n",
       "50%         0.000000       1.000000       0.000000    2013.000000   \n",
       "75%         1.000000       1.000000       0.000000    2016.000000   \n",
       "max        12.000000       6.000000       7.000000    2019.000000   \n",
       "\n",
       "                 발생월  \n",
       "count  492937.000000  \n",
       "mean        6.682047  \n",
       "std         3.384653  \n",
       "min         1.000000  \n",
       "25%         4.000000  \n",
       "50%         7.000000  \n",
       "75%        10.000000  \n",
       "max        12.000000  "
      ]
     },
     "execution_count": 15,
     "metadata": {},
     "output_type": "execute_result"
    }
   ],
   "source": [
    "Seoul_0719.describe()"
   ]
  },
  {
   "cell_type": "code",
   "execution_count": 8,
   "metadata": {},
   "outputs": [
    {
     "data": {
      "text/plain": [
       "가해자차종\n",
       "개인형이동수단(PM)       200\n",
       "건설기계             2418\n",
       "기타                150\n",
       "농기계                28\n",
       "불명                148\n",
       "사륜오토바이(ATV)        26\n",
       "승용차            347521\n",
       "승합차             32422\n",
       "원동기장치자전거        15363\n",
       "이륜차             36656\n",
       "자전거             17264\n",
       "특수차               983\n",
       "화물차             39758\n",
       "dtype: int64"
      ]
     },
     "execution_count": 8,
     "metadata": {},
     "output_type": "execute_result"
    }
   ],
   "source": [
    "Seoul_0719.groupby('가해자차종').size()"
   ]
  },
  {
   "cell_type": "code",
   "execution_count": 5,
   "metadata": {
    "scrolled": true
   },
   "outputs": [
    {
     "data": {
      "text/plain": [
       "주야\n",
       "야    242135\n",
       "주    250802\n",
       "Name: 사망자수, dtype: int64"
      ]
     },
     "execution_count": 5,
     "metadata": {},
     "output_type": "execute_result"
    }
   ],
   "source": [
    "Seoul_0719.groupby('주야')['사망자수'].size()"
   ]
  },
  {
   "cell_type": "code",
   "execution_count": 12,
   "metadata": {},
   "outputs": [
    {
     "data": {
      "text/plain": [
       "4459"
      ]
     },
     "execution_count": 12,
     "metadata": {},
     "output_type": "execute_result"
    }
   ],
   "source": [
    "Seoul_0719['사망자수'].sum()"
   ]
  },
  {
   "cell_type": "code",
   "execution_count": 13,
   "metadata": {},
   "outputs": [
    {
     "data": {
      "text/plain": [
       "사망자수       0.0\n",
       "중상자수       0.0\n",
       "경상자수       1.0\n",
       "부상신고자수     0.0\n",
       "가해자연령     47.0\n",
       "피해자연령     44.0\n",
       "Name: 0.5, dtype: float64"
      ]
     },
     "execution_count": 13,
     "metadata": {},
     "output_type": "execute_result"
    }
   ],
   "source": [
    "Seoul_0719.quantile(0.5)"
   ]
  },
  {
   "cell_type": "code",
   "execution_count": 14,
   "metadata": {},
   "outputs": [
    {
     "data": {
      "text/plain": [
       "{'whiskers': [<matplotlib.lines.Line2D at 0x2415058e730>,\n",
       "  <matplotlib.lines.Line2D at 0x2415058e4c0>],\n",
       " 'caps': [<matplotlib.lines.Line2D at 0x2415058e400>,\n",
       "  <matplotlib.lines.Line2D at 0x2415058e9a0>],\n",
       " 'boxes': [<matplotlib.lines.Line2D at 0x2415058ee20>],\n",
       " 'medians': [<matplotlib.lines.Line2D at 0x2414ec8d460>],\n",
       " 'fliers': [<matplotlib.lines.Line2D at 0x2414ec8d580>],\n",
       " 'means': []}"
      ]
     },
     "execution_count": 14,
     "metadata": {},
     "output_type": "execute_result"
    },
    {
     "data": {
      "image/png": "[encoded data removed]",
      "text/plain": [
       "<Figure size 360x360 with 1 Axes>"
      ]
     },
     "metadata": {
      "needs_background": "light"
     },
     "output_type": "display_data"
    }
   ],
   "source": [
    "plt.boxplot(Seoul_0719['피해자연령'], vert=False)"
   ]
  },
  {
   "cell_type": "code",
   "execution_count": 15,
   "metadata": {},
   "outputs": [
    {
     "data": {
      "text/plain": [
       "<matplotlib.axes._subplots.AxesSubplot at 0x241549cf7f0>"
      ]
     },
     "execution_count": 15,
     "metadata": {},
     "output_type": "execute_result"
    },
    {
     "data": {
      "image/png": "[encoded data removed]",
      "text/plain": [
       "<Figure size 360x360 with 1 Axes>"
      ]
     },
     "metadata": {
      "needs_background": "light"
     },
     "output_type": "display_data"
    }
   ],
   "source": [
    "#plt.figure(figsize=(15,8))\n",
    "sns.histplot(x='피해자연령', data=Seoul_0719, bins=[0, 20, 40, 60, 80, 100])"
   ]
  },
  {
   "cell_type": "code",
   "execution_count": 68,
   "metadata": {},
   "outputs": [
    {
     "name": "stdout",
     "output_type": "stream",
     "text": [
      "2    297750\n",
      "1    162672\n",
      "3     28140\n",
      "0      4375\n",
      "Name: 사고내용코드, dtype: int64\n"
     ]
    },
    {
     "data": {
      "text/plain": [
       "Power_divergenceResult(statistic=447777.4710906262, pvalue=0.0)"
      ]
     },
     "execution_count": 68,
     "metadata": {},
     "output_type": "execute_result"
    }
   ],
   "source": [
    "# 안쓰는거\n",
    "from scipy.stats import chisquare\n",
    "num_class = Seoul_0719[\"사고내용코드\"].value_counts()\n",
    "print(num_class)\n",
    "chisquare(num_class)"
   ]
  },
  {
   "cell_type": "code",
   "execution_count": 16,
   "metadata": {
    "scrolled": true
   },
   "outputs": [
    {
     "data": {
      "text/html": [
       "<div>\n",
       "<style scoped>\n",
       "    .dataframe tbody tr th:only-of-type {\n",
       "        vertical-align: middle;\n",
       "    }\n",
       "\n",
       "    .dataframe tbody tr th {\n",
       "        vertical-align: top;\n",
       "    }\n",
       "\n",
       "    .dataframe thead th {\n",
       "        text-align: right;\n",
       "    }\n",
       "</style>\n",
       "<table border=\"1\" class=\"dataframe\">\n",
       "  <thead>\n",
       "    <tr style=\"text-align: right;\">\n",
       "      <th></th>\n",
       "      <th>발생일</th>\n",
       "      <th>발생시간</th>\n",
       "      <th>요일</th>\n",
       "      <th>주야</th>\n",
       "      <th>발생지_시군구</th>\n",
       "      <th>법정동명</th>\n",
       "      <th>사고내용</th>\n",
       "      <th>사망자수</th>\n",
       "      <th>중상자수</th>\n",
       "      <th>경상자수</th>\n",
       "      <th>...</th>\n",
       "      <th>도로형태_대분류</th>\n",
       "      <th>도로형태</th>\n",
       "      <th>가해자차종</th>\n",
       "      <th>가해자성별</th>\n",
       "      <th>가해자연령</th>\n",
       "      <th>가해자신체상해정도</th>\n",
       "      <th>피해자차종</th>\n",
       "      <th>피해자성별</th>\n",
       "      <th>피해자연령</th>\n",
       "      <th>피해자신체상해정도</th>\n",
       "    </tr>\n",
       "  </thead>\n",
       "  <tbody>\n",
       "    <tr>\n",
       "      <th>34</th>\n",
       "      <td>20070101</td>\n",
       "      <td>19시</td>\n",
       "      <td>월</td>\n",
       "      <td>야</td>\n",
       "      <td>관악구</td>\n",
       "      <td>봉천동</td>\n",
       "      <td>사망</td>\n",
       "      <td>1</td>\n",
       "      <td>0</td>\n",
       "      <td>1</td>\n",
       "      <td>...</td>\n",
       "      <td>단일로</td>\n",
       "      <td>기타단일로</td>\n",
       "      <td>이륜차</td>\n",
       "      <td>남</td>\n",
       "      <td>16</td>\n",
       "      <td>사망</td>\n",
       "      <td>승용차</td>\n",
       "      <td>남</td>\n",
       "      <td>40</td>\n",
       "      <td>경상</td>\n",
       "    </tr>\n",
       "    <tr>\n",
       "      <th>127</th>\n",
       "      <td>20070102</td>\n",
       "      <td>22시</td>\n",
       "      <td>화</td>\n",
       "      <td>야</td>\n",
       "      <td>강남구</td>\n",
       "      <td>일원동</td>\n",
       "      <td>사망</td>\n",
       "      <td>1</td>\n",
       "      <td>0</td>\n",
       "      <td>0</td>\n",
       "      <td>...</td>\n",
       "      <td>교차로</td>\n",
       "      <td>교차로내</td>\n",
       "      <td>승합차</td>\n",
       "      <td>남</td>\n",
       "      <td>41</td>\n",
       "      <td>상해없음</td>\n",
       "      <td>보행자</td>\n",
       "      <td>남</td>\n",
       "      <td>12</td>\n",
       "      <td>사망</td>\n",
       "    </tr>\n",
       "    <tr>\n",
       "      <th>149</th>\n",
       "      <td>20070103</td>\n",
       "      <td>06시</td>\n",
       "      <td>수</td>\n",
       "      <td>주</td>\n",
       "      <td>광진구</td>\n",
       "      <td>광장동</td>\n",
       "      <td>사망</td>\n",
       "      <td>1</td>\n",
       "      <td>0</td>\n",
       "      <td>0</td>\n",
       "      <td>...</td>\n",
       "      <td>교차로</td>\n",
       "      <td>교차로부근</td>\n",
       "      <td>승용차</td>\n",
       "      <td>남</td>\n",
       "      <td>75</td>\n",
       "      <td>상해없음</td>\n",
       "      <td>보행자</td>\n",
       "      <td>여</td>\n",
       "      <td>77</td>\n",
       "      <td>사망</td>\n",
       "    </tr>\n",
       "    <tr>\n",
       "      <th>512</th>\n",
       "      <td>20070107</td>\n",
       "      <td>00시</td>\n",
       "      <td>일</td>\n",
       "      <td>야</td>\n",
       "      <td>도봉구</td>\n",
       "      <td>방학동</td>\n",
       "      <td>사망</td>\n",
       "      <td>1</td>\n",
       "      <td>0</td>\n",
       "      <td>0</td>\n",
       "      <td>...</td>\n",
       "      <td>교차로</td>\n",
       "      <td>교차로내</td>\n",
       "      <td>원동기장치자전거</td>\n",
       "      <td>남</td>\n",
       "      <td>48</td>\n",
       "      <td>사망</td>\n",
       "      <td>승용차</td>\n",
       "      <td>남</td>\n",
       "      <td>51</td>\n",
       "      <td>상해없음</td>\n",
       "    </tr>\n",
       "    <tr>\n",
       "      <th>591</th>\n",
       "      <td>20070108</td>\n",
       "      <td>09시</td>\n",
       "      <td>월</td>\n",
       "      <td>주</td>\n",
       "      <td>광진구</td>\n",
       "      <td>광장동</td>\n",
       "      <td>사망</td>\n",
       "      <td>1</td>\n",
       "      <td>0</td>\n",
       "      <td>0</td>\n",
       "      <td>...</td>\n",
       "      <td>단일로</td>\n",
       "      <td>횡단보도상</td>\n",
       "      <td>승용차</td>\n",
       "      <td>남</td>\n",
       "      <td>38</td>\n",
       "      <td>상해없음</td>\n",
       "      <td>보행자</td>\n",
       "      <td>남</td>\n",
       "      <td>69</td>\n",
       "      <td>사망</td>\n",
       "    </tr>\n",
       "    <tr>\n",
       "      <th>...</th>\n",
       "      <td>...</td>\n",
       "      <td>...</td>\n",
       "      <td>...</td>\n",
       "      <td>...</td>\n",
       "      <td>...</td>\n",
       "      <td>...</td>\n",
       "      <td>...</td>\n",
       "      <td>...</td>\n",
       "      <td>...</td>\n",
       "      <td>...</td>\n",
       "      <td>...</td>\n",
       "      <td>...</td>\n",
       "      <td>...</td>\n",
       "      <td>...</td>\n",
       "      <td>...</td>\n",
       "      <td>...</td>\n",
       "      <td>...</td>\n",
       "      <td>...</td>\n",
       "      <td>...</td>\n",
       "      <td>...</td>\n",
       "      <td>...</td>\n",
       "    </tr>\n",
       "    <tr>\n",
       "      <th>492468</th>\n",
       "      <td>20191226</td>\n",
       "      <td>16시</td>\n",
       "      <td>목</td>\n",
       "      <td>주</td>\n",
       "      <td>은평구</td>\n",
       "      <td>진관동</td>\n",
       "      <td>사망</td>\n",
       "      <td>1</td>\n",
       "      <td>0</td>\n",
       "      <td>0</td>\n",
       "      <td>...</td>\n",
       "      <td>교차로</td>\n",
       "      <td>교차로내</td>\n",
       "      <td>승용차</td>\n",
       "      <td>남</td>\n",
       "      <td>60</td>\n",
       "      <td>상해없음</td>\n",
       "      <td>이륜차</td>\n",
       "      <td>남</td>\n",
       "      <td>23</td>\n",
       "      <td>사망</td>\n",
       "    </tr>\n",
       "    <tr>\n",
       "      <th>492746</th>\n",
       "      <td>20191229</td>\n",
       "      <td>23시</td>\n",
       "      <td>일</td>\n",
       "      <td>야</td>\n",
       "      <td>동대문구</td>\n",
       "      <td>휘경동</td>\n",
       "      <td>사망</td>\n",
       "      <td>1</td>\n",
       "      <td>0</td>\n",
       "      <td>0</td>\n",
       "      <td>...</td>\n",
       "      <td>단일로</td>\n",
       "      <td>기타단일로</td>\n",
       "      <td>승용차</td>\n",
       "      <td>남</td>\n",
       "      <td>63</td>\n",
       "      <td>상해없음</td>\n",
       "      <td>보행자</td>\n",
       "      <td>여</td>\n",
       "      <td>66</td>\n",
       "      <td>사망</td>\n",
       "    </tr>\n",
       "    <tr>\n",
       "      <th>492751</th>\n",
       "      <td>20191230</td>\n",
       "      <td>00시</td>\n",
       "      <td>월</td>\n",
       "      <td>야</td>\n",
       "      <td>관악구</td>\n",
       "      <td>봉천동</td>\n",
       "      <td>사망</td>\n",
       "      <td>1</td>\n",
       "      <td>0</td>\n",
       "      <td>0</td>\n",
       "      <td>...</td>\n",
       "      <td>단일로</td>\n",
       "      <td>기타단일로</td>\n",
       "      <td>승용차</td>\n",
       "      <td>남</td>\n",
       "      <td>74</td>\n",
       "      <td>기타불명</td>\n",
       "      <td>보행자</td>\n",
       "      <td>남</td>\n",
       "      <td>84</td>\n",
       "      <td>사망</td>\n",
       "    </tr>\n",
       "    <tr>\n",
       "      <th>492848</th>\n",
       "      <td>20191231</td>\n",
       "      <td>01시</td>\n",
       "      <td>화</td>\n",
       "      <td>야</td>\n",
       "      <td>서초구</td>\n",
       "      <td>반포동</td>\n",
       "      <td>사망</td>\n",
       "      <td>1</td>\n",
       "      <td>0</td>\n",
       "      <td>0</td>\n",
       "      <td>...</td>\n",
       "      <td>단일로</td>\n",
       "      <td>기타단일로</td>\n",
       "      <td>승용차</td>\n",
       "      <td>남</td>\n",
       "      <td>34</td>\n",
       "      <td>상해없음</td>\n",
       "      <td>이륜차</td>\n",
       "      <td>남</td>\n",
       "      <td>39</td>\n",
       "      <td>사망</td>\n",
       "    </tr>\n",
       "    <tr>\n",
       "      <th>492856</th>\n",
       "      <td>20191231</td>\n",
       "      <td>05시</td>\n",
       "      <td>화</td>\n",
       "      <td>야</td>\n",
       "      <td>강남구</td>\n",
       "      <td>수서동</td>\n",
       "      <td>사망</td>\n",
       "      <td>1</td>\n",
       "      <td>0</td>\n",
       "      <td>0</td>\n",
       "      <td>...</td>\n",
       "      <td>교차로</td>\n",
       "      <td>교차로부근</td>\n",
       "      <td>화물차</td>\n",
       "      <td>남</td>\n",
       "      <td>48</td>\n",
       "      <td>상해없음</td>\n",
       "      <td>보행자</td>\n",
       "      <td>남</td>\n",
       "      <td>80</td>\n",
       "      <td>사망</td>\n",
       "    </tr>\n",
       "  </tbody>\n",
       "</table>\n",
       "<p>4375 rows × 28 columns</p>\n",
       "</div>"
      ],
      "text/plain": [
       "             발생일 발생시간 요일 주야 발생지_시군구 법정동명 사고내용  사망자수  중상자수  경상자수  ...  \\\n",
       "34      20070101  19시  월  야     관악구  봉천동   사망     1     0     1  ...   \n",
       "127     20070102  22시  화  야     강남구  일원동   사망     1     0     0  ...   \n",
       "149     20070103  06시  수  주     광진구  광장동   사망     1     0     0  ...   \n",
       "512     20070107  00시  일  야     도봉구  방학동   사망     1     0     0  ...   \n",
       "591     20070108  09시  월  주     광진구  광장동   사망     1     0     0  ...   \n",
       "...          ...  ... .. ..     ...  ...  ...   ...   ...   ...  ...   \n",
       "492468  20191226  16시  목  주     은평구  진관동   사망     1     0     0  ...   \n",
       "492746  20191229  23시  일  야    동대문구  휘경동   사망     1     0     0  ...   \n",
       "492751  20191230  00시  월  야     관악구  봉천동   사망     1     0     0  ...   \n",
       "492848  20191231  01시  화  야     서초구  반포동   사망     1     0     0  ...   \n",
       "492856  20191231  05시  화  야     강남구  수서동   사망     1     0     0  ...   \n",
       "\n",
       "        도로형태_대분류   도로형태     가해자차종 가해자성별 가해자연령 가해자신체상해정도 피해자차종 피해자성별 피해자연령  \\\n",
       "34           단일로  기타단일로       이륜차     남    16        사망   승용차     남    40   \n",
       "127          교차로   교차로내       승합차     남    41      상해없음   보행자     남    12   \n",
       "149          교차로  교차로부근       승용차     남    75      상해없음   보행자     여    77   \n",
       "512          교차로   교차로내  원동기장치자전거     남    48        사망   승용차     남    51   \n",
       "591          단일로  횡단보도상       승용차     남    38      상해없음   보행자     남    69   \n",
       "...          ...    ...       ...   ...   ...       ...   ...   ...   ...   \n",
       "492468       교차로   교차로내       승용차     남    60      상해없음   이륜차     남    23   \n",
       "492746       단일로  기타단일로       승용차     남    63      상해없음   보행자     여    66   \n",
       "492751       단일로  기타단일로       승용차     남    74      기타불명   보행자     남    84   \n",
       "492848       단일로  기타단일로       승용차     남    34      상해없음   이륜차     남    39   \n",
       "492856       교차로  교차로부근       화물차     남    48      상해없음   보행자     남    80   \n",
       "\n",
       "       피해자신체상해정도  \n",
       "34            경상  \n",
       "127           사망  \n",
       "149           사망  \n",
       "512         상해없음  \n",
       "591           사망  \n",
       "...          ...  \n",
       "492468        사망  \n",
       "492746        사망  \n",
       "492751        사망  \n",
       "492848        사망  \n",
       "492856        사망  \n",
       "\n",
       "[4375 rows x 28 columns]"
      ]
     },
     "execution_count": 16,
     "metadata": {},
     "output_type": "execute_result"
    }
   ],
   "source": [
    "Seoul_0719[Seoul_0719['사고내용']=='사망']"
   ]
  },
  {
   "cell_type": "code",
   "execution_count": 23,
   "metadata": {
    "scrolled": true
   },
   "outputs": [
    {
     "data": {
      "text/html": [
       "<div>\n",
       "<style scoped>\n",
       "    .dataframe tbody tr th:only-of-type {\n",
       "        vertical-align: middle;\n",
       "    }\n",
       "\n",
       "    .dataframe tbody tr th {\n",
       "        vertical-align: top;\n",
       "    }\n",
       "\n",
       "    .dataframe thead th {\n",
       "        text-align: right;\n",
       "    }\n",
       "</style>\n",
       "<table border=\"1\" class=\"dataframe\">\n",
       "  <thead>\n",
       "    <tr style=\"text-align: right;\">\n",
       "      <th>사고내용</th>\n",
       "      <th>경상</th>\n",
       "      <th>부상신고</th>\n",
       "      <th>사망</th>\n",
       "      <th>중상</th>\n",
       "    </tr>\n",
       "    <tr>\n",
       "      <th>가해자차종</th>\n",
       "      <th></th>\n",
       "      <th></th>\n",
       "      <th></th>\n",
       "      <th></th>\n",
       "    </tr>\n",
       "  </thead>\n",
       "  <tbody>\n",
       "    <tr>\n",
       "      <th>개인형이동수단(PM)</th>\n",
       "      <td>105</td>\n",
       "      <td>39</td>\n",
       "      <td>1</td>\n",
       "      <td>55</td>\n",
       "    </tr>\n",
       "    <tr>\n",
       "      <th>건설기계</th>\n",
       "      <td>1285</td>\n",
       "      <td>71</td>\n",
       "      <td>144</td>\n",
       "      <td>918</td>\n",
       "    </tr>\n",
       "    <tr>\n",
       "      <th>기타</th>\n",
       "      <td>70</td>\n",
       "      <td>27</td>\n",
       "      <td>3</td>\n",
       "      <td>50</td>\n",
       "    </tr>\n",
       "    <tr>\n",
       "      <th>농기계</th>\n",
       "      <td>9</td>\n",
       "      <td>9</td>\n",
       "      <td>0</td>\n",
       "      <td>10</td>\n",
       "    </tr>\n",
       "    <tr>\n",
       "      <th>불명</th>\n",
       "      <td>64</td>\n",
       "      <td>18</td>\n",
       "      <td>4</td>\n",
       "      <td>62</td>\n",
       "    </tr>\n",
       "    <tr>\n",
       "      <th>사륜오토바이(ATV)</th>\n",
       "      <td>14</td>\n",
       "      <td>6</td>\n",
       "      <td>0</td>\n",
       "      <td>6</td>\n",
       "    </tr>\n",
       "    <tr>\n",
       "      <th>승용차</th>\n",
       "      <td>221128</td>\n",
       "      <td>12682</td>\n",
       "      <td>2144</td>\n",
       "      <td>111567</td>\n",
       "    </tr>\n",
       "    <tr>\n",
       "      <th>승합차</th>\n",
       "      <td>17794</td>\n",
       "      <td>1278</td>\n",
       "      <td>627</td>\n",
       "      <td>12723</td>\n",
       "    </tr>\n",
       "    <tr>\n",
       "      <th>원동기장치자전거</th>\n",
       "      <td>7758</td>\n",
       "      <td>2442</td>\n",
       "      <td>204</td>\n",
       "      <td>4959</td>\n",
       "    </tr>\n",
       "    <tr>\n",
       "      <th>이륜차</th>\n",
       "      <td>18549</td>\n",
       "      <td>5932</td>\n",
       "      <td>410</td>\n",
       "      <td>11765</td>\n",
       "    </tr>\n",
       "    <tr>\n",
       "      <th>자전거</th>\n",
       "      <td>8137</td>\n",
       "      <td>4157</td>\n",
       "      <td>169</td>\n",
       "      <td>4801</td>\n",
       "    </tr>\n",
       "    <tr>\n",
       "      <th>특수차</th>\n",
       "      <td>514</td>\n",
       "      <td>39</td>\n",
       "      <td>33</td>\n",
       "      <td>397</td>\n",
       "    </tr>\n",
       "    <tr>\n",
       "      <th>화물차</th>\n",
       "      <td>22323</td>\n",
       "      <td>1440</td>\n",
       "      <td>636</td>\n",
       "      <td>15359</td>\n",
       "    </tr>\n",
       "  </tbody>\n",
       "</table>\n",
       "</div>"
      ],
      "text/plain": [
       "사고내용             경상   부상신고    사망      중상\n",
       "가해자차종                                   \n",
       "개인형이동수단(PM)     105     39     1      55\n",
       "건설기계           1285     71   144     918\n",
       "기타               70     27     3      50\n",
       "농기계               9      9     0      10\n",
       "불명               64     18     4      62\n",
       "사륜오토바이(ATV)      14      6     0       6\n",
       "승용차          221128  12682  2144  111567\n",
       "승합차           17794   1278   627   12723\n",
       "원동기장치자전거       7758   2442   204    4959\n",
       "이륜차           18549   5932   410   11765\n",
       "자전거            8137   4157   169    4801\n",
       "특수차             514     39    33     397\n",
       "화물차           22323   1440   636   15359"
      ]
     },
     "execution_count": 23,
     "metadata": {},
     "output_type": "execute_result"
    }
   ],
   "source": [
    "pd.crosstab(Seoul_0719['가해자차종'], Seoul_0719['사고내용'])"
   ]
  },
  {
   "cell_type": "code",
   "execution_count": 24,
   "metadata": {},
   "outputs": [
    {
     "data": {
      "text/html": [
       "<div>\n",
       "<style scoped>\n",
       "    .dataframe tbody tr th:only-of-type {\n",
       "        vertical-align: middle;\n",
       "    }\n",
       "\n",
       "    .dataframe tbody tr th {\n",
       "        vertical-align: top;\n",
       "    }\n",
       "\n",
       "    .dataframe thead th {\n",
       "        text-align: right;\n",
       "    }\n",
       "</style>\n",
       "<table border=\"1\" class=\"dataframe\">\n",
       "  <thead>\n",
       "    <tr style=\"text-align: right;\">\n",
       "      <th>사고내용</th>\n",
       "      <th>경상</th>\n",
       "      <th>부상신고</th>\n",
       "      <th>사망</th>\n",
       "      <th>중상</th>\n",
       "    </tr>\n",
       "    <tr>\n",
       "      <th>주야</th>\n",
       "      <th></th>\n",
       "      <th></th>\n",
       "      <th></th>\n",
       "      <th></th>\n",
       "    </tr>\n",
       "  </thead>\n",
       "  <tbody>\n",
       "    <tr>\n",
       "      <th>야</th>\n",
       "      <td>146650</td>\n",
       "      <td>13095</td>\n",
       "      <td>2448</td>\n",
       "      <td>79942</td>\n",
       "    </tr>\n",
       "    <tr>\n",
       "      <th>주</th>\n",
       "      <td>151100</td>\n",
       "      <td>15045</td>\n",
       "      <td>1927</td>\n",
       "      <td>82730</td>\n",
       "    </tr>\n",
       "  </tbody>\n",
       "</table>\n",
       "</div>"
      ],
      "text/plain": [
       "사고내용      경상   부상신고    사망     중상\n",
       "주야                              \n",
       "야     146650  13095  2448  79942\n",
       "주     151100  15045  1927  82730"
      ]
     },
     "execution_count": 24,
     "metadata": {},
     "output_type": "execute_result"
    }
   ],
   "source": [
    "pd.crosstab(Seoul_0719['주야'], Seoul_0719['사고내용'])"
   ]
  },
  {
   "cell_type": "code",
   "execution_count": 25,
   "metadata": {},
   "outputs": [
    {
     "data": {
      "text/html": [
       "<div>\n",
       "<style scoped>\n",
       "    .dataframe tbody tr th:only-of-type {\n",
       "        vertical-align: middle;\n",
       "    }\n",
       "\n",
       "    .dataframe tbody tr th {\n",
       "        vertical-align: top;\n",
       "    }\n",
       "\n",
       "    .dataframe thead th {\n",
       "        text-align: right;\n",
       "    }\n",
       "</style>\n",
       "<table border=\"1\" class=\"dataframe\">\n",
       "  <thead>\n",
       "    <tr style=\"text-align: right;\">\n",
       "      <th>사고내용</th>\n",
       "      <th>경상</th>\n",
       "      <th>부상신고</th>\n",
       "      <th>사망</th>\n",
       "      <th>중상</th>\n",
       "    </tr>\n",
       "    <tr>\n",
       "      <th>노면상태</th>\n",
       "      <th></th>\n",
       "      <th></th>\n",
       "      <th></th>\n",
       "      <th></th>\n",
       "    </tr>\n",
       "  </thead>\n",
       "  <tbody>\n",
       "    <tr>\n",
       "      <th>건조</th>\n",
       "      <td>259752</td>\n",
       "      <td>25078</td>\n",
       "      <td>3659</td>\n",
       "      <td>141071</td>\n",
       "    </tr>\n",
       "    <tr>\n",
       "      <th>기타</th>\n",
       "      <td>4937</td>\n",
       "      <td>435</td>\n",
       "      <td>69</td>\n",
       "      <td>2539</td>\n",
       "    </tr>\n",
       "    <tr>\n",
       "      <th>서리/결빙</th>\n",
       "      <td>1780</td>\n",
       "      <td>118</td>\n",
       "      <td>20</td>\n",
       "      <td>841</td>\n",
       "    </tr>\n",
       "    <tr>\n",
       "      <th>적설</th>\n",
       "      <td>936</td>\n",
       "      <td>52</td>\n",
       "      <td>14</td>\n",
       "      <td>468</td>\n",
       "    </tr>\n",
       "    <tr>\n",
       "      <th>젖음/습기</th>\n",
       "      <td>30340</td>\n",
       "      <td>2457</td>\n",
       "      <td>613</td>\n",
       "      <td>17750</td>\n",
       "    </tr>\n",
       "    <tr>\n",
       "      <th>침수</th>\n",
       "      <td>4</td>\n",
       "      <td>0</td>\n",
       "      <td>0</td>\n",
       "      <td>1</td>\n",
       "    </tr>\n",
       "    <tr>\n",
       "      <th>해빙</th>\n",
       "      <td>1</td>\n",
       "      <td>0</td>\n",
       "      <td>0</td>\n",
       "      <td>2</td>\n",
       "    </tr>\n",
       "  </tbody>\n",
       "</table>\n",
       "</div>"
      ],
      "text/plain": [
       "사고내용       경상   부상신고    사망      중상\n",
       "노면상태                              \n",
       "건조     259752  25078  3659  141071\n",
       "기타       4937    435    69    2539\n",
       "서리/결빙    1780    118    20     841\n",
       "적설        936     52    14     468\n",
       "젖음/습기   30340   2457   613   17750\n",
       "침수          4      0     0       1\n",
       "해빙          1      0     0       2"
      ]
     },
     "execution_count": 25,
     "metadata": {},
     "output_type": "execute_result"
    }
   ],
   "source": [
    "pd.crosstab(Seoul_0719['노면상태'], Seoul_0719['사고내용'])"
   ]
  },
  {
   "cell_type": "code",
   "execution_count": 42,
   "metadata": {},
   "outputs": [
    {
     "data": {
      "text/plain": [
       "가해자차종\n",
       "개인형이동수단(PM)       200\n",
       "건설기계             2418\n",
       "기타                150\n",
       "농기계                28\n",
       "불명                148\n",
       "사륜오토바이(ATV)        26\n",
       "승용차            347521\n",
       "승합차             32422\n",
       "원동기장치자전거        15363\n",
       "이륜차             36656\n",
       "자전거             17264\n",
       "특수차               983\n",
       "화물차             39758\n",
       "dtype: int64"
      ]
     },
     "execution_count": 42,
     "metadata": {},
     "output_type": "execute_result"
    }
   ],
   "source": [
    "pd.crosstab(Seoul_0719['가해자차종'], Seoul_0719['사고내용']).sum(axis=1)"
   ]
  },
  {
   "cell_type": "code",
   "execution_count": 43,
   "metadata": {},
   "outputs": [
    {
     "data": {
      "text/html": [
       "<div>\n",
       "<style scoped>\n",
       "    .dataframe tbody tr th:only-of-type {\n",
       "        vertical-align: middle;\n",
       "    }\n",
       "\n",
       "    .dataframe tbody tr th {\n",
       "        vertical-align: top;\n",
       "    }\n",
       "\n",
       "    .dataframe thead th {\n",
       "        text-align: right;\n",
       "    }\n",
       "</style>\n",
       "<table border=\"1\" class=\"dataframe\">\n",
       "  <thead>\n",
       "    <tr style=\"text-align: right;\">\n",
       "      <th>사고내용</th>\n",
       "      <th>경상</th>\n",
       "      <th>부상신고</th>\n",
       "      <th>사망</th>\n",
       "      <th>중상</th>\n",
       "    </tr>\n",
       "    <tr>\n",
       "      <th>가해자차종</th>\n",
       "      <th></th>\n",
       "      <th></th>\n",
       "      <th></th>\n",
       "      <th></th>\n",
       "    </tr>\n",
       "  </thead>\n",
       "  <tbody>\n",
       "    <tr>\n",
       "      <th>개인형이동수단(PM)</th>\n",
       "      <td>105</td>\n",
       "      <td>39</td>\n",
       "      <td>1</td>\n",
       "      <td>55</td>\n",
       "    </tr>\n",
       "    <tr>\n",
       "      <th>건설기계</th>\n",
       "      <td>1285</td>\n",
       "      <td>71</td>\n",
       "      <td>144</td>\n",
       "      <td>918</td>\n",
       "    </tr>\n",
       "    <tr>\n",
       "      <th>기타</th>\n",
       "      <td>70</td>\n",
       "      <td>27</td>\n",
       "      <td>3</td>\n",
       "      <td>50</td>\n",
       "    </tr>\n",
       "    <tr>\n",
       "      <th>농기계</th>\n",
       "      <td>9</td>\n",
       "      <td>9</td>\n",
       "      <td>0</td>\n",
       "      <td>10</td>\n",
       "    </tr>\n",
       "    <tr>\n",
       "      <th>불명</th>\n",
       "      <td>64</td>\n",
       "      <td>18</td>\n",
       "      <td>4</td>\n",
       "      <td>62</td>\n",
       "    </tr>\n",
       "    <tr>\n",
       "      <th>사륜오토바이(ATV)</th>\n",
       "      <td>14</td>\n",
       "      <td>6</td>\n",
       "      <td>0</td>\n",
       "      <td>6</td>\n",
       "    </tr>\n",
       "    <tr>\n",
       "      <th>승용차</th>\n",
       "      <td>221128</td>\n",
       "      <td>12682</td>\n",
       "      <td>2144</td>\n",
       "      <td>111567</td>\n",
       "    </tr>\n",
       "    <tr>\n",
       "      <th>승합차</th>\n",
       "      <td>17794</td>\n",
       "      <td>1278</td>\n",
       "      <td>627</td>\n",
       "      <td>12723</td>\n",
       "    </tr>\n",
       "    <tr>\n",
       "      <th>원동기장치자전거</th>\n",
       "      <td>7758</td>\n",
       "      <td>2442</td>\n",
       "      <td>204</td>\n",
       "      <td>4959</td>\n",
       "    </tr>\n",
       "    <tr>\n",
       "      <th>이륜차</th>\n",
       "      <td>18549</td>\n",
       "      <td>5932</td>\n",
       "      <td>410</td>\n",
       "      <td>11765</td>\n",
       "    </tr>\n",
       "    <tr>\n",
       "      <th>자전거</th>\n",
       "      <td>8137</td>\n",
       "      <td>4157</td>\n",
       "      <td>169</td>\n",
       "      <td>4801</td>\n",
       "    </tr>\n",
       "    <tr>\n",
       "      <th>특수차</th>\n",
       "      <td>514</td>\n",
       "      <td>39</td>\n",
       "      <td>33</td>\n",
       "      <td>397</td>\n",
       "    </tr>\n",
       "    <tr>\n",
       "      <th>화물차</th>\n",
       "      <td>22323</td>\n",
       "      <td>1440</td>\n",
       "      <td>636</td>\n",
       "      <td>15359</td>\n",
       "    </tr>\n",
       "  </tbody>\n",
       "</table>\n",
       "</div>"
      ],
      "text/plain": [
       "사고내용             경상   부상신고    사망      중상\n",
       "가해자차종                                   \n",
       "개인형이동수단(PM)     105     39     1      55\n",
       "건설기계           1285     71   144     918\n",
       "기타               70     27     3      50\n",
       "농기계               9      9     0      10\n",
       "불명               64     18     4      62\n",
       "사륜오토바이(ATV)      14      6     0       6\n",
       "승용차          221128  12682  2144  111567\n",
       "승합차           17794   1278   627   12723\n",
       "원동기장치자전거       7758   2442   204    4959\n",
       "이륜차           18549   5932   410   11765\n",
       "자전거            8137   4157   169    4801\n",
       "특수차             514     39    33     397\n",
       "화물차           22323   1440   636   15359"
      ]
     },
     "execution_count": 43,
     "metadata": {},
     "output_type": "execute_result"
    }
   ],
   "source": [
    "pd.crosstab(Seoul_0719['가해자차종'], Seoul_0719['사고내용'])"
   ]
  },
  {
   "cell_type": "code",
   "execution_count": 50,
   "metadata": {},
   "outputs": [
    {
     "data": {
      "text/html": [
       "<div>\n",
       "<style scoped>\n",
       "    .dataframe tbody tr th:only-of-type {\n",
       "        vertical-align: middle;\n",
       "    }\n",
       "\n",
       "    .dataframe tbody tr th {\n",
       "        vertical-align: top;\n",
       "    }\n",
       "\n",
       "    .dataframe thead th {\n",
       "        text-align: right;\n",
       "    }\n",
       "</style>\n",
       "<table border=\"1\" class=\"dataframe\">\n",
       "  <thead>\n",
       "    <tr style=\"text-align: right;\">\n",
       "      <th>사고내용</th>\n",
       "      <th>경상</th>\n",
       "      <th>부상신고</th>\n",
       "      <th>사망</th>\n",
       "      <th>중상</th>\n",
       "    </tr>\n",
       "    <tr>\n",
       "      <th>사고유형_대분류</th>\n",
       "      <th></th>\n",
       "      <th></th>\n",
       "      <th></th>\n",
       "      <th></th>\n",
       "    </tr>\n",
       "  </thead>\n",
       "  <tbody>\n",
       "    <tr>\n",
       "      <th>차대사람</th>\n",
       "      <td>61197</td>\n",
       "      <td>6778</td>\n",
       "      <td>2729</td>\n",
       "      <td>58618</td>\n",
       "    </tr>\n",
       "    <tr>\n",
       "      <th>차대차</th>\n",
       "      <td>236550</td>\n",
       "      <td>21361</td>\n",
       "      <td>1646</td>\n",
       "      <td>104051</td>\n",
       "    </tr>\n",
       "    <tr>\n",
       "      <th>차량단독</th>\n",
       "      <td>1</td>\n",
       "      <td>1</td>\n",
       "      <td>0</td>\n",
       "      <td>2</td>\n",
       "    </tr>\n",
       "    <tr>\n",
       "      <th>철길건널목</th>\n",
       "      <td>2</td>\n",
       "      <td>0</td>\n",
       "      <td>0</td>\n",
       "      <td>1</td>\n",
       "    </tr>\n",
       "  </tbody>\n",
       "</table>\n",
       "</div>"
      ],
      "text/plain": [
       "사고내용          경상   부상신고    사망      중상\n",
       "사고유형_대분류                             \n",
       "차대사람       61197   6778  2729   58618\n",
       "차대차       236550  21361  1646  104051\n",
       "차량단독           1      1     0       2\n",
       "철길건널목          2      0     0       1"
      ]
     },
     "execution_count": 50,
     "metadata": {},
     "output_type": "execute_result"
    }
   ],
   "source": [
    "pd.crosstab(Seoul_0719['사고유형_대분류'], Seoul_0719['사고내용'])"
   ]
  },
  {
   "cell_type": "code",
   "execution_count": 49,
   "metadata": {
    "scrolled": true
   },
   "outputs": [
    {
     "name": "stdout",
     "output_type": "stream",
     "text": [
      "<class 'pandas.core.frame.DataFrame'>\n",
      "RangeIndex: 492937 entries, 0 to 492936\n",
      "Data columns (total 35 columns):\n",
      " #   Column     Non-Null Count   Dtype \n",
      "---  ------     --------------   ----- \n",
      " 0   발생일        492937 non-null  int64 \n",
      " 1   발생시간       492937 non-null  object\n",
      " 2   요일         492937 non-null  object\n",
      " 3   주야         492937 non-null  object\n",
      " 4   발생지_시군구    492937 non-null  object\n",
      " 5   법정동명       492849 non-null  object\n",
      " 6   사고내용       492937 non-null  object\n",
      " 7   사망자수       492937 non-null  int64 \n",
      " 8   중상자수       492937 non-null  int64 \n",
      " 9   경상자수       492937 non-null  int64 \n",
      " 10  부상신고자수     492937 non-null  int64 \n",
      " 11  사고유형_대분류   492937 non-null  object\n",
      " 12  사고유형_중분류   492937 non-null  object\n",
      " 13  사고유형       492937 non-null  object\n",
      " 14  가해자법규위반    492936 non-null  object\n",
      " 15  노면상태_대분류   492937 non-null  object\n",
      " 16  노면상태       492937 non-null  object\n",
      " 17  기상상태       492937 non-null  object\n",
      " 18  도로형태_대분류   492937 non-null  object\n",
      " 19  도로형태       492937 non-null  object\n",
      " 20  가해자차종      492937 non-null  object\n",
      " 21  가해자성별      492937 non-null  object\n",
      " 22  가해자연령      492937 non-null  int64 \n",
      " 23  가해자신체상해정도  492937 non-null  object\n",
      " 24  피해자차종      492937 non-null  object\n",
      " 25  피해자성별      492937 non-null  object\n",
      " 26  피해자연령      492937 non-null  int64 \n",
      " 27  피해자신체상해정도  492937 non-null  object\n",
      " 28  주야코드       492937 non-null  int64 \n",
      " 29  사고내용코드     492937 non-null  int64 \n",
      " 30  가해자차종코드    492937 non-null  int64 \n",
      " 31  기상상태코드     492937 non-null  int64 \n",
      " 32  노면상태코드     492937 non-null  int64 \n",
      " 33  발생연도       492937 non-null  int64 \n",
      " 34  발생월        492937 non-null  int64 \n",
      "dtypes: int64(14), object(21)\n",
      "memory usage: 131.6+ MB\n"
     ]
    }
   ],
   "source": [
    "Seoul_0719.info()"
   ]
  },
  {
   "cell_type": "code",
   "execution_count": 21,
   "metadata": {
    "scrolled": true
   },
   "outputs": [
    {
     "data": {
      "text/plain": [
       "array([<matplotlib.axes._subplots.AxesSubplot object at 0x0000023A433281F0>,\n",
       "       <matplotlib.axes._subplots.AxesSubplot object at 0x0000023A440C3400>,\n",
       "       <matplotlib.axes._subplots.AxesSubplot object at 0x0000023A4416E610>,\n",
       "       <matplotlib.axes._subplots.AxesSubplot object at 0x0000023A435877C0>],\n",
       "      dtype=object)"
      ]
     },
     "execution_count": 21,
     "metadata": {},
     "output_type": "execute_result"
    },
    {
     "data": {
      "image/png": "[encoded data removed]",
      "text/plain": [
       "<Figure size 3600x3600 with 4 Axes>"
      ]
     },
     "metadata": {},
     "output_type": "display_data"
    }
   ],
   "source": [
    "ct = pd.crosstab(Seoul_0719['가해자차종'], Seoul_0719['사고내용'])\n",
    "ct.plot.pie(subplots=True, figsize=(50, 50))"
   ]
  },
  {
   "cell_type": "code",
   "execution_count": 71,
   "metadata": {},
   "outputs": [
    {
     "data": {
      "text/plain": [
       "발생연도  발생월  주야\n",
       "2007  1    야      6\n",
       "           주     20\n",
       "      2    야     12\n",
       "           주     15\n",
       "      3    야     13\n",
       "                 ..\n",
       "2019  10   주     12\n",
       "      11   야      9\n",
       "           주      3\n",
       "      12   야     14\n",
       "           주      7\n",
       "Name: 사망자수, Length: 312, dtype: int64"
      ]
     },
     "execution_count": 71,
     "metadata": {},
     "output_type": "execute_result"
    }
   ],
   "source": [
    "Seoul_0719.groupby(['발생연도', '발생월', '주야'])['사망자수'].sum()"
   ]
  },
  {
   "cell_type": "code",
   "execution_count": null,
   "metadata": {},
   "outputs": [],
   "source": [
    "sns.pairplot(Seoul_0719, hue='주야코드')"
   ]
  },
  {
   "cell_type": "code",
   "execution_count": 3,
   "metadata": {
    "scrolled": true
   },
   "outputs": [
    {
     "data": {
      "image/png": "[encoded data removed]",
      "text/plain": [
       "<Figure size 720x720 with 2 Axes>"
      ]
     },
     "metadata": {},
     "output_type": "display_data"
    }
   ],
   "source": [
    "plt.figure(figsize=(10, 10))\n",
    "plt.subplot(1, 2, 1)\n",
    "Seoul_0719.groupby(Seoul_0719['가해자성별']).size().sort_values(ascending=False).plot(kind='pie', title='가해자성별', autopct='%.1f%%')\n",
    "plt.subplot(1, 2, 2)\n",
    "Seoul_0719.groupby(Seoul_0719['피해자성별']).size().sort_values(ascending=False).plot(kind='pie', title='피해자성별', autopct='%.1f%%')\n",
    "plt.show()"
   ]
  },
  {
   "cell_type": "code",
   "execution_count": 7,
   "metadata": {},
   "outputs": [
    {
     "data": {
      "text/plain": [
       "0         남\n",
       "1         남\n",
       "2         남\n",
       "3         남\n",
       "4         여\n",
       "         ..\n",
       "492932    남\n",
       "492933    여\n",
       "492934    여\n",
       "492935    여\n",
       "492936    남\n",
       "Name: 피해자성별, Length: 492937, dtype: object"
      ]
     },
     "execution_count": 7,
     "metadata": {},
     "output_type": "execute_result"
    }
   ],
   "source": [
    "Seoul_0719['피해자성별']"
   ]
  },
  {
   "cell_type": "code",
   "execution_count": 8,
   "metadata": {
    "scrolled": true
   },
   "outputs": [
    {
     "data": {
      "text/plain": [
       "1         남\n",
       "6         여\n",
       "7         여\n",
       "11        남\n",
       "14        남\n",
       "         ..\n",
       "492926    여\n",
       "492930    여\n",
       "492931    여\n",
       "492933    여\n",
       "492935    여\n",
       "Name: 피해자성별, Length: 129322, dtype: object"
      ]
     },
     "execution_count": 8,
     "metadata": {},
     "output_type": "execute_result"
    }
   ],
   "source": [
    "Seoul_0719[Seoul_0719['사고유형_대분류'] == '차대사람']['피해자성별']"
   ]
  },
  {
   "cell_type": "code",
   "execution_count": 17,
   "metadata": {
    "scrolled": true
   },
   "outputs": [
    {
     "data": {
      "text/plain": [
       "<matplotlib.axes._subplots.AxesSubplot at 0x24c073c6af0>"
      ]
     },
     "execution_count": 17,
     "metadata": {},
     "output_type": "execute_result"
    },
    {
     "data": {
      "image/png": "[encoded data removed]",
      "text/plain": [
       "<Figure size 360x360 with 1 Axes>"
      ]
     },
     "metadata": {},
     "output_type": "display_data"
    }
   ],
   "source": [
    "Seoul_0719.groupby(Seoul_0719[Seoul_0719['사고유형_대분류'] != '차대차']['피해자성별']).size().plot(kind='pie', title='피해자성별', autopct='%.1f%%')"
   ]
  },
  {
   "cell_type": "code",
   "execution_count": 19,
   "metadata": {},
   "outputs": [
    {
     "data": {
      "text/plain": [
       "0                신호위반\n",
       "1         안전운전 의무 불이행\n",
       "2              중앙선 침범\n",
       "3         안전운전 의무 불이행\n",
       "4         안전운전 의무 불이행\n",
       "             ...     \n",
       "492932    안전운전 의무 불이행\n",
       "492933    안전운전 의무 불이행\n",
       "492934       안전거리 미확보\n",
       "492935    보행자 보호의무 위반\n",
       "492936    교차로 통행방법 위반\n",
       "Name: 가해자법규위반, Length: 492937, dtype: object"
      ]
     },
     "execution_count": 19,
     "metadata": {},
     "output_type": "execute_result"
    }
   ],
   "source": [
    "Seoul_0719['가해자법규위반']"
   ]
  },
  {
   "cell_type": "code",
   "execution_count": 30,
   "metadata": {
    "scrolled": true
   },
   "outputs": [
    {
     "data": {
      "text/plain": [
       "<matplotlib.axes._subplots.AxesSubplot at 0x24c07706490>"
      ]
     },
     "execution_count": 30,
     "metadata": {},
     "output_type": "execute_result"
    },
    {
     "data": {
      "image/png": "[encoded data removed]",
      "text/plain": [
       "<Figure size 360x360 with 1 Axes>"
      ]
     },
     "metadata": {},
     "output_type": "display_data"
    }
   ],
   "source": [
    "Seoul_0719.groupby(['가해자법규위반', '가해자성별']).size().sort_values(ascending=False).plot(kind='pie', title='가해자성별')"
   ]
  },
  {
   "cell_type": "code",
   "execution_count": 37,
   "metadata": {},
   "outputs": [
    {
     "data": {
      "text/plain": [
       "가해자성별\n",
       "남    421686\n",
       "여     71251\n",
       "dtype: int64"
      ]
     },
     "execution_count": 37,
     "metadata": {},
     "output_type": "execute_result"
    }
   ],
   "source": [
    "Seoul_0719.groupby('가해자성별').size()"
   ]
  },
  {
   "cell_type": "code",
   "execution_count": 36,
   "metadata": {
    "scrolled": true
   },
   "outputs": [
    {
     "data": {
      "text/plain": [
       "가해자법규위반      가해자성별\n",
       "과속           남           673\n",
       "             여            31\n",
       "교차로 통행방법 위반  남         17566\n",
       "             여          3694\n",
       "기타           남         31425\n",
       "             여          4753\n",
       "보행자 보호의무 위반  남         12875\n",
       "             여          3037\n",
       "신호위반         남         54508\n",
       "             여          9333\n",
       "안전거리 미확보     남         65886\n",
       "             여          8778\n",
       "안전운전 의무 불이행  남        222713\n",
       "             여         39129\n",
       "중앙선 침범       남         16039\n",
       "             여          2496\n",
       "dtype: int64"
      ]
     },
     "execution_count": 36,
     "metadata": {},
     "output_type": "execute_result"
    }
   ],
   "source": [
    "Seoul_0719.groupby(['가해자법규위반', '가해자성별']).size()"
   ]
  },
  {
   "cell_type": "code",
   "execution_count": 44,
   "metadata": {},
   "outputs": [
    {
     "data": {
      "text/plain": [
       "가해자법규위반      가해자성별\n",
       "과속           남           673\n",
       "             여            31\n",
       "교차로 통행방법 위반  남         17566\n",
       "             여          3694\n",
       "기타           남         31425\n",
       "             여          4753\n",
       "보행자 보호의무 위반  남         12875\n",
       "             여          3037\n",
       "신호위반         남         54508\n",
       "             여          9333\n",
       "안전거리 미확보     남         65886\n",
       "             여          8778\n",
       "안전운전 의무 불이행  남        222713\n",
       "             여         39129\n",
       "중앙선 침범       남         16039\n",
       "             여          2496\n",
       "dtype: int64"
      ]
     },
     "execution_count": 44,
     "metadata": {},
     "output_type": "execute_result"
    }
   ],
   "source": [
    "Seoul_0719.groupby(['가해자법규위반', '가해자성별']).size()"
   ]
  },
  {
   "cell_type": "code",
   "execution_count": null,
   "metadata": {},
   "outputs": [],
   "source": []
  },
  {
   "cell_type": "code",
   "execution_count": 22,
   "metadata": {},
   "outputs": [
    {
     "ename": "ValueError",
     "evalue": "Samples must be one-dimensional.",
     "output_type": "error",
     "traceback": [
      "\u001b[1;31m---------------------------------------------------------------------------\u001b[0m",
      "\u001b[1;31mValueError\u001b[0m                                Traceback (most recent call last)",
      "\u001b[1;32m<ipython-input-22-f0fb7caf985e>\u001b[0m in \u001b[0;36m<module>\u001b[1;34m\u001b[0m\n\u001b[0;32m      3\u001b[0m \u001b[0mdaytime\u001b[0m \u001b[1;33m=\u001b[0m \u001b[0mSeoul_0719\u001b[0m\u001b[1;33m[\u001b[0m\u001b[0mSeoul_0719\u001b[0m\u001b[1;33m[\u001b[0m\u001b[1;34m'주야'\u001b[0m\u001b[1;33m]\u001b[0m \u001b[1;33m==\u001b[0m \u001b[1;34m\"주\"\u001b[0m\u001b[1;33m]\u001b[0m\u001b[1;33m\u001b[0m\u001b[1;33m\u001b[0m\u001b[0m\n\u001b[0;32m      4\u001b[0m \u001b[0mnighttime\u001b[0m \u001b[1;33m=\u001b[0m \u001b[0mSeoul_0719\u001b[0m\u001b[1;33m[\u001b[0m\u001b[0mSeoul_0719\u001b[0m\u001b[1;33m[\u001b[0m\u001b[1;34m'주야'\u001b[0m\u001b[1;33m]\u001b[0m \u001b[1;33m==\u001b[0m \u001b[1;34m\"야\"\u001b[0m\u001b[1;33m]\u001b[0m\u001b[1;33m\u001b[0m\u001b[1;33m\u001b[0m\u001b[0m\n\u001b[1;32m----> 5\u001b[1;33m \u001b[0mlevene\u001b[0m\u001b[1;33m(\u001b[0m\u001b[0mdaytime\u001b[0m\u001b[1;33m[\u001b[0m\u001b[0mdaytime\u001b[0m\u001b[1;33m[\u001b[0m\u001b[1;34m'사고내용코드'\u001b[0m\u001b[1;33m]\u001b[0m \u001b[1;33m==\u001b[0m \u001b[1;36m0\u001b[0m\u001b[1;33m]\u001b[0m\u001b[1;33m,\u001b[0m \u001b[0mnighttime\u001b[0m\u001b[1;33m[\u001b[0m\u001b[0mnighttime\u001b[0m\u001b[1;33m[\u001b[0m\u001b[1;34m'사고내용코드'\u001b[0m\u001b[1;33m]\u001b[0m \u001b[1;33m==\u001b[0m \u001b[1;36m0\u001b[0m\u001b[1;33m]\u001b[0m\u001b[1;33m)\u001b[0m\u001b[1;33m\u001b[0m\u001b[1;33m\u001b[0m\u001b[0m\n\u001b[0m",
      "\u001b[1;32mC:\\ProgramData\\Anaconda3\\lib\\site-packages\\scipy\\stats\\morestats.py\u001b[0m in \u001b[0;36mlevene\u001b[1;34m(*args, **kwds)\u001b[0m\n\u001b[0;32m   2322\u001b[0m     \u001b[1;32mfor\u001b[0m \u001b[0mj\u001b[0m \u001b[1;32min\u001b[0m \u001b[0mrange\u001b[0m\u001b[1;33m(\u001b[0m\u001b[0mk\u001b[0m\u001b[1;33m)\u001b[0m\u001b[1;33m:\u001b[0m\u001b[1;33m\u001b[0m\u001b[1;33m\u001b[0m\u001b[0m\n\u001b[0;32m   2323\u001b[0m         \u001b[1;32mif\u001b[0m \u001b[0mnp\u001b[0m\u001b[1;33m.\u001b[0m\u001b[0masanyarray\u001b[0m\u001b[1;33m(\u001b[0m\u001b[0margs\u001b[0m\u001b[1;33m[\u001b[0m\u001b[0mj\u001b[0m\u001b[1;33m]\u001b[0m\u001b[1;33m)\u001b[0m\u001b[1;33m.\u001b[0m\u001b[0mndim\u001b[0m \u001b[1;33m>\u001b[0m \u001b[1;36m1\u001b[0m\u001b[1;33m:\u001b[0m\u001b[1;33m\u001b[0m\u001b[1;33m\u001b[0m\u001b[0m\n\u001b[1;32m-> 2324\u001b[1;33m             \u001b[1;32mraise\u001b[0m \u001b[0mValueError\u001b[0m\u001b[1;33m(\u001b[0m\u001b[1;34m'Samples must be one-dimensional.'\u001b[0m\u001b[1;33m)\u001b[0m\u001b[1;33m\u001b[0m\u001b[1;33m\u001b[0m\u001b[0m\n\u001b[0m\u001b[0;32m   2325\u001b[0m \u001b[1;33m\u001b[0m\u001b[0m\n\u001b[0;32m   2326\u001b[0m     \u001b[0mNi\u001b[0m \u001b[1;33m=\u001b[0m \u001b[0mzeros\u001b[0m\u001b[1;33m(\u001b[0m\u001b[0mk\u001b[0m\u001b[1;33m)\u001b[0m\u001b[1;33m\u001b[0m\u001b[1;33m\u001b[0m\u001b[0m\n",
      "\u001b[1;31mValueError\u001b[0m: Samples must be one-dimensional."
     ]
    }
   ],
   "source": [
    "from scipy.stats import levene, ttest_ind\n",
    "\n",
    "daytime = Seoul_0719[Seoul_0719['주야'] == \"주\"]\n",
    "nighttime = Seoul_0719[Seoul_0719['주야'] == \"야\"]\n",
    "levene(daytime[daytime['사고내용코드'] == 0], nighttime[nighttime['사고내용코드'] == 0])"
   ]
  },
  {
   "cell_type": "code",
   "execution_count": 164,
   "metadata": {},
   "outputs": [
    {
     "data": {
      "text/html": [
       "<div>\n",
       "<style scoped>\n",
       "    .dataframe tbody tr th:only-of-type {\n",
       "        vertical-align: middle;\n",
       "    }\n",
       "\n",
       "    .dataframe tbody tr th {\n",
       "        vertical-align: top;\n",
       "    }\n",
       "\n",
       "    .dataframe thead th {\n",
       "        text-align: right;\n",
       "    }\n",
       "</style>\n",
       "<table border=\"1\" class=\"dataframe\">\n",
       "  <thead>\n",
       "    <tr style=\"text-align: right;\">\n",
       "      <th></th>\n",
       "      <th>발생일</th>\n",
       "      <th>발생시간</th>\n",
       "      <th>요일</th>\n",
       "      <th>주야</th>\n",
       "      <th>발생지_시군구</th>\n",
       "      <th>법정동명</th>\n",
       "      <th>사고내용</th>\n",
       "      <th>사망자수</th>\n",
       "      <th>중상자수</th>\n",
       "      <th>경상자수</th>\n",
       "      <th>...</th>\n",
       "      <th>피해자성별</th>\n",
       "      <th>피해자연령</th>\n",
       "      <th>피해자신체상해정도</th>\n",
       "      <th>주야코드</th>\n",
       "      <th>사고내용코드</th>\n",
       "      <th>가해자차종코드</th>\n",
       "      <th>기상상태코드</th>\n",
       "      <th>노면상태코드</th>\n",
       "      <th>발생연도</th>\n",
       "      <th>발생월</th>\n",
       "    </tr>\n",
       "  </thead>\n",
       "  <tbody>\n",
       "    <tr>\n",
       "      <th>17</th>\n",
       "      <td>20070101</td>\n",
       "      <td>07시</td>\n",
       "      <td>월</td>\n",
       "      <td>주</td>\n",
       "      <td>동대문구</td>\n",
       "      <td>장안동</td>\n",
       "      <td>중상</td>\n",
       "      <td>0</td>\n",
       "      <td>1</td>\n",
       "      <td>0</td>\n",
       "      <td>...</td>\n",
       "      <td>남</td>\n",
       "      <td>37</td>\n",
       "      <td>중상</td>\n",
       "      <td>1</td>\n",
       "      <td>1</td>\n",
       "      <td>0</td>\n",
       "      <td>1</td>\n",
       "      <td>0</td>\n",
       "      <td>2007</td>\n",
       "      <td>1</td>\n",
       "    </tr>\n",
       "    <tr>\n",
       "      <th>18</th>\n",
       "      <td>20070101</td>\n",
       "      <td>07시</td>\n",
       "      <td>월</td>\n",
       "      <td>주</td>\n",
       "      <td>송파구</td>\n",
       "      <td>송파동</td>\n",
       "      <td>경상</td>\n",
       "      <td>0</td>\n",
       "      <td>0</td>\n",
       "      <td>2</td>\n",
       "      <td>...</td>\n",
       "      <td>남</td>\n",
       "      <td>43</td>\n",
       "      <td>경상</td>\n",
       "      <td>1</td>\n",
       "      <td>2</td>\n",
       "      <td>0</td>\n",
       "      <td>1</td>\n",
       "      <td>0</td>\n",
       "      <td>2007</td>\n",
       "      <td>1</td>\n",
       "    </tr>\n",
       "    <tr>\n",
       "      <th>19</th>\n",
       "      <td>20070101</td>\n",
       "      <td>08시</td>\n",
       "      <td>월</td>\n",
       "      <td>주</td>\n",
       "      <td>노원구</td>\n",
       "      <td>월계동</td>\n",
       "      <td>경상</td>\n",
       "      <td>0</td>\n",
       "      <td>0</td>\n",
       "      <td>1</td>\n",
       "      <td>...</td>\n",
       "      <td>남</td>\n",
       "      <td>41</td>\n",
       "      <td>경상</td>\n",
       "      <td>1</td>\n",
       "      <td>2</td>\n",
       "      <td>0</td>\n",
       "      <td>1</td>\n",
       "      <td>0</td>\n",
       "      <td>2007</td>\n",
       "      <td>1</td>\n",
       "    </tr>\n",
       "    <tr>\n",
       "      <th>20</th>\n",
       "      <td>20070101</td>\n",
       "      <td>10시</td>\n",
       "      <td>월</td>\n",
       "      <td>주</td>\n",
       "      <td>영등포구</td>\n",
       "      <td>여의도동</td>\n",
       "      <td>경상</td>\n",
       "      <td>0</td>\n",
       "      <td>0</td>\n",
       "      <td>1</td>\n",
       "      <td>...</td>\n",
       "      <td>남</td>\n",
       "      <td>31</td>\n",
       "      <td>경상</td>\n",
       "      <td>1</td>\n",
       "      <td>2</td>\n",
       "      <td>0</td>\n",
       "      <td>1</td>\n",
       "      <td>0</td>\n",
       "      <td>2007</td>\n",
       "      <td>1</td>\n",
       "    </tr>\n",
       "    <tr>\n",
       "      <th>21</th>\n",
       "      <td>20070101</td>\n",
       "      <td>11시</td>\n",
       "      <td>월</td>\n",
       "      <td>주</td>\n",
       "      <td>강동구</td>\n",
       "      <td>고덕동</td>\n",
       "      <td>중상</td>\n",
       "      <td>0</td>\n",
       "      <td>1</td>\n",
       "      <td>0</td>\n",
       "      <td>...</td>\n",
       "      <td>남</td>\n",
       "      <td>49</td>\n",
       "      <td>중상</td>\n",
       "      <td>1</td>\n",
       "      <td>1</td>\n",
       "      <td>0</td>\n",
       "      <td>1</td>\n",
       "      <td>0</td>\n",
       "      <td>2007</td>\n",
       "      <td>1</td>\n",
       "    </tr>\n",
       "    <tr>\n",
       "      <th>...</th>\n",
       "      <td>...</td>\n",
       "      <td>...</td>\n",
       "      <td>...</td>\n",
       "      <td>...</td>\n",
       "      <td>...</td>\n",
       "      <td>...</td>\n",
       "      <td>...</td>\n",
       "      <td>...</td>\n",
       "      <td>...</td>\n",
       "      <td>...</td>\n",
       "      <td>...</td>\n",
       "      <td>...</td>\n",
       "      <td>...</td>\n",
       "      <td>...</td>\n",
       "      <td>...</td>\n",
       "      <td>...</td>\n",
       "      <td>...</td>\n",
       "      <td>...</td>\n",
       "      <td>...</td>\n",
       "      <td>...</td>\n",
       "      <td>...</td>\n",
       "    </tr>\n",
       "    <tr>\n",
       "      <th>492898</th>\n",
       "      <td>20191231</td>\n",
       "      <td>16시</td>\n",
       "      <td>화</td>\n",
       "      <td>주</td>\n",
       "      <td>양천구</td>\n",
       "      <td>목동</td>\n",
       "      <td>경상</td>\n",
       "      <td>0</td>\n",
       "      <td>0</td>\n",
       "      <td>1</td>\n",
       "      <td>...</td>\n",
       "      <td>남</td>\n",
       "      <td>25</td>\n",
       "      <td>경상</td>\n",
       "      <td>1</td>\n",
       "      <td>2</td>\n",
       "      <td>0</td>\n",
       "      <td>1</td>\n",
       "      <td>0</td>\n",
       "      <td>2019</td>\n",
       "      <td>12</td>\n",
       "    </tr>\n",
       "    <tr>\n",
       "      <th>492899</th>\n",
       "      <td>20191231</td>\n",
       "      <td>16시</td>\n",
       "      <td>화</td>\n",
       "      <td>주</td>\n",
       "      <td>송파구</td>\n",
       "      <td>석촌동</td>\n",
       "      <td>경상</td>\n",
       "      <td>0</td>\n",
       "      <td>0</td>\n",
       "      <td>1</td>\n",
       "      <td>...</td>\n",
       "      <td>남</td>\n",
       "      <td>25</td>\n",
       "      <td>경상</td>\n",
       "      <td>1</td>\n",
       "      <td>2</td>\n",
       "      <td>0</td>\n",
       "      <td>1</td>\n",
       "      <td>0</td>\n",
       "      <td>2019</td>\n",
       "      <td>12</td>\n",
       "    </tr>\n",
       "    <tr>\n",
       "      <th>492900</th>\n",
       "      <td>20191231</td>\n",
       "      <td>16시</td>\n",
       "      <td>화</td>\n",
       "      <td>주</td>\n",
       "      <td>서초구</td>\n",
       "      <td>서초동</td>\n",
       "      <td>중상</td>\n",
       "      <td>0</td>\n",
       "      <td>1</td>\n",
       "      <td>0</td>\n",
       "      <td>...</td>\n",
       "      <td>남</td>\n",
       "      <td>57</td>\n",
       "      <td>중상</td>\n",
       "      <td>1</td>\n",
       "      <td>1</td>\n",
       "      <td>0</td>\n",
       "      <td>1</td>\n",
       "      <td>0</td>\n",
       "      <td>2019</td>\n",
       "      <td>12</td>\n",
       "    </tr>\n",
       "    <tr>\n",
       "      <th>492901</th>\n",
       "      <td>20191231</td>\n",
       "      <td>17시</td>\n",
       "      <td>화</td>\n",
       "      <td>주</td>\n",
       "      <td>송파구</td>\n",
       "      <td>가락동</td>\n",
       "      <td>경상</td>\n",
       "      <td>0</td>\n",
       "      <td>0</td>\n",
       "      <td>1</td>\n",
       "      <td>...</td>\n",
       "      <td>여</td>\n",
       "      <td>45</td>\n",
       "      <td>경상</td>\n",
       "      <td>1</td>\n",
       "      <td>2</td>\n",
       "      <td>0</td>\n",
       "      <td>1</td>\n",
       "      <td>0</td>\n",
       "      <td>2019</td>\n",
       "      <td>12</td>\n",
       "    </tr>\n",
       "    <tr>\n",
       "      <th>492902</th>\n",
       "      <td>20191231</td>\n",
       "      <td>17시</td>\n",
       "      <td>화</td>\n",
       "      <td>주</td>\n",
       "      <td>성북구</td>\n",
       "      <td>종암동</td>\n",
       "      <td>경상</td>\n",
       "      <td>0</td>\n",
       "      <td>0</td>\n",
       "      <td>2</td>\n",
       "      <td>...</td>\n",
       "      <td>남</td>\n",
       "      <td>54</td>\n",
       "      <td>경상</td>\n",
       "      <td>1</td>\n",
       "      <td>2</td>\n",
       "      <td>0</td>\n",
       "      <td>1</td>\n",
       "      <td>0</td>\n",
       "      <td>2019</td>\n",
       "      <td>12</td>\n",
       "    </tr>\n",
       "  </tbody>\n",
       "</table>\n",
       "<p>250802 rows × 35 columns</p>\n",
       "</div>"
      ],
      "text/plain": [
       "             발생일 발생시간 요일 주야 발생지_시군구  법정동명 사고내용  사망자수  중상자수  경상자수  ...  피해자성별  \\\n",
       "17      20070101  07시  월  주    동대문구   장안동   중상     0     1     0  ...      남   \n",
       "18      20070101  07시  월  주     송파구   송파동   경상     0     0     2  ...      남   \n",
       "19      20070101  08시  월  주     노원구   월계동   경상     0     0     1  ...      남   \n",
       "20      20070101  10시  월  주    영등포구  여의도동   경상     0     0     1  ...      남   \n",
       "21      20070101  11시  월  주     강동구   고덕동   중상     0     1     0  ...      남   \n",
       "...          ...  ... .. ..     ...   ...  ...   ...   ...   ...  ...    ...   \n",
       "492898  20191231  16시  화  주     양천구    목동   경상     0     0     1  ...      남   \n",
       "492899  20191231  16시  화  주     송파구   석촌동   경상     0     0     1  ...      남   \n",
       "492900  20191231  16시  화  주     서초구   서초동   중상     0     1     0  ...      남   \n",
       "492901  20191231  17시  화  주     송파구   가락동   경상     0     0     1  ...      여   \n",
       "492902  20191231  17시  화  주     성북구   종암동   경상     0     0     2  ...      남   \n",
       "\n",
       "       피해자연령 피해자신체상해정도 주야코드 사고내용코드 가해자차종코드 기상상태코드 노면상태코드  발생연도 발생월  \n",
       "17        37        중상    1      1       0      1      0  2007   1  \n",
       "18        43        경상    1      2       0      1      0  2007   1  \n",
       "19        41        경상    1      2       0      1      0  2007   1  \n",
       "20        31        경상    1      2       0      1      0  2007   1  \n",
       "21        49        중상    1      1       0      1      0  2007   1  \n",
       "...      ...       ...  ...    ...     ...    ...    ...   ...  ..  \n",
       "492898    25        경상    1      2       0      1      0  2019  12  \n",
       "492899    25        경상    1      2       0      1      0  2019  12  \n",
       "492900    57        중상    1      1       0      1      0  2019  12  \n",
       "492901    45        경상    1      2       0      1      0  2019  12  \n",
       "492902    54        경상    1      2       0      1      0  2019  12  \n",
       "\n",
       "[250802 rows x 35 columns]"
      ]
     },
     "execution_count": 164,
     "metadata": {},
     "output_type": "execute_result"
    }
   ],
   "source": [
    "daytime"
   ]
  },
  {
   "cell_type": "code",
   "execution_count": 144,
   "metadata": {
    "scrolled": true
   },
   "outputs": [
    {
     "data": {
      "text/plain": [
       "<matplotlib.axes._subplots.AxesSubplot at 0x25eb413d8b0>"
      ]
     },
     "execution_count": 144,
     "metadata": {},
     "output_type": "execute_result"
    },
    {
     "data": {
      "image/png": "[encoded data removed]",
      "text/plain": [
       "<Figure size 360x360 with 1 Axes>"
      ]
     },
     "metadata": {
      "needs_background": "light"
     },
     "output_type": "display_data"
    }
   ],
   "source": [
    "ct = pd.crosstab(Seoul_0719[Seoul_0719['사망자수'] >= 1]['가해자차종'], Seoul_0719[Seoul_0719['사망자수'] >= 1]['사망자수'])\n",
    "ct.plot.bar(stacked=True)   # seaborn lib"
   ]
  },
  {
   "cell_type": "code",
   "execution_count": 151,
   "metadata": {},
   "outputs": [
    {
     "data": {
      "text/plain": [
       "<matplotlib.axes._subplots.AxesSubplot at 0x25ebd1216d0>"
      ]
     },
     "execution_count": 151,
     "metadata": {},
     "output_type": "execute_result"
    },
    {
     "data": {
      "image/png": "[encoded data removed]",
      "text/plain": [
       "<Figure size 360x360 with 1 Axes>"
      ]
     },
     "metadata": {
      "needs_background": "light"
     },
     "output_type": "display_data"
    }
   ],
   "source": [
    "ct = pd.crosstab(Seoul_0719[Seoul_0719['사망자수'] >= 1]['주야'], Seoul_0719[Seoul_0719['사망자수'] >= 1]['사고내용'])\n",
    "ct.plot.bar(stacked=True)"
   ]
  },
  {
   "cell_type": "code",
   "execution_count": 142,
   "metadata": {},
   "outputs": [
    {
     "data": {
      "text/plain": [
       "<matplotlib.axes._subplots.AxesSubplot at 0x25eb32b5c40>"
      ]
     },
     "execution_count": 142,
     "metadata": {},
     "output_type": "execute_result"
    },
    {
     "data": {
      "image/png": "[encoded data removed]",
      "text/plain": [
       "<Figure size 360x360 with 1 Axes>"
      ]
     },
     "metadata": {
      "needs_background": "light"
     },
     "output_type": "display_data"
    }
   ],
   "source": [
    "ct = pd.crosstab(Seoul_0719['가해자차종'], Seoul_0719['사망자수'])\n",
    "ct.plot.bar(stacked=True) "
   ]
  },
  {
   "cell_type": "code",
   "execution_count": 94,
   "metadata": {
    "scrolled": true
   },
   "outputs": [
    {
     "data": {
      "text/plain": [
       "array([<matplotlib.axes._subplots.AxesSubplot object at 0x0000025EB389A970>,\n",
       "       <matplotlib.axes._subplots.AxesSubplot object at 0x0000025EB3915F10>,\n",
       "       <matplotlib.axes._subplots.AxesSubplot object at 0x0000025EB343B5E0>,\n",
       "       <matplotlib.axes._subplots.AxesSubplot object at 0x0000025EB33A7B80>],\n",
       "      dtype=object)"
      ]
     },
     "execution_count": 94,
     "metadata": {},
     "output_type": "execute_result"
    },
    {
     "data": {
      "image/png": "[encoded data removed]",
      "text/plain": [
       "<Figure size 720x720 with 4 Axes>"
      ]
     },
     "metadata": {},
     "output_type": "display_data"
    }
   ],
   "source": [
    "ct = pd.crosstab(Seoul_0719['주야코드'], Seoul_0719['사고내용코드'])\n",
    "ct.plot.pie(subplots=True, figsize=((10, 10)))"
   ]
  },
  {
   "cell_type": "code",
   "execution_count": 141,
   "metadata": {},
   "outputs": [
    {
     "data": {
      "text/plain": [
       "(12.523240759316282,\n",
       " 0.9979054012420726,\n",
       " 30,\n",
       " array([[9.82171429e-01, 1.66857143e-02, 9.14285714e-04, 2.28571429e-04],\n",
       "        [1.41432686e+02, 2.40274286e+00, 1.31657143e-01, 3.29142857e-02],\n",
       "        [2.94651429e+00, 5.00571429e-02, 2.74285714e-03, 6.85714286e-04],\n",
       "        [3.92868571e+00, 6.67428571e-02, 3.65714286e-03, 9.14285714e-04],\n",
       "        [2.10577554e+03, 3.57741714e+01, 1.96022857e+00, 4.90057143e-01],\n",
       "        [6.15821486e+02, 1.04619429e+01, 5.73257143e-01, 1.43314286e-01],\n",
       "        [2.00362971e+02, 3.40388571e+00, 1.86514286e-01, 4.66285714e-02],\n",
       "        [4.02690286e+02, 6.84114286e+00, 3.74857143e-01, 9.37142857e-02],\n",
       "        [1.65986971e+02, 2.81988571e+00, 1.54514286e-01, 3.86285714e-02],\n",
       "        [3.24116571e+01, 5.50628571e-01, 3.01714286e-02, 7.54285714e-03],\n",
       "        [6.24661029e+02, 1.06121143e+01, 5.81485714e-01, 1.45371429e-01]]))"
      ]
     },
     "execution_count": 141,
     "metadata": {},
     "output_type": "execute_result"
    }
   ],
   "source": [
    "from scipy import stats\n",
    "stats.chi2_contingency(ct) # 2번째 값이 p value"
   ]
  },
  {
   "cell_type": "code",
   "execution_count": 28,
   "metadata": {},
   "outputs": [
    {
     "data": {
      "text/plain": [
       "4459"
      ]
     },
     "execution_count": 28,
     "metadata": {},
     "output_type": "execute_result"
    }
   ],
   "source": [
    "Seoul_0719['사망자수'].sum()"
   ]
  },
  {
   "cell_type": "code",
   "execution_count": 43,
   "metadata": {
    "scrolled": true
   },
   "outputs": [
    {
     "data": {
      "text/html": [
       "<div>\n",
       "<style scoped>\n",
       "    .dataframe tbody tr th:only-of-type {\n",
       "        vertical-align: middle;\n",
       "    }\n",
       "\n",
       "    .dataframe tbody tr th {\n",
       "        vertical-align: top;\n",
       "    }\n",
       "\n",
       "    .dataframe thead th {\n",
       "        text-align: right;\n",
       "    }\n",
       "</style>\n",
       "<table border=\"1\" class=\"dataframe\">\n",
       "  <thead>\n",
       "    <tr style=\"text-align: right;\">\n",
       "      <th>사고내용</th>\n",
       "      <th>경상</th>\n",
       "      <th>부상신고</th>\n",
       "      <th>사망</th>\n",
       "      <th>중상</th>\n",
       "    </tr>\n",
       "    <tr>\n",
       "      <th>주야</th>\n",
       "      <th></th>\n",
       "      <th></th>\n",
       "      <th></th>\n",
       "      <th></th>\n",
       "    </tr>\n",
       "  </thead>\n",
       "  <tbody>\n",
       "    <tr>\n",
       "      <th>야</th>\n",
       "      <td>0.297503</td>\n",
       "      <td>0.026565</td>\n",
       "      <td>0.004966</td>\n",
       "      <td>0.162175</td>\n",
       "    </tr>\n",
       "    <tr>\n",
       "      <th>주</th>\n",
       "      <td>0.306530</td>\n",
       "      <td>0.030521</td>\n",
       "      <td>0.003909</td>\n",
       "      <td>0.167831</td>\n",
       "    </tr>\n",
       "  </tbody>\n",
       "</table>\n",
       "</div>"
      ],
      "text/plain": [
       "사고내용        경상      부상신고        사망        중상\n",
       "주야                                          \n",
       "야     0.297503  0.026565  0.004966  0.162175\n",
       "주     0.306530  0.030521  0.003909  0.167831"
      ]
     },
     "execution_count": 43,
     "metadata": {},
     "output_type": "execute_result"
    }
   ],
   "source": [
    "pd.crosstab(Seoul_0719['주야'], Seoul_0719['사고내용'], normalize=True)"
   ]
  },
  {
   "cell_type": "code",
   "execution_count": 44,
   "metadata": {},
   "outputs": [
    {
     "data": {
      "text/plain": [
       "<matplotlib.axes._subplots.AxesSubplot at 0x2414ed7c370>"
      ]
     },
     "execution_count": 44,
     "metadata": {},
     "output_type": "execute_result"
    },
    {
     "data": {
      "image/png": "[encoded data removed]",
      "text/plain": [
       "<Figure size 360x360 with 1 Axes>"
      ]
     },
     "metadata": {
      "needs_background": "light"
     },
     "output_type": "display_data"
    }
   ],
   "source": [
    "ct = pd.crosstab(Seoul_0719['주야'], Seoul_0719['사고내용'])\n",
    "ct.plot.bar(stacked=True)   # seaborn lib"
   ]
  },
  {
   "cell_type": "code",
   "execution_count": 121,
   "metadata": {},
   "outputs": [
    {
     "data": {
      "text/plain": [
       "(159.12445448727618,\n",
       " 2.831889267473299e-34,\n",
       " 3,\n",
       " array([[146257.42488391,  13822.61607467,   2149.03856882,\n",
       "          79905.9204726 ],\n",
       "        [151492.57511609,  14317.38392533,   2225.96143118,\n",
       "          82766.0795274 ]]))"
      ]
     },
     "execution_count": 121,
     "metadata": {},
     "output_type": "execute_result"
    }
   ],
   "source": [
    "from scipy import stats\n",
    "stats.chi2_contingency(ct) # 2번째 값이 p value"
   ]
  },
  {
   "cell_type": "code",
   "execution_count": 174,
   "metadata": {
    "scrolled": true
   },
   "outputs": [
    {
     "data": {
      "text/plain": [
       "기상상태\n",
       "기타/불명      22\n",
       "눈          30\n",
       "맑음       3630\n",
       "비         400\n",
       "안개          2\n",
       "흐림        375\n",
       "Name: 사망자수, dtype: int64"
      ]
     },
     "execution_count": 174,
     "metadata": {},
     "output_type": "execute_result"
    }
   ],
   "source": [
    "Seoul_0719.groupby('기상상태')['사망자수'].sum()"
   ]
  },
  {
   "cell_type": "code",
   "execution_count": 23,
   "metadata": {
    "scrolled": true
   },
   "outputs": [
    {
     "name": "stderr",
     "output_type": "stream",
     "text": [
      "C:\\ProgramData\\Anaconda3\\lib\\site-packages\\matplotlib\\backends\\backend_agg.py:214: RuntimeWarning: Glyph 8722 missing from current font.\n",
      "  font.set_text(s, 0.0, flags=flags)\n",
      "C:\\ProgramData\\Anaconda3\\lib\\site-packages\\matplotlib\\backends\\backend_agg.py:183: RuntimeWarning: Glyph 8722 missing from current font.\n",
      "  font.set_text(s, 0, flags=flags)\n"
     ]
    },
    {
     "data": {
      "text/plain": [
       "<matplotlib.axes._subplots.AxesSubplot at 0x25ec459a3a0>"
      ]
     },
     "execution_count": 23,
     "metadata": {},
     "output_type": "execute_result"
    },
    {
     "data": {
      "image/png": "[encoded data removed]",
      "text/plain": [
       "<Figure size 360x360 with 2 Axes>"
      ]
     },
     "metadata": {
      "needs_background": "light"
     },
     "output_type": "display_data"
    }
   ],
   "source": [
    "sns.heatmap(Seoul_0719.corr())"
   ]
  },
  {
   "cell_type": "code",
   "execution_count": 165,
   "metadata": {
    "scrolled": true
   },
   "outputs": [
    {
     "name": "stdout",
     "output_type": "stream",
     "text": [
      "<class 'pandas.core.frame.DataFrame'>\n",
      "RangeIndex: 492937 entries, 0 to 492936\n",
      "Data columns (total 35 columns):\n",
      " #   Column     Non-Null Count   Dtype \n",
      "---  ------     --------------   ----- \n",
      " 0   발생일        492937 non-null  object\n",
      " 1   발생시간       492937 non-null  object\n",
      " 2   요일         492937 non-null  object\n",
      " 3   주야         492937 non-null  object\n",
      " 4   발생지_시군구    492937 non-null  object\n",
      " 5   법정동명       492849 non-null  object\n",
      " 6   사고내용       492937 non-null  object\n",
      " 7   사망자수       492937 non-null  int64 \n",
      " 8   중상자수       492937 non-null  int64 \n",
      " 9   경상자수       492937 non-null  int64 \n",
      " 10  부상신고자수     492937 non-null  int64 \n",
      " 11  사고유형_대분류   492937 non-null  object\n",
      " 12  사고유형_중분류   492937 non-null  object\n",
      " 13  사고유형       492937 non-null  object\n",
      " 14  가해자법규위반    492936 non-null  object\n",
      " 15  노면상태_대분류   492937 non-null  object\n",
      " 16  노면상태       492937 non-null  object\n",
      " 17  기상상태       492937 non-null  object\n",
      " 18  도로형태_대분류   492937 non-null  object\n",
      " 19  도로형태       492937 non-null  object\n",
      " 20  가해자차종      492937 non-null  object\n",
      " 21  가해자성별      492937 non-null  object\n",
      " 22  가해자연령      492937 non-null  int64 \n",
      " 23  가해자신체상해정도  492937 non-null  object\n",
      " 24  피해자차종      492937 non-null  object\n",
      " 25  피해자성별      492937 non-null  object\n",
      " 26  피해자연령      492937 non-null  int64 \n",
      " 27  피해자신체상해정도  492937 non-null  object\n",
      " 28  주야코드       492937 non-null  int64 \n",
      " 29  사고내용코드     492937 non-null  int64 \n",
      " 30  가해자차종코드    492937 non-null  int64 \n",
      " 31  기상상태코드     492937 non-null  int64 \n",
      " 32  노면상태코드     492937 non-null  int64 \n",
      " 33  발생연도       492937 non-null  int32 \n",
      " 34  발생월        492937 non-null  int32 \n",
      "dtypes: int32(2), int64(11), object(22)\n",
      "memory usage: 127.9+ MB\n"
     ]
    }
   ],
   "source": [
    "Seoul_0719.info()"
   ]
  },
  {
   "cell_type": "code",
   "execution_count": null,
   "metadata": {},
   "outputs": [],
   "source": [
    "Seoul_0719.groupby('사고유형_대분류')['사망자수'].sum().plot.bar(x=x-1, color='red', grid=True)\n",
    "plt.legend(['연간 사망자수'], loc='lower right')\n",
    "plt.show()"
   ]
  },
  {
   "cell_type": "code",
   "execution_count": 16,
   "metadata": {
    "scrolled": false
   },
   "outputs": [
    {
     "data": {
      "text/plain": [
       "0       0.50\n",
       "2749    0.25\n",
       "1710    0.25\n",
       "Name: 사망자수, dtype: float64"
      ]
     },
     "execution_count": 16,
     "metadata": {},
     "output_type": "execute_result"
    }
   ],
   "source": [
    "Seoul_0719.groupby('사고유형_대분류')['사망자수'].sum().value_counts(normalize=True)"
   ]
  },
  {
   "cell_type": "code",
   "execution_count": 51,
   "metadata": {
    "scrolled": true
   },
   "outputs": [
    {
     "data": {
      "text/html": [
       "<div>\n",
       "<style scoped>\n",
       "    .dataframe tbody tr th:only-of-type {\n",
       "        vertical-align: middle;\n",
       "    }\n",
       "\n",
       "    .dataframe tbody tr th {\n",
       "        vertical-align: top;\n",
       "    }\n",
       "\n",
       "    .dataframe thead th {\n",
       "        text-align: right;\n",
       "    }\n",
       "</style>\n",
       "<table border=\"1\" class=\"dataframe\">\n",
       "  <thead>\n",
       "    <tr style=\"text-align: right;\">\n",
       "      <th></th>\n",
       "      <th>발생일</th>\n",
       "      <th>사망자수</th>\n",
       "      <th>중상자수</th>\n",
       "      <th>경상자수</th>\n",
       "      <th>부상신고자수</th>\n",
       "      <th>가해자연령</th>\n",
       "      <th>피해자연령</th>\n",
       "      <th>주야코드</th>\n",
       "      <th>사고내용코드</th>\n",
       "      <th>가해자차종코드</th>\n",
       "      <th>기상상태코드</th>\n",
       "      <th>노면상태코드</th>\n",
       "      <th>발생연도</th>\n",
       "      <th>발생월</th>\n",
       "    </tr>\n",
       "    <tr>\n",
       "      <th>가해자차종</th>\n",
       "      <th></th>\n",
       "      <th></th>\n",
       "      <th></th>\n",
       "      <th></th>\n",
       "      <th></th>\n",
       "      <th></th>\n",
       "      <th></th>\n",
       "      <th></th>\n",
       "      <th></th>\n",
       "      <th></th>\n",
       "      <th></th>\n",
       "      <th></th>\n",
       "      <th></th>\n",
       "      <th></th>\n",
       "    </tr>\n",
       "  </thead>\n",
       "  <tbody>\n",
       "    <tr>\n",
       "      <th>개인형이동수단(PM)</th>\n",
       "      <td>4037180250</td>\n",
       "      <td>1</td>\n",
       "      <td>56</td>\n",
       "      <td>115</td>\n",
       "      <td>42</td>\n",
       "      <td>6544</td>\n",
       "      <td>9111</td>\n",
       "      <td>121</td>\n",
       "      <td>382</td>\n",
       "      <td>1600</td>\n",
       "      <td>24</td>\n",
       "      <td>65</td>\n",
       "      <td>403701</td>\n",
       "      <td>1671</td>\n",
       "    </tr>\n",
       "    <tr>\n",
       "      <th>건설기계</th>\n",
       "      <td>48697497700</td>\n",
       "      <td>145</td>\n",
       "      <td>1077</td>\n",
       "      <td>2231</td>\n",
       "      <td>194</td>\n",
       "      <td>117368</td>\n",
       "      <td>116975</td>\n",
       "      <td>2081</td>\n",
       "      <td>3701</td>\n",
       "      <td>14508</td>\n",
       "      <td>400</td>\n",
       "      <td>602</td>\n",
       "      <td>4869581</td>\n",
       "      <td>16493</td>\n",
       "    </tr>\n",
       "    <tr>\n",
       "      <th>기타</th>\n",
       "      <td>3023375430</td>\n",
       "      <td>3</td>\n",
       "      <td>52</td>\n",
       "      <td>83</td>\n",
       "      <td>30</td>\n",
       "      <td>7989</td>\n",
       "      <td>7141</td>\n",
       "      <td>101</td>\n",
       "      <td>271</td>\n",
       "      <td>1350</td>\n",
       "      <td>34</td>\n",
       "      <td>27</td>\n",
       "      <td>302327</td>\n",
       "      <td>1031</td>\n",
       "    </tr>\n",
       "    <tr>\n",
       "      <th>농기계</th>\n",
       "      <td>563770245</td>\n",
       "      <td>0</td>\n",
       "      <td>10</td>\n",
       "      <td>9</td>\n",
       "      <td>9</td>\n",
       "      <td>1691</td>\n",
       "      <td>1431</td>\n",
       "      <td>18</td>\n",
       "      <td>55</td>\n",
       "      <td>308</td>\n",
       "      <td>9</td>\n",
       "      <td>6</td>\n",
       "      <td>56375</td>\n",
       "      <td>198</td>\n",
       "    </tr>\n",
       "    <tr>\n",
       "      <th>불명</th>\n",
       "      <td>2980073536</td>\n",
       "      <td>4</td>\n",
       "      <td>67</td>\n",
       "      <td>68</td>\n",
       "      <td>22</td>\n",
       "      <td>8083</td>\n",
       "      <td>6951</td>\n",
       "      <td>77</td>\n",
       "      <td>244</td>\n",
       "      <td>1480</td>\n",
       "      <td>55</td>\n",
       "      <td>55</td>\n",
       "      <td>297997</td>\n",
       "      <td>1011</td>\n",
       "    </tr>\n",
       "    <tr>\n",
       "      <th>사륜오토바이(ATV)</th>\n",
       "      <td>524755981</td>\n",
       "      <td>0</td>\n",
       "      <td>6</td>\n",
       "      <td>22</td>\n",
       "      <td>6</td>\n",
       "      <td>1216</td>\n",
       "      <td>1293</td>\n",
       "      <td>17</td>\n",
       "      <td>52</td>\n",
       "      <td>312</td>\n",
       "      <td>2</td>\n",
       "      <td>2</td>\n",
       "      <td>52474</td>\n",
       "      <td>157</td>\n",
       "    </tr>\n",
       "    <tr>\n",
       "      <th>승용차</th>\n",
       "      <td>6995318758234</td>\n",
       "      <td>2197</td>\n",
       "      <td>127387</td>\n",
       "      <td>359834</td>\n",
       "      <td>28095</td>\n",
       "      <td>16309488</td>\n",
       "      <td>14848877</td>\n",
       "      <td>165028</td>\n",
       "      <td>591869</td>\n",
       "      <td>0</td>\n",
       "      <td>99024</td>\n",
       "      <td>127469</td>\n",
       "      <td>699508243</td>\n",
       "      <td>2308210</td>\n",
       "    </tr>\n",
       "    <tr>\n",
       "      <th>승합차</th>\n",
       "      <td>652582932767</td>\n",
       "      <td>637</td>\n",
       "      <td>14908</td>\n",
       "      <td>31679</td>\n",
       "      <td>3486</td>\n",
       "      <td>1606332</td>\n",
       "      <td>1450897</td>\n",
       "      <td>19415</td>\n",
       "      <td>52145</td>\n",
       "      <td>97266</td>\n",
       "      <td>8479</td>\n",
       "      <td>10814</td>\n",
       "      <td>65256075</td>\n",
       "      <td>216682</td>\n",
       "    </tr>\n",
       "    <tr>\n",
       "      <th>원동기장치자전거</th>\n",
       "      <td>309156449696</td>\n",
       "      <td>209</td>\n",
       "      <td>5361</td>\n",
       "      <td>9807</td>\n",
       "      <td>3122</td>\n",
       "      <td>499708</td>\n",
       "      <td>663318</td>\n",
       "      <td>7514</td>\n",
       "      <td>27801</td>\n",
       "      <td>76815</td>\n",
       "      <td>3396</td>\n",
       "      <td>4683</td>\n",
       "      <td>30914576</td>\n",
       "      <td>104475</td>\n",
       "    </tr>\n",
       "    <tr>\n",
       "      <th>이륜차</th>\n",
       "      <td>738061985226</td>\n",
       "      <td>418</td>\n",
       "      <td>12798</td>\n",
       "      <td>24406</td>\n",
       "      <td>7791</td>\n",
       "      <td>1238567</td>\n",
       "      <td>1610587</td>\n",
       "      <td>18165</td>\n",
       "      <td>66659</td>\n",
       "      <td>73312</td>\n",
       "      <td>8060</td>\n",
       "      <td>10520</td>\n",
       "      <td>73803614</td>\n",
       "      <td>252674</td>\n",
       "    </tr>\n",
       "    <tr>\n",
       "      <th>자전거</th>\n",
       "      <td>347730654917</td>\n",
       "      <td>169</td>\n",
       "      <td>4955</td>\n",
       "      <td>8997</td>\n",
       "      <td>4675</td>\n",
       "      <td>712525</td>\n",
       "      <td>806087</td>\n",
       "      <td>11058</td>\n",
       "      <td>33546</td>\n",
       "      <td>69056</td>\n",
       "      <td>2302</td>\n",
       "      <td>3833</td>\n",
       "      <td>34771835</td>\n",
       "      <td>120327</td>\n",
       "    </tr>\n",
       "    <tr>\n",
       "      <th>특수차</th>\n",
       "      <td>19784945589</td>\n",
       "      <td>33</td>\n",
       "      <td>484</td>\n",
       "      <td>880</td>\n",
       "      <td>103</td>\n",
       "      <td>41944</td>\n",
       "      <td>44895</td>\n",
       "      <td>646</td>\n",
       "      <td>1542</td>\n",
       "      <td>6881</td>\n",
       "      <td>226</td>\n",
       "      <td>335</td>\n",
       "      <td>1978428</td>\n",
       "      <td>6498</td>\n",
       "    </tr>\n",
       "    <tr>\n",
       "      <th>화물차</th>\n",
       "      <td>800295112881</td>\n",
       "      <td>643</td>\n",
       "      <td>17127</td>\n",
       "      <td>34822</td>\n",
       "      <td>3069</td>\n",
       "      <td>1855509</td>\n",
       "      <td>1809693</td>\n",
       "      <td>26561</td>\n",
       "      <td>64325</td>\n",
       "      <td>39758</td>\n",
       "      <td>10480</td>\n",
       "      <td>13971</td>\n",
       "      <td>80026804</td>\n",
       "      <td>264401</td>\n",
       "    </tr>\n",
       "  </tbody>\n",
       "</table>\n",
       "</div>"
      ],
      "text/plain": [
       "                       발생일  사망자수    중상자수    경상자수  부상신고자수     가해자연령     피해자연령  \\\n",
       "가해자차종                                                                          \n",
       "개인형이동수단(PM)     4037180250     1      56     115      42      6544      9111   \n",
       "건설기계           48697497700   145    1077    2231     194    117368    116975   \n",
       "기타              3023375430     3      52      83      30      7989      7141   \n",
       "농기계              563770245     0      10       9       9      1691      1431   \n",
       "불명              2980073536     4      67      68      22      8083      6951   \n",
       "사륜오토바이(ATV)      524755981     0       6      22       6      1216      1293   \n",
       "승용차          6995318758234  2197  127387  359834   28095  16309488  14848877   \n",
       "승합차           652582932767   637   14908   31679    3486   1606332   1450897   \n",
       "원동기장치자전거      309156449696   209    5361    9807    3122    499708    663318   \n",
       "이륜차           738061985226   418   12798   24406    7791   1238567   1610587   \n",
       "자전거           347730654917   169    4955    8997    4675    712525    806087   \n",
       "특수차            19784945589    33     484     880     103     41944     44895   \n",
       "화물차           800295112881   643   17127   34822    3069   1855509   1809693   \n",
       "\n",
       "               주야코드  사고내용코드  가해자차종코드  기상상태코드  노면상태코드       발생연도      발생월  \n",
       "가해자차종                                                                     \n",
       "개인형이동수단(PM)     121     382     1600      24      65     403701     1671  \n",
       "건설기계           2081    3701    14508     400     602    4869581    16493  \n",
       "기타              101     271     1350      34      27     302327     1031  \n",
       "농기계              18      55      308       9       6      56375      198  \n",
       "불명               77     244     1480      55      55     297997     1011  \n",
       "사륜오토바이(ATV)      17      52      312       2       2      52474      157  \n",
       "승용차          165028  591869        0   99024  127469  699508243  2308210  \n",
       "승합차           19415   52145    97266    8479   10814   65256075   216682  \n",
       "원동기장치자전거       7514   27801    76815    3396    4683   30914576   104475  \n",
       "이륜차           18165   66659    73312    8060   10520   73803614   252674  \n",
       "자전거           11058   33546    69056    2302    3833   34771835   120327  \n",
       "특수차             646    1542     6881     226     335    1978428     6498  \n",
       "화물차           26561   64325    39758   10480   13971   80026804   264401  "
      ]
     },
     "execution_count": 51,
     "metadata": {},
     "output_type": "execute_result"
    }
   ],
   "source": [
    "Seoul_0719.groupby('가해자차종').sum()"
   ]
  },
  {
   "cell_type": "code",
   "execution_count": 78,
   "metadata": {},
   "outputs": [
    {
     "data": {
      "text/plain": [
       "array([0.5       , 5.99669148, 2.        , 0.        , 2.7027027 ,\n",
       "       0.        , 0.63219201, 1.96471532, 1.36041138, 1.14033173,\n",
       "       0.97891566, 3.35707019, 1.61728457])"
      ]
     },
     "execution_count": 78,
     "metadata": {},
     "output_type": "execute_result"
    }
   ],
   "source": [
    "import numpy as np\n",
    "\n",
    "mx_1 = np.array(Seoul_0719.groupby('가해자차종').sum()['사망자수'])\n",
    "mx_2 = np.array(Seoul_0719.groupby('가해자차종').size())\n",
    "#li_1 = list(Seoul_0719.groupby('가해자차종').sum()['사망자수'])\n",
    "#li_2 = list(Seoul_0719.groupby('가해자차종').size())\n",
    "\n",
    "\n",
    "mx_re = (mx_1 / mx_2) * 100\n",
    "mx_re"
   ]
  },
  {
   "cell_type": "code",
   "execution_count": 68,
   "metadata": {},
   "outputs": [
    {
     "data": {
      "text/plain": [
       "가해자차종\n",
       "개인형이동수단(PM)       1\n",
       "건설기계            145\n",
       "기타                3\n",
       "농기계               0\n",
       "불명                4\n",
       "사륜오토바이(ATV)       0\n",
       "승용차            2197\n",
       "승합차             637\n",
       "원동기장치자전거        209\n",
       "이륜차             418\n",
       "자전거             169\n",
       "특수차              33\n",
       "화물차             643\n",
       "Name: 사망자수, dtype: int64"
      ]
     },
     "execution_count": 68,
     "metadata": {},
     "output_type": "execute_result"
    }
   ],
   "source": [
    "Seoul_0719.groupby('가해자차종').sum()['사망자수']"
   ]
  },
  {
   "cell_type": "code",
   "execution_count": 60,
   "metadata": {
    "scrolled": true
   },
   "outputs": [
    {
     "data": {
      "text/plain": [
       "가해자차종\n",
       "개인형이동수단(PM)       200\n",
       "건설기계             2418\n",
       "기타                150\n",
       "농기계                28\n",
       "불명                148\n",
       "사륜오토바이(ATV)        26\n",
       "승용차            347521\n",
       "승합차             32422\n",
       "원동기장치자전거        15363\n",
       "이륜차             36656\n",
       "자전거             17264\n",
       "특수차               983\n",
       "화물차             39758\n",
       "dtype: int64"
      ]
     },
     "execution_count": 60,
     "metadata": {},
     "output_type": "execute_result"
    }
   ],
   "source": [
    "Seoul_0719.groupby('가해자차종').size()"
   ]
  },
  {
   "cell_type": "code",
   "execution_count": 71,
   "metadata": {},
   "outputs": [
    {
     "data": {
      "text/plain": [
       "사고유형_중분류\n",
       "기타       351\n",
       "정면충돌     253\n",
       "추돌       346\n",
       "측면충돌     760\n",
       "후진중충돌      0\n",
       "Name: 사망자수, dtype: int64"
      ]
     },
     "execution_count": 71,
     "metadata": {},
     "output_type": "execute_result"
    }
   ],
   "source": [
    "Seoul_0719[Seoul_0719['사고유형_대분류'] == '차대차'].groupby('사고유형_중분류').sum()['사망자수']\n"
   ]
  },
  {
   "cell_type": "code",
   "execution_count": 72,
   "metadata": {},
   "outputs": [
    {
     "data": {
      "text/plain": [
       "사고유형_중분류\n",
       "기타        70532\n",
       "정면충돌      16353\n",
       "추돌       110393\n",
       "측면충돌     165130\n",
       "후진중충돌      1200\n",
       "dtype: int64"
      ]
     },
     "execution_count": 72,
     "metadata": {},
     "output_type": "execute_result"
    }
   ],
   "source": [
    "Seoul_0719[Seoul_0719['사고유형_대분류'] == '차대차'].groupby('사고유형_중분류').size()"
   ]
  },
  {
   "cell_type": "code",
   "execution_count": 74,
   "metadata": {},
   "outputs": [
    {
     "data": {
      "text/html": [
       "<div>\n",
       "<style scoped>\n",
       "    .dataframe tbody tr th:only-of-type {\n",
       "        vertical-align: middle;\n",
       "    }\n",
       "\n",
       "    .dataframe tbody tr th {\n",
       "        vertical-align: top;\n",
       "    }\n",
       "\n",
       "    .dataframe thead th {\n",
       "        text-align: right;\n",
       "    }\n",
       "</style>\n",
       "<table border=\"1\" class=\"dataframe\">\n",
       "  <thead>\n",
       "    <tr style=\"text-align: right;\">\n",
       "      <th></th>\n",
       "      <th>mx_1</th>\n",
       "      <th>mx_2</th>\n",
       "      <th>mx_re</th>\n",
       "    </tr>\n",
       "  </thead>\n",
       "  <tbody>\n",
       "    <tr>\n",
       "      <th>0</th>\n",
       "      <td>694</td>\n",
       "      <td>44703</td>\n",
       "      <td>1.552469</td>\n",
       "    </tr>\n",
       "    <tr>\n",
       "      <th>1</th>\n",
       "      <td>74</td>\n",
       "      <td>9642</td>\n",
       "      <td>0.767476</td>\n",
       "    </tr>\n",
       "    <tr>\n",
       "      <th>2</th>\n",
       "      <td>115</td>\n",
       "      <td>8186</td>\n",
       "      <td>1.404838</td>\n",
       "    </tr>\n",
       "    <tr>\n",
       "      <th>3</th>\n",
       "      <td>337</td>\n",
       "      <td>13433</td>\n",
       "      <td>2.508747</td>\n",
       "    </tr>\n",
       "    <tr>\n",
       "      <th>4</th>\n",
       "      <td>1529</td>\n",
       "      <td>53358</td>\n",
       "      <td>2.865550</td>\n",
       "    </tr>\n",
       "  </tbody>\n",
       "</table>\n",
       "</div>"
      ],
      "text/plain": [
       "   mx_1   mx_2     mx_re\n",
       "0   694  44703  1.552469\n",
       "1    74   9642  0.767476\n",
       "2   115   8186  1.404838\n",
       "3   337  13433  2.508747\n",
       "4  1529  53358  2.865550"
      ]
     },
     "execution_count": 74,
     "metadata": {},
     "output_type": "execute_result"
    }
   ],
   "source": [
    "mx_1 = np.array(Seoul_0719[Seoul_0719['사고유형_대분류'] == '차대사람'].groupby('사고유형_중분류').sum()['사망자수'])\n",
    "mx_2 = np.array(Seoul_0719[Seoul_0719['사고유형_대분류'] == '차대사람'].groupby('사고유형_중분류').size())\n",
    "#li_1 = list(Seoul_0719.groupby('가해자차종').sum()['사망자수'])\n",
    "#li_2 = list(Seoul_0719.groupby('가해자차종').size())\n",
    "\n",
    "mx_re = (mx_1 / mx_2) * 100\n",
    "mx_re\n",
    "\n",
    "tmp_dict = {'mx_1':mx_1, 'mx_2':mx_2, 'mx_re':mx_re}\n",
    "df_temp = pd.DataFrame(tmp_dict)\n",
    "df_temp"
   ]
  },
  {
   "cell_type": "code",
   "execution_count": 75,
   "metadata": {
    "scrolled": false
   },
   "outputs": [
    {
     "data": {
      "text/plain": [
       "사고유형_중분류\n",
       "기타             694\n",
       "길가장자리구역통행중      74\n",
       "보도통행중          115\n",
       "차도통행중          337\n",
       "횡단중           1529\n",
       "Name: 사망자수, dtype: int64"
      ]
     },
     "execution_count": 75,
     "metadata": {},
     "output_type": "execute_result"
    }
   ],
   "source": [
    "Seoul_0719[Seoul_0719['사고유형_대분류'] == '차대사람'].groupby('사고유형_중분류').sum()['사망자수']"
   ]
  },
  {
   "cell_type": "code",
   "execution_count": 96,
   "metadata": {},
   "outputs": [
    {
     "data": {
      "text/plain": [
       "34        사망\n",
       "127       사망\n",
       "149       사망\n",
       "512       사망\n",
       "591       사망\n",
       "          ..\n",
       "492468    사망\n",
       "492746    사망\n",
       "492751    사망\n",
       "492848    사망\n",
       "492856    사망\n",
       "Name: 사고내용, Length: 4375, dtype: object"
      ]
     },
     "execution_count": 96,
     "metadata": {},
     "output_type": "execute_result"
    }
   ],
   "source": [
    "Seoul_0719[Seoul_0719['사고내용'] == '사망']['사고내용']"
   ]
  },
  {
   "cell_type": "code",
   "execution_count": 106,
   "metadata": {},
   "outputs": [],
   "source": [
    "ct = pd.crosstab(Seoul_0719['가해자차종'], Seoul_0719['사망여부'])"
   ]
  },
  {
   "cell_type": "code",
   "execution_count": 107,
   "metadata": {},
   "outputs": [
    {
     "data": {
      "text/html": [
       "<div>\n",
       "<style scoped>\n",
       "    .dataframe tbody tr th:only-of-type {\n",
       "        vertical-align: middle;\n",
       "    }\n",
       "\n",
       "    .dataframe tbody tr th {\n",
       "        vertical-align: top;\n",
       "    }\n",
       "\n",
       "    .dataframe thead th {\n",
       "        text-align: right;\n",
       "    }\n",
       "</style>\n",
       "<table border=\"1\" class=\"dataframe\">\n",
       "  <thead>\n",
       "    <tr style=\"text-align: right;\">\n",
       "      <th>사망여부</th>\n",
       "      <th>0</th>\n",
       "      <th>1</th>\n",
       "    </tr>\n",
       "    <tr>\n",
       "      <th>가해자차종</th>\n",
       "      <th></th>\n",
       "      <th></th>\n",
       "    </tr>\n",
       "  </thead>\n",
       "  <tbody>\n",
       "    <tr>\n",
       "      <th>개인형이동수단(PM)</th>\n",
       "      <td>1</td>\n",
       "      <td>199</td>\n",
       "    </tr>\n",
       "    <tr>\n",
       "      <th>건설기계</th>\n",
       "      <td>144</td>\n",
       "      <td>2274</td>\n",
       "    </tr>\n",
       "    <tr>\n",
       "      <th>기타</th>\n",
       "      <td>3</td>\n",
       "      <td>147</td>\n",
       "    </tr>\n",
       "    <tr>\n",
       "      <th>농기계</th>\n",
       "      <td>0</td>\n",
       "      <td>28</td>\n",
       "    </tr>\n",
       "    <tr>\n",
       "      <th>불명</th>\n",
       "      <td>4</td>\n",
       "      <td>144</td>\n",
       "    </tr>\n",
       "    <tr>\n",
       "      <th>사륜오토바이(ATV)</th>\n",
       "      <td>0</td>\n",
       "      <td>26</td>\n",
       "    </tr>\n",
       "    <tr>\n",
       "      <th>승용차</th>\n",
       "      <td>2144</td>\n",
       "      <td>345377</td>\n",
       "    </tr>\n",
       "    <tr>\n",
       "      <th>승합차</th>\n",
       "      <td>627</td>\n",
       "      <td>31795</td>\n",
       "    </tr>\n",
       "    <tr>\n",
       "      <th>원동기장치자전거</th>\n",
       "      <td>204</td>\n",
       "      <td>15159</td>\n",
       "    </tr>\n",
       "    <tr>\n",
       "      <th>이륜차</th>\n",
       "      <td>410</td>\n",
       "      <td>36246</td>\n",
       "    </tr>\n",
       "    <tr>\n",
       "      <th>자전거</th>\n",
       "      <td>169</td>\n",
       "      <td>17095</td>\n",
       "    </tr>\n",
       "    <tr>\n",
       "      <th>특수차</th>\n",
       "      <td>33</td>\n",
       "      <td>950</td>\n",
       "    </tr>\n",
       "    <tr>\n",
       "      <th>화물차</th>\n",
       "      <td>636</td>\n",
       "      <td>39122</td>\n",
       "    </tr>\n",
       "  </tbody>\n",
       "</table>\n",
       "</div>"
      ],
      "text/plain": [
       "사망여부            0       1\n",
       "가해자차종                    \n",
       "개인형이동수단(PM)     1     199\n",
       "건설기계          144    2274\n",
       "기타              3     147\n",
       "농기계             0      28\n",
       "불명              4     144\n",
       "사륜오토바이(ATV)     0      26\n",
       "승용차          2144  345377\n",
       "승합차           627   31795\n",
       "원동기장치자전거      204   15159\n",
       "이륜차           410   36246\n",
       "자전거           169   17095\n",
       "특수차            33     950\n",
       "화물차           636   39122"
      ]
     },
     "execution_count": 107,
     "metadata": {},
     "output_type": "execute_result"
    }
   ],
   "source": [
    "ct"
   ]
  },
  {
   "cell_type": "code",
   "execution_count": 108,
   "metadata": {},
   "outputs": [
    {
     "data": {
      "text/plain": [
       "(1762.3290053070768,\n",
       " 0.0,\n",
       " 12,\n",
       " array([[1.77507471e+00, 1.98224925e+02],\n",
       "        [2.14606532e+01, 2.39653935e+03],\n",
       "        [1.33130603e+00, 1.48668694e+02],\n",
       "        [2.48510459e-01, 2.77514895e+01],\n",
       "        [1.31355528e+00, 1.46686445e+02],\n",
       "        [2.30759712e-01, 2.57692403e+01],\n",
       "        [3.08437868e+03, 3.44436621e+05],\n",
       "        [2.87757360e+02, 3.21342426e+04],\n",
       "        [1.36352363e+02, 1.52266476e+04],\n",
       "        [3.25335692e+02, 3.63306643e+04],\n",
       "        [1.53224449e+02, 1.71107756e+04],\n",
       "        [8.72449218e+00, 9.74275508e+02],\n",
       "        [3.52867101e+02, 3.94051329e+04]]))"
      ]
     },
     "execution_count": 108,
     "metadata": {},
     "output_type": "execute_result"
    }
   ],
   "source": [
    "#ct = pd.crosstab(Seoul_0719['가해자차종'], Seoul_0719['사고내용'])\n",
    "stats.chi2_contingency(ct)"
   ]
  },
  {
   "cell_type": "code",
   "execution_count": 81,
   "metadata": {},
   "outputs": [
    {
     "data": {
      "text/plain": [
       "가해자차종\n",
       "개인형이동수단(PM)       1\n",
       "건설기계            145\n",
       "기타                3\n",
       "농기계               0\n",
       "불명                4\n",
       "사륜오토바이(ATV)       0\n",
       "승용차            2197\n",
       "승합차             637\n",
       "원동기장치자전거        209\n",
       "이륜차             418\n",
       "자전거             169\n",
       "특수차              33\n",
       "화물차             643\n",
       "Name: 사망자수, dtype: int64"
      ]
     },
     "execution_count": 81,
     "metadata": {},
     "output_type": "execute_result"
    }
   ],
   "source": [
    "Seoul_0719.groupby('가해자차종').sum()['사망자수']"
   ]
  },
  {
   "cell_type": "code",
   "execution_count": 124,
   "metadata": {},
   "outputs": [
    {
     "data": {
      "text/html": [
       "<div>\n",
       "<style scoped>\n",
       "    .dataframe tbody tr th:only-of-type {\n",
       "        vertical-align: middle;\n",
       "    }\n",
       "\n",
       "    .dataframe tbody tr th {\n",
       "        vertical-align: top;\n",
       "    }\n",
       "\n",
       "    .dataframe thead th {\n",
       "        text-align: right;\n",
       "    }\n",
       "</style>\n",
       "<table border=\"1\" class=\"dataframe\">\n",
       "  <thead>\n",
       "    <tr style=\"text-align: right;\">\n",
       "      <th>mx_2</th>\n",
       "      <th>1200</th>\n",
       "      <th>16353</th>\n",
       "      <th>70532</th>\n",
       "      <th>110393</th>\n",
       "      <th>165130</th>\n",
       "    </tr>\n",
       "    <tr>\n",
       "      <th>mx_1</th>\n",
       "      <th></th>\n",
       "      <th></th>\n",
       "      <th></th>\n",
       "      <th></th>\n",
       "      <th></th>\n",
       "    </tr>\n",
       "  </thead>\n",
       "  <tbody>\n",
       "    <tr>\n",
       "      <th>0</th>\n",
       "      <td>1</td>\n",
       "      <td>0</td>\n",
       "      <td>0</td>\n",
       "      <td>0</td>\n",
       "      <td>0</td>\n",
       "    </tr>\n",
       "    <tr>\n",
       "      <th>253</th>\n",
       "      <td>0</td>\n",
       "      <td>1</td>\n",
       "      <td>0</td>\n",
       "      <td>0</td>\n",
       "      <td>0</td>\n",
       "    </tr>\n",
       "    <tr>\n",
       "      <th>346</th>\n",
       "      <td>0</td>\n",
       "      <td>0</td>\n",
       "      <td>0</td>\n",
       "      <td>1</td>\n",
       "      <td>0</td>\n",
       "    </tr>\n",
       "    <tr>\n",
       "      <th>351</th>\n",
       "      <td>0</td>\n",
       "      <td>0</td>\n",
       "      <td>1</td>\n",
       "      <td>0</td>\n",
       "      <td>0</td>\n",
       "    </tr>\n",
       "    <tr>\n",
       "      <th>760</th>\n",
       "      <td>0</td>\n",
       "      <td>0</td>\n",
       "      <td>0</td>\n",
       "      <td>0</td>\n",
       "      <td>1</td>\n",
       "    </tr>\n",
       "  </tbody>\n",
       "</table>\n",
       "</div>"
      ],
      "text/plain": [
       "mx_2  1200    16353   70532   110393  165130\n",
       "mx_1                                        \n",
       "0          1       0       0       0       0\n",
       "253        0       1       0       0       0\n",
       "346        0       0       0       1       0\n",
       "351        0       0       1       0       0\n",
       "760        0       0       0       0       1"
      ]
     },
     "execution_count": 124,
     "metadata": {},
     "output_type": "execute_result"
    }
   ],
   "source": [
    "pd.crosstab(df_temp['mx_1'], df_temp['mx_2'])"
   ]
  },
  {
   "cell_type": "code",
   "execution_count": 130,
   "metadata": {},
   "outputs": [
    {
     "data": {
      "text/html": [
       "<div>\n",
       "<style scoped>\n",
       "    .dataframe tbody tr th:only-of-type {\n",
       "        vertical-align: middle;\n",
       "    }\n",
       "\n",
       "    .dataframe tbody tr th {\n",
       "        vertical-align: top;\n",
       "    }\n",
       "\n",
       "    .dataframe thead th {\n",
       "        text-align: right;\n",
       "    }\n",
       "</style>\n",
       "<table border=\"1\" class=\"dataframe\">\n",
       "  <thead>\n",
       "    <tr style=\"text-align: right;\">\n",
       "      <th>사고내용</th>\n",
       "      <th>경상</th>\n",
       "      <th>부상신고</th>\n",
       "      <th>사망</th>\n",
       "      <th>중상</th>\n",
       "    </tr>\n",
       "    <tr>\n",
       "      <th>사고유형_대분류</th>\n",
       "      <th></th>\n",
       "      <th></th>\n",
       "      <th></th>\n",
       "      <th></th>\n",
       "    </tr>\n",
       "  </thead>\n",
       "  <tbody>\n",
       "    <tr>\n",
       "      <th>차대사람</th>\n",
       "      <td>61197</td>\n",
       "      <td>6778</td>\n",
       "      <td>2729</td>\n",
       "      <td>58618</td>\n",
       "    </tr>\n",
       "    <tr>\n",
       "      <th>차대차</th>\n",
       "      <td>236550</td>\n",
       "      <td>21361</td>\n",
       "      <td>1646</td>\n",
       "      <td>104051</td>\n",
       "    </tr>\n",
       "    <tr>\n",
       "      <th>차량단독</th>\n",
       "      <td>1</td>\n",
       "      <td>1</td>\n",
       "      <td>0</td>\n",
       "      <td>2</td>\n",
       "    </tr>\n",
       "    <tr>\n",
       "      <th>철길건널목</th>\n",
       "      <td>2</td>\n",
       "      <td>0</td>\n",
       "      <td>0</td>\n",
       "      <td>1</td>\n",
       "    </tr>\n",
       "  </tbody>\n",
       "</table>\n",
       "</div>"
      ],
      "text/plain": [
       "사고내용          경상   부상신고    사망      중상\n",
       "사고유형_대분류                             \n",
       "차대사람       61197   6778  2729   58618\n",
       "차대차       236550  21361  1646  104051\n",
       "차량단독           1      1     0       2\n",
       "철길건널목          2      0     0       1"
      ]
     },
     "execution_count": 130,
     "metadata": {},
     "output_type": "execute_result"
    }
   ],
   "source": [
    "ct = pd.crosstab(Seoul_0719['사고유형_대분류'], Seoul_0719['사고내용'])"
   ]
  },
  {
   "cell_type": "code",
   "execution_count": 120,
   "metadata": {
    "scrolled": false
   },
   "outputs": [
    {
     "data": {
      "text/plain": [
       "사고유형_중분류\n",
       "기타       351\n",
       "정면충돌     253\n",
       "추돌       346\n",
       "측면충돌     760\n",
       "후진중충돌      0\n",
       "Name: 사망자수, dtype: int64"
      ]
     },
     "execution_count": 120,
     "metadata": {},
     "output_type": "execute_result"
    }
   ],
   "source": [
    "Seoul_0719[Seoul_0719['사고유형_대분류'] == '차대차'].groupby('사고유형_중분류').sum()['사망자수']"
   ]
  },
  {
   "cell_type": "code",
   "execution_count": 112,
   "metadata": {},
   "outputs": [
    {
     "ename": "TypeError",
     "evalue": "'numpy.int32' object is not callable",
     "output_type": "error",
     "traceback": [
      "\u001b[1;31m---------------------------------------------------------------------------\u001b[0m",
      "\u001b[1;31mTypeError\u001b[0m                                 Traceback (most recent call last)",
      "\u001b[1;32m<ipython-input-112-8857b7ae5c51>\u001b[0m in \u001b[0;36m<module>\u001b[1;34m\u001b[0m\n\u001b[1;32m----> 1\u001b[1;33m \u001b[0mSeoul_0719\u001b[0m\u001b[1;33m[\u001b[0m\u001b[0mSeoul_0719\u001b[0m\u001b[1;33m[\u001b[0m\u001b[1;34m'사고유형_대분류'\u001b[0m\u001b[1;33m]\u001b[0m \u001b[1;33m==\u001b[0m \u001b[1;34m'차대차'\u001b[0m\u001b[1;33m]\u001b[0m\u001b[1;33m.\u001b[0m\u001b[0msize\u001b[0m\u001b[1;33m(\u001b[0m\u001b[1;33m)\u001b[0m\u001b[1;33m\u001b[0m\u001b[1;33m\u001b[0m\u001b[0m\n\u001b[0m",
      "\u001b[1;31mTypeError\u001b[0m: 'numpy.int32' object is not callable"
     ]
    }
   ],
   "source": [
    "Seoul_0719[Seoul_0719['사고유형_대분류'] == '차대차'].size()"
   ]
  },
  {
   "cell_type": "code",
   "execution_count": 103,
   "metadata": {
    "scrolled": true
   },
   "outputs": [
    {
     "data": {
      "text/plain": [
       "사고유형_중분류\n",
       "기타            1045\n",
       "길가장자리구역통행중      74\n",
       "도로이탈             0\n",
       "보도통행중          115\n",
       "정면충돌           253\n",
       "주/정차차량 충돌        0\n",
       "직전진행             0\n",
       "차단기돌파            0\n",
       "차도통행중          337\n",
       "추돌             346\n",
       "측면충돌           760\n",
       "횡단중           1529\n",
       "후진중충돌            0\n",
       "Name: 사망자수, dtype: int64"
      ]
     },
     "execution_count": 103,
     "metadata": {},
     "output_type": "execute_result"
    }
   ],
   "source": [
    "Seoul_0719.groupby('사고유형_중분류').sum()['사망자수']"
   ]
  },
  {
   "cell_type": "code",
   "execution_count": 101,
   "metadata": {
    "scrolled": true
   },
   "outputs": [
    {
     "data": {
      "text/plain": [
       "array(['측면충돌', '횡단중', '추돌', '길가장자리구역통행중', '보도통행중', '기타', '정면충돌', '차도통행중',\n",
       "       '차단기돌파', '직전진행', '도로이탈', '주/정차차량 충돌', '후진중충돌'], dtype=object)"
      ]
     },
     "execution_count": 101,
     "metadata": {},
     "output_type": "execute_result"
    }
   ],
   "source": [
    "Seoul_0719['사고유형_중분류'].unique()"
   ]
  },
  {
   "cell_type": "code",
   "execution_count": 191,
   "metadata": {
    "scrolled": false
   },
   "outputs": [
    {
     "data": {
      "text/plain": [
       "<matplotlib.axes._subplots.AxesSubplot at 0x22be62c6490>"
      ]
     },
     "execution_count": 191,
     "metadata": {},
     "output_type": "execute_result"
    },
    {
     "data": {
      "image/png": "[encoded data removed]",
      "text/plain": [
       "<Figure size 360x360 with 1 Axes>"
      ]
     },
     "metadata": {
      "needs_background": "light"
     },
     "output_type": "display_data"
    }
   ],
   "source": [
    "ct = pd.crosstab(Seoul_0719['사고유형_대분류'], Seoul_0719['사망여부'])\n",
    "ct.plot.bar(stacked=True)   # seaborn lib"
   ]
  },
  {
   "cell_type": "code",
   "execution_count": 192,
   "metadata": {},
   "outputs": [
    {
     "data": {
      "text/html": [
       "<div>\n",
       "<style scoped>\n",
       "    .dataframe tbody tr th:only-of-type {\n",
       "        vertical-align: middle;\n",
       "    }\n",
       "\n",
       "    .dataframe tbody tr th {\n",
       "        vertical-align: top;\n",
       "    }\n",
       "\n",
       "    .dataframe thead th {\n",
       "        text-align: right;\n",
       "    }\n",
       "</style>\n",
       "<table border=\"1\" class=\"dataframe\">\n",
       "  <thead>\n",
       "    <tr style=\"text-align: right;\">\n",
       "      <th>사망여부</th>\n",
       "      <th>0</th>\n",
       "      <th>1</th>\n",
       "    </tr>\n",
       "    <tr>\n",
       "      <th>사고유형_대분류</th>\n",
       "      <th></th>\n",
       "      <th></th>\n",
       "    </tr>\n",
       "  </thead>\n",
       "  <tbody>\n",
       "    <tr>\n",
       "      <th>차대사람</th>\n",
       "      <td>2729</td>\n",
       "      <td>126593</td>\n",
       "    </tr>\n",
       "    <tr>\n",
       "      <th>차대차</th>\n",
       "      <td>1646</td>\n",
       "      <td>361962</td>\n",
       "    </tr>\n",
       "    <tr>\n",
       "      <th>차량단독</th>\n",
       "      <td>0</td>\n",
       "      <td>4</td>\n",
       "    </tr>\n",
       "    <tr>\n",
       "      <th>철길건널목</th>\n",
       "      <td>0</td>\n",
       "      <td>3</td>\n",
       "    </tr>\n",
       "  </tbody>\n",
       "</table>\n",
       "</div>"
      ],
      "text/plain": [
       "사망여부         0       1\n",
       "사고유형_대분류              \n",
       "차대사람      2729  126593\n",
       "차대차       1646  361962\n",
       "차량단독         0       4\n",
       "철길건널목        0       3"
      ]
     },
     "execution_count": 192,
     "metadata": {},
     "output_type": "execute_result"
    }
   ],
   "source": [
    "ct"
   ]
  },
  {
   "cell_type": "code",
   "execution_count": 185,
   "metadata": {},
   "outputs": [
    {
     "data": {
      "text/plain": [
       "(2979.536449421681,\n",
       " 0.0,\n",
       " 3,\n",
       " array([[1.14778106e+03, 1.28174219e+05],\n",
       "        [3.22715682e+03, 3.60380843e+05],\n",
       "        [3.55014941e-02, 3.96449851e+00],\n",
       "        [2.66261206e-02, 2.97337388e+00]]))"
      ]
     },
     "execution_count": 185,
     "metadata": {},
     "output_type": "execute_result"
    }
   ],
   "source": [
    "stats.chi2_contingency(ct)"
   ]
  },
  {
   "cell_type": "code",
   "execution_count": 163,
   "metadata": {},
   "outputs": [
    {
     "data": {
      "text/plain": [
       "34        야\n",
       "127       야\n",
       "149       주\n",
       "512       야\n",
       "591       주\n",
       "         ..\n",
       "492468    주\n",
       "492746    야\n",
       "492751    야\n",
       "492848    야\n",
       "492856    야\n",
       "Name: 주야, Length: 4375, dtype: object"
      ]
     },
     "execution_count": 163,
     "metadata": {},
     "output_type": "execute_result"
    }
   ],
   "source": [
    "Seoul_0719[Seoul_0719['사고내용'] == '사망']['주야']"
   ]
  },
  {
   "cell_type": "code",
   "execution_count": 162,
   "metadata": {},
   "outputs": [
    {
     "data": {
      "text/plain": [
       "34        사망\n",
       "127       사망\n",
       "149       사망\n",
       "512       사망\n",
       "591       사망\n",
       "          ..\n",
       "492468    사망\n",
       "492746    사망\n",
       "492751    사망\n",
       "492848    사망\n",
       "492856    사망\n",
       "Name: 사고내용, Length: 4375, dtype: object"
      ]
     },
     "execution_count": 162,
     "metadata": {},
     "output_type": "execute_result"
    }
   ],
   "source": [
    "Seoul_0719[Seoul_0719['사고내용'] == '사망']['사고내용']"
   ]
  },
  {
   "cell_type": "code",
   "execution_count": 168,
   "metadata": {},
   "outputs": [
    {
     "data": {
      "text/plain": [
       "array(['중상', '경상', '사망', '부상신고'], dtype=object)"
      ]
     },
     "execution_count": 168,
     "metadata": {},
     "output_type": "execute_result"
    }
   ],
   "source": [
    "Seoul_0719['사고내용'].unique()"
   ]
  },
  {
   "cell_type": "code",
   "execution_count": 111,
   "metadata": {},
   "outputs": [],
   "source": [
    "# 사망여부 Column 추가\n",
    "survived = {'사망':1, '중상':0, '경상':0, '부상신고':0}\n",
    "Seoul_0719['사망여부'] = Seoul_0719['사고내용'].map(survived)"
   ]
  },
  {
   "cell_type": "code",
   "execution_count": 96,
   "metadata": {
    "scrolled": true
   },
   "outputs": [
    {
     "data": {
      "text/plain": [
       "0         23\n",
       "1         44\n",
       "2         25\n",
       "3         19\n",
       "4         43\n",
       "          ..\n",
       "492932    54\n",
       "492933    33\n",
       "492934    61\n",
       "492935    18\n",
       "492936    53\n",
       "Name: 피해자연령, Length: 492937, dtype: int64"
      ]
     },
     "execution_count": 96,
     "metadata": {},
     "output_type": "execute_result"
    }
   ],
   "source": [
    "Seoul_0719['']"
   ]
  },
  {
   "cell_type": "code",
   "execution_count": 11,
   "metadata": {},
   "outputs": [
    {
     "data": {
      "text/plain": [
       "노면상태\n",
       "건조       3659\n",
       "기타         69\n",
       "서리/결빙      20\n",
       "적설         14\n",
       "젖음/습기     613\n",
       "침수          0\n",
       "해빙          0\n",
       "Name: 사망여부, dtype: int64"
      ]
     },
     "execution_count": 11,
     "metadata": {},
     "output_type": "execute_result"
    }
   ],
   "source": [
    "Seoul_0719.groupby('노면상태').sum()['사망여부']"
   ]
  },
  {
   "cell_type": "code",
   "execution_count": null,
   "metadata": {},
   "outputs": [],
   "source": []
  },
  {
   "cell_type": "code",
   "execution_count": 119,
   "metadata": {},
   "outputs": [],
   "source": [
    "age_condition = [\n",
    "    (Seoul_0719['가해자연령'] < 10),\n",
    "    ((Seoul_0719['가해자연령'] >= 10) & (Seoul_0719['가해자연령'] < 20)),\n",
    "    ((Seoul_0719['가해자연령'] >= 20) & (Seoul_0719['가해자연령'] < 30)),\n",
    "    ((Seoul_0719['가해자연령'] >= 30) & (Seoul_0719['가해자연령'] < 40)),\n",
    "    ((Seoul_0719['가해자연령'] >= 40) & (Seoul_0719['가해자연령'] < 50)),\n",
    "    ((Seoul_0719['가해자연령'] >= 50) & (Seoul_0719['가해자연령'] < 60)),\n",
    "    ((Seoul_0719['가해자연령'] >= 60) & (Seoul_0719['가해자연령'] < 70)),\n",
    "    ((Seoul_0719['가해자연령'] >= 70) & (Seoul_0719['가해자연령'] < 80)),\n",
    "    ((Seoul_0719['가해자연령'] >= 80) & (Seoul_0719['가해자연령'] < 90)),\n",
    "    ((Seoul_0719['가해자연령'] >= 90) & (Seoul_0719['가해자연령'] < 100)),\n",
    "    (Seoul_0719['가해자연령'] >= 100)]\n",
    "caselist = ['10세 미만', '10대', '20대', '30대', '40대', '50대', '60대', '70대', '80대', '90대', '100세 이상']\n",
    "Seoul_0719['가해자연령대'] = np.select(age_condition, caselist)\n"
   ]
  },
  {
   "cell_type": "code",
   "execution_count": 120,
   "metadata": {},
   "outputs": [
    {
     "name": "stdout",
     "output_type": "stream",
     "text": [
      "---------------------- 선택 항목 ----------------------\n",
      "1. 주야            2. 노면상태             3. 기상상태\n",
      "4. 가해자차종      5. 사고유형_대분류      6. 발생시간\n",
      "7. 가해자법규위반\n",
      "-------------------------------------------------------\n",
      "원하는 항목 선택: 8\n"
     ]
    },
    {
     "data": {
      "text/html": [
       "<div>\n",
       "<style scoped>\n",
       "    .dataframe tbody tr th:only-of-type {\n",
       "        vertical-align: middle;\n",
       "    }\n",
       "\n",
       "    .dataframe tbody tr th {\n",
       "        vertical-align: top;\n",
       "    }\n",
       "\n",
       "    .dataframe thead th {\n",
       "        text-align: right;\n",
       "    }\n",
       "</style>\n",
       "<table border=\"1\" class=\"dataframe\">\n",
       "  <thead>\n",
       "    <tr style=\"text-align: right;\">\n",
       "      <th></th>\n",
       "      <th>사망발생 건수</th>\n",
       "      <th>비사망발생 건수</th>\n",
       "      <th>가해자연령대별 사고발생 건수</th>\n",
       "      <th>가해자연령대별 사망자 비율(%)</th>\n",
       "    </tr>\n",
       "    <tr>\n",
       "      <th>가해자연령대</th>\n",
       "      <th></th>\n",
       "      <th></th>\n",
       "      <th></th>\n",
       "      <th></th>\n",
       "    </tr>\n",
       "  </thead>\n",
       "  <tbody>\n",
       "    <tr>\n",
       "      <th>90대</th>\n",
       "      <td>7</td>\n",
       "      <td>85</td>\n",
       "      <td>92</td>\n",
       "      <td>7.6087</td>\n",
       "    </tr>\n",
       "    <tr>\n",
       "      <th>80대</th>\n",
       "      <td>30</td>\n",
       "      <td>1313</td>\n",
       "      <td>1343</td>\n",
       "      <td>2.2338</td>\n",
       "    </tr>\n",
       "    <tr>\n",
       "      <th>70대</th>\n",
       "      <td>218</td>\n",
       "      <td>16799</td>\n",
       "      <td>17017</td>\n",
       "      <td>1.2811</td>\n",
       "    </tr>\n",
       "    <tr>\n",
       "      <th>60대</th>\n",
       "      <td>637</td>\n",
       "      <td>68789</td>\n",
       "      <td>69426</td>\n",
       "      <td>0.9175</td>\n",
       "    </tr>\n",
       "    <tr>\n",
       "      <th>50대</th>\n",
       "      <td>1120</td>\n",
       "      <td>121702</td>\n",
       "      <td>122822</td>\n",
       "      <td>0.9119</td>\n",
       "    </tr>\n",
       "    <tr>\n",
       "      <th>20대</th>\n",
       "      <td>542</td>\n",
       "      <td>62220</td>\n",
       "      <td>62762</td>\n",
       "      <td>0.8636</td>\n",
       "    </tr>\n",
       "    <tr>\n",
       "      <th>30대</th>\n",
       "      <td>765</td>\n",
       "      <td>89545</td>\n",
       "      <td>90310</td>\n",
       "      <td>0.8471</td>\n",
       "    </tr>\n",
       "    <tr>\n",
       "      <th>40대</th>\n",
       "      <td>900</td>\n",
       "      <td>108657</td>\n",
       "      <td>109557</td>\n",
       "      <td>0.8215</td>\n",
       "    </tr>\n",
       "    <tr>\n",
       "      <th>10대</th>\n",
       "      <td>154</td>\n",
       "      <td>18994</td>\n",
       "      <td>19148</td>\n",
       "      <td>0.8043</td>\n",
       "    </tr>\n",
       "    <tr>\n",
       "      <th>10세 미만</th>\n",
       "      <td>2</td>\n",
       "      <td>454</td>\n",
       "      <td>456</td>\n",
       "      <td>0.4386</td>\n",
       "    </tr>\n",
       "    <tr>\n",
       "      <th>100세 이상</th>\n",
       "      <td>0</td>\n",
       "      <td>4</td>\n",
       "      <td>4</td>\n",
       "      <td>0.0000</td>\n",
       "    </tr>\n",
       "  </tbody>\n",
       "</table>\n",
       "</div>"
      ],
      "text/plain": [
       "         사망발생 건수  비사망발생 건수  가해자연령대별 사고발생 건수  가해자연령대별 사망자 비율(%)\n",
       "가해자연령대                                                        \n",
       "90대            7        85               92             7.6087\n",
       "80대           30      1313             1343             2.2338\n",
       "70대          218     16799            17017             1.2811\n",
       "60대          637     68789            69426             0.9175\n",
       "50대         1120    121702           122822             0.9119\n",
       "20대          542     62220            62762             0.8636\n",
       "30대          765     89545            90310             0.8471\n",
       "40대          900    108657           109557             0.8215\n",
       "10대          154     18994            19148             0.8043\n",
       "10세 미만         2       454              456             0.4386\n",
       "100세 이상        0         4                4             0.0000"
      ]
     },
     "metadata": {},
     "output_type": "display_data"
    },
    {
     "name": "stdout",
     "output_type": "stream",
     "text": [
      "p-value: 2.560365732551138e-20\n"
     ]
    }
   ],
   "source": [
    "from scipy.stats import chisquare\n",
    "\n",
    "def p_value(item):\n",
    "    ct = pd.crosstab(Seoul_0719[item], Seoul_0719['사망여부'])\n",
    "    p_value = str(stats.chi2_contingency(ct)[1])\n",
    "    \n",
    "    return p_value\n",
    "\n",
    "def make_df(item):\n",
    "    li_1 = np.array(Seoul_0719.groupby(item).sum()['사망여부'])\n",
    "    li_2 = np.array(Seoul_0719.groupby(item).size())\n",
    "    li_3 = li_2 - li_1\n",
    "\n",
    "    li_result = np.round((li_1 / li_2) * 100, 4)\n",
    "    \n",
    "    df_idx = Seoul_0719.groupby(item).size().index\n",
    "    col_dict = {'사망발생 건수':li_1, '비사망발생 건수':li_3, item+'별 사고발생 건수':li_2, item+'별 사망자 비율(%)':li_result}\n",
    "    df_temp = pd.DataFrame(col_dict, index=df_idx).sort_values(by=item+'별 사망자 비율(%)', ascending=False)\n",
    "\n",
    "    return df_temp\n",
    "\n",
    "def main():\n",
    "    print(\"---------------------- 선택 항목 ----------------------\")\n",
    "    print(\"1. 주야            2. 노면상태             3. 기상상태\")\n",
    "    print(\"4. 가해자차종      5. 사고유형_대분류      6. 발생시간\")\n",
    "    print(\"7. 가해자법규위반\")\n",
    "    print(\"-------------------------------------------------------\")\n",
    "\n",
    "    selection = int(input('원하는 항목 선택: '))\n",
    "    sel_item_dict = {1:'주야', 2:'노면상태', 3:'기상상태', 4:'가해자차종',\n",
    "                    5:'사고유형_대분류', 6:'발생시간', 7:'가해자법규위반', 8:'가해자연령대'}\n",
    "    \n",
    "    df = make_df(sel_item_dict[selection])\n",
    "    \n",
    "    display(df)\n",
    "    \n",
    "    print('p-value: ' + p_value(sel_item_dict[selection]))\n",
    "    \n",
    "if __name__ == '__main__':\n",
    "     main()\n",
    "        \n",
    "## 피해자차종 / 사고유형_중분류 / 사고유형 / 도로형태 / 피해자연령(범위) / 가해자연령(범위)"
   ]
  },
  {
   "cell_type": "code",
   "execution_count": 193,
   "metadata": {
    "scrolled": true
   },
   "outputs": [
    {
     "data": {
      "text/html": [
       "<div>\n",
       "<style scoped>\n",
       "    .dataframe tbody tr th:only-of-type {\n",
       "        vertical-align: middle;\n",
       "    }\n",
       "\n",
       "    .dataframe tbody tr th {\n",
       "        vertical-align: top;\n",
       "    }\n",
       "\n",
       "    .dataframe thead th {\n",
       "        text-align: right;\n",
       "    }\n",
       "</style>\n",
       "<table border=\"1\" class=\"dataframe\">\n",
       "  <thead>\n",
       "    <tr style=\"text-align: right;\">\n",
       "      <th></th>\n",
       "      <th>발생일</th>\n",
       "      <th>사망자수</th>\n",
       "      <th>중상자수</th>\n",
       "      <th>경상자수</th>\n",
       "      <th>부상신고자수</th>\n",
       "      <th>가해자연령</th>\n",
       "      <th>피해자연령</th>\n",
       "      <th>주야코드</th>\n",
       "      <th>사고내용코드</th>\n",
       "      <th>가해자차종코드</th>\n",
       "      <th>기상상태코드</th>\n",
       "      <th>노면상태코드</th>\n",
       "      <th>발생연도</th>\n",
       "      <th>발생월</th>\n",
       "      <th>사망여부</th>\n",
       "    </tr>\n",
       "  </thead>\n",
       "  <tbody>\n",
       "    <tr>\n",
       "      <th>발생일</th>\n",
       "      <td>1.000000</td>\n",
       "      <td>-0.011228</td>\n",
       "      <td>-0.092564</td>\n",
       "      <td>0.005442</td>\n",
       "      <td>0.064138</td>\n",
       "      <td>0.129247</td>\n",
       "      <td>0.112655</td>\n",
       "      <td>0.053271</td>\n",
       "      <td>0.103262</td>\n",
       "      <td>0.028107</td>\n",
       "      <td>-0.051821</td>\n",
       "      <td>-0.035848</td>\n",
       "      <td>0.999959</td>\n",
       "      <td>0.001418</td>\n",
       "      <td>0.011133</td>\n",
       "    </tr>\n",
       "    <tr>\n",
       "      <th>사망자수</th>\n",
       "      <td>-0.011228</td>\n",
       "      <td>1.000000</td>\n",
       "      <td>-0.020308</td>\n",
       "      <td>-0.064166</td>\n",
       "      <td>-0.015288</td>\n",
       "      <td>0.006572</td>\n",
       "      <td>0.063156</td>\n",
       "      <td>-0.013051</td>\n",
       "      <td>-0.275253</td>\n",
       "      <td>0.041177</td>\n",
       "      <td>0.005093</td>\n",
       "      <td>0.005724</td>\n",
       "      <td>-0.011213</td>\n",
       "      <td>-0.001528</td>\n",
       "      <td>-0.989469</td>\n",
       "    </tr>\n",
       "    <tr>\n",
       "      <th>중상자수</th>\n",
       "      <td>-0.092564</td>\n",
       "      <td>-0.020308</td>\n",
       "      <td>1.000000</td>\n",
       "      <td>-0.267459</td>\n",
       "      <td>-0.064064</td>\n",
       "      <td>-0.017868</td>\n",
       "      <td>0.058560</td>\n",
       "      <td>-0.013384</td>\n",
       "      <td>-0.772482</td>\n",
       "      <td>0.006239</td>\n",
       "      <td>0.008872</td>\n",
       "      <td>0.006751</td>\n",
       "      <td>-0.092462</td>\n",
       "      <td>-0.010829</td>\n",
       "      <td>0.025669</td>\n",
       "    </tr>\n",
       "    <tr>\n",
       "      <th>경상자수</th>\n",
       "      <td>0.005442</td>\n",
       "      <td>-0.064166</td>\n",
       "      <td>-0.267459</td>\n",
       "      <td>1.000000</td>\n",
       "      <td>-0.036278</td>\n",
       "      <td>0.017475</td>\n",
       "      <td>-0.009285</td>\n",
       "      <td>-0.050340</td>\n",
       "      <td>0.246103</td>\n",
       "      <td>-0.110792</td>\n",
       "      <td>0.014977</td>\n",
       "      <td>0.015355</td>\n",
       "      <td>0.005499</td>\n",
       "      <td>-0.006422</td>\n",
       "      <td>0.067360</td>\n",
       "    </tr>\n",
       "    <tr>\n",
       "      <th>부상신고자수</th>\n",
       "      <td>0.064138</td>\n",
       "      <td>-0.015288</td>\n",
       "      <td>-0.064064</td>\n",
       "      <td>-0.036278</td>\n",
       "      <td>1.000000</td>\n",
       "      <td>-0.036342</td>\n",
       "      <td>0.010596</td>\n",
       "      <td>0.000949</td>\n",
       "      <td>0.330086</td>\n",
       "      <td>0.092790</td>\n",
       "      <td>-0.006265</td>\n",
       "      <td>-0.006775</td>\n",
       "      <td>0.064030</td>\n",
       "      <td>0.011649</td>\n",
       "      <td>0.016401</td>\n",
       "    </tr>\n",
       "    <tr>\n",
       "      <th>가해자연령</th>\n",
       "      <td>0.129247</td>\n",
       "      <td>0.006572</td>\n",
       "      <td>-0.017868</td>\n",
       "      <td>0.017475</td>\n",
       "      <td>-0.036342</td>\n",
       "      <td>1.000000</td>\n",
       "      <td>0.008683</td>\n",
       "      <td>0.101528</td>\n",
       "      <td>-0.010764</td>\n",
       "      <td>-0.160816</td>\n",
       "      <td>-0.008468</td>\n",
       "      <td>-0.005924</td>\n",
       "      <td>0.129224</td>\n",
       "      <td>0.002052</td>\n",
       "      <td>-0.007258</td>\n",
       "    </tr>\n",
       "    <tr>\n",
       "      <th>피해자연령</th>\n",
       "      <td>0.112655</td>\n",
       "      <td>0.063156</td>\n",
       "      <td>0.058560</td>\n",
       "      <td>-0.009285</td>\n",
       "      <td>0.010596</td>\n",
       "      <td>0.008683</td>\n",
       "      <td>1.000000</td>\n",
       "      <td>0.067350</td>\n",
       "      <td>-0.078987</td>\n",
       "      <td>0.050984</td>\n",
       "      <td>0.002183</td>\n",
       "      <td>0.004977</td>\n",
       "      <td>0.112658</td>\n",
       "      <td>-0.000832</td>\n",
       "      <td>-0.064550</td>\n",
       "    </tr>\n",
       "    <tr>\n",
       "      <th>주야코드</th>\n",
       "      <td>0.053271</td>\n",
       "      <td>-0.013051</td>\n",
       "      <td>-0.013384</td>\n",
       "      <td>-0.050340</td>\n",
       "      <td>0.000949</td>\n",
       "      <td>0.101528</td>\n",
       "      <td>0.067350</td>\n",
       "      <td>1.000000</td>\n",
       "      <td>0.009502</td>\n",
       "      <td>0.079718</td>\n",
       "      <td>-0.088480</td>\n",
       "      <td>-0.054135</td>\n",
       "      <td>0.053228</td>\n",
       "      <td>0.004586</td>\n",
       "      <td>0.012935</td>\n",
       "    </tr>\n",
       "    <tr>\n",
       "      <th>사고내용코드</th>\n",
       "      <td>0.103262</td>\n",
       "      <td>-0.275253</td>\n",
       "      <td>-0.772482</td>\n",
       "      <td>0.246103</td>\n",
       "      <td>0.330086</td>\n",
       "      <td>-0.010764</td>\n",
       "      <td>-0.078987</td>\n",
       "      <td>0.009502</td>\n",
       "      <td>1.000000</td>\n",
       "      <td>0.037196</td>\n",
       "      <td>-0.010171</td>\n",
       "      <td>-0.008676</td>\n",
       "      <td>0.103138</td>\n",
       "      <td>0.013160</td>\n",
       "      <td>0.278182</td>\n",
       "    </tr>\n",
       "    <tr>\n",
       "      <th>가해자차종코드</th>\n",
       "      <td>0.028107</td>\n",
       "      <td>0.041177</td>\n",
       "      <td>0.006239</td>\n",
       "      <td>-0.110792</td>\n",
       "      <td>0.092790</td>\n",
       "      <td>-0.160816</td>\n",
       "      <td>0.050984</td>\n",
       "      <td>0.079718</td>\n",
       "      <td>0.037196</td>\n",
       "      <td>1.000000</td>\n",
       "      <td>-0.036028</td>\n",
       "      <td>-0.026196</td>\n",
       "      <td>0.027926</td>\n",
       "      <td>0.019917</td>\n",
       "      <td>-0.042132</td>\n",
       "    </tr>\n",
       "    <tr>\n",
       "      <th>기상상태코드</th>\n",
       "      <td>-0.051821</td>\n",
       "      <td>0.005093</td>\n",
       "      <td>0.008872</td>\n",
       "      <td>0.014977</td>\n",
       "      <td>-0.006265</td>\n",
       "      <td>-0.008468</td>\n",
       "      <td>0.002183</td>\n",
       "      <td>-0.088480</td>\n",
       "      <td>-0.010171</td>\n",
       "      <td>-0.036028</td>\n",
       "      <td>1.000000</td>\n",
       "      <td>0.555197</td>\n",
       "      <td>-0.051943</td>\n",
       "      <td>0.013557</td>\n",
       "      <td>-0.004950</td>\n",
       "    </tr>\n",
       "    <tr>\n",
       "      <th>노면상태코드</th>\n",
       "      <td>-0.035848</td>\n",
       "      <td>0.005724</td>\n",
       "      <td>0.006751</td>\n",
       "      <td>0.015355</td>\n",
       "      <td>-0.006775</td>\n",
       "      <td>-0.005924</td>\n",
       "      <td>0.004977</td>\n",
       "      <td>-0.054135</td>\n",
       "      <td>-0.008676</td>\n",
       "      <td>-0.026196</td>\n",
       "      <td>0.555197</td>\n",
       "      <td>1.000000</td>\n",
       "      <td>-0.035845</td>\n",
       "      <td>-0.000143</td>\n",
       "      <td>-0.005863</td>\n",
       "    </tr>\n",
       "    <tr>\n",
       "      <th>발생연도</th>\n",
       "      <td>0.999959</td>\n",
       "      <td>-0.011213</td>\n",
       "      <td>-0.092462</td>\n",
       "      <td>0.005499</td>\n",
       "      <td>0.064030</td>\n",
       "      <td>0.129224</td>\n",
       "      <td>0.112658</td>\n",
       "      <td>0.053228</td>\n",
       "      <td>0.103138</td>\n",
       "      <td>0.027926</td>\n",
       "      <td>-0.051943</td>\n",
       "      <td>-0.035845</td>\n",
       "      <td>1.000000</td>\n",
       "      <td>-0.007647</td>\n",
       "      <td>0.011121</td>\n",
       "    </tr>\n",
       "    <tr>\n",
       "      <th>발생월</th>\n",
       "      <td>0.001418</td>\n",
       "      <td>-0.001528</td>\n",
       "      <td>-0.010829</td>\n",
       "      <td>-0.006422</td>\n",
       "      <td>0.011649</td>\n",
       "      <td>0.002052</td>\n",
       "      <td>-0.000832</td>\n",
       "      <td>0.004586</td>\n",
       "      <td>0.013160</td>\n",
       "      <td>0.019917</td>\n",
       "      <td>0.013557</td>\n",
       "      <td>-0.000143</td>\n",
       "      <td>-0.007647</td>\n",
       "      <td>1.000000</td>\n",
       "      <td>0.001284</td>\n",
       "    </tr>\n",
       "    <tr>\n",
       "      <th>사망여부</th>\n",
       "      <td>0.011133</td>\n",
       "      <td>-0.989469</td>\n",
       "      <td>0.025669</td>\n",
       "      <td>0.067360</td>\n",
       "      <td>0.016401</td>\n",
       "      <td>-0.007258</td>\n",
       "      <td>-0.064550</td>\n",
       "      <td>0.012935</td>\n",
       "      <td>0.278182</td>\n",
       "      <td>-0.042132</td>\n",
       "      <td>-0.004950</td>\n",
       "      <td>-0.005863</td>\n",
       "      <td>0.011121</td>\n",
       "      <td>0.001284</td>\n",
       "      <td>1.000000</td>\n",
       "    </tr>\n",
       "  </tbody>\n",
       "</table>\n",
       "</div>"
      ],
      "text/plain": [
       "              발생일      사망자수      중상자수      경상자수    부상신고자수     가해자연령     피해자연령  \\\n",
       "발생일      1.000000 -0.011228 -0.092564  0.005442  0.064138  0.129247  0.112655   \n",
       "사망자수    -0.011228  1.000000 -0.020308 -0.064166 -0.015288  0.006572  0.063156   \n",
       "중상자수    -0.092564 -0.020308  1.000000 -0.267459 -0.064064 -0.017868  0.058560   \n",
       "경상자수     0.005442 -0.064166 -0.267459  1.000000 -0.036278  0.017475 -0.009285   \n",
       "부상신고자수   0.064138 -0.015288 -0.064064 -0.036278  1.000000 -0.036342  0.010596   \n",
       "가해자연령    0.129247  0.006572 -0.017868  0.017475 -0.036342  1.000000  0.008683   \n",
       "피해자연령    0.112655  0.063156  0.058560 -0.009285  0.010596  0.008683  1.000000   \n",
       "주야코드     0.053271 -0.013051 -0.013384 -0.050340  0.000949  0.101528  0.067350   \n",
       "사고내용코드   0.103262 -0.275253 -0.772482  0.246103  0.330086 -0.010764 -0.078987   \n",
       "가해자차종코드  0.028107  0.041177  0.006239 -0.110792  0.092790 -0.160816  0.050984   \n",
       "기상상태코드  -0.051821  0.005093  0.008872  0.014977 -0.006265 -0.008468  0.002183   \n",
       "노면상태코드  -0.035848  0.005724  0.006751  0.015355 -0.006775 -0.005924  0.004977   \n",
       "발생연도     0.999959 -0.011213 -0.092462  0.005499  0.064030  0.129224  0.112658   \n",
       "발생월      0.001418 -0.001528 -0.010829 -0.006422  0.011649  0.002052 -0.000832   \n",
       "사망여부     0.011133 -0.989469  0.025669  0.067360  0.016401 -0.007258 -0.064550   \n",
       "\n",
       "             주야코드    사고내용코드   가해자차종코드    기상상태코드    노면상태코드      발생연도       발생월  \\\n",
       "발생일      0.053271  0.103262  0.028107 -0.051821 -0.035848  0.999959  0.001418   \n",
       "사망자수    -0.013051 -0.275253  0.041177  0.005093  0.005724 -0.011213 -0.001528   \n",
       "중상자수    -0.013384 -0.772482  0.006239  0.008872  0.006751 -0.092462 -0.010829   \n",
       "경상자수    -0.050340  0.246103 -0.110792  0.014977  0.015355  0.005499 -0.006422   \n",
       "부상신고자수   0.000949  0.330086  0.092790 -0.006265 -0.006775  0.064030  0.011649   \n",
       "가해자연령    0.101528 -0.010764 -0.160816 -0.008468 -0.005924  0.129224  0.002052   \n",
       "피해자연령    0.067350 -0.078987  0.050984  0.002183  0.004977  0.112658 -0.000832   \n",
       "주야코드     1.000000  0.009502  0.079718 -0.088480 -0.054135  0.053228  0.004586   \n",
       "사고내용코드   0.009502  1.000000  0.037196 -0.010171 -0.008676  0.103138  0.013160   \n",
       "가해자차종코드  0.079718  0.037196  1.000000 -0.036028 -0.026196  0.027926  0.019917   \n",
       "기상상태코드  -0.088480 -0.010171 -0.036028  1.000000  0.555197 -0.051943  0.013557   \n",
       "노면상태코드  -0.054135 -0.008676 -0.026196  0.555197  1.000000 -0.035845 -0.000143   \n",
       "발생연도     0.053228  0.103138  0.027926 -0.051943 -0.035845  1.000000 -0.007647   \n",
       "발생월      0.004586  0.013160  0.019917  0.013557 -0.000143 -0.007647  1.000000   \n",
       "사망여부     0.012935  0.278182 -0.042132 -0.004950 -0.005863  0.011121  0.001284   \n",
       "\n",
       "             사망여부  \n",
       "발생일      0.011133  \n",
       "사망자수    -0.989469  \n",
       "중상자수     0.025669  \n",
       "경상자수     0.067360  \n",
       "부상신고자수   0.016401  \n",
       "가해자연령   -0.007258  \n",
       "피해자연령   -0.064550  \n",
       "주야코드     0.012935  \n",
       "사고내용코드   0.278182  \n",
       "가해자차종코드 -0.042132  \n",
       "기상상태코드  -0.004950  \n",
       "노면상태코드  -0.005863  \n",
       "발생연도     0.011121  \n",
       "발생월      0.001284  \n",
       "사망여부     1.000000  "
      ]
     },
     "execution_count": 193,
     "metadata": {},
     "output_type": "execute_result"
    }
   ],
   "source": [
    "corr = Seoul_0719.corr(method='pearson')\n",
    "corr"
   ]
  },
  {
   "cell_type": "code",
   "execution_count": 194,
   "metadata": {
    "scrolled": true
   },
   "outputs": [
    {
     "name": "stderr",
     "output_type": "stream",
     "text": [
      "C:\\ProgramData\\Anaconda3\\lib\\site-packages\\matplotlib\\backends\\backend_agg.py:214: RuntimeWarning: Glyph 8722 missing from current font.\n",
      "  font.set_text(s, 0.0, flags=flags)\n",
      "C:\\ProgramData\\Anaconda3\\lib\\site-packages\\matplotlib\\backends\\backend_agg.py:183: RuntimeWarning: Glyph 8722 missing from current font.\n",
      "  font.set_text(s, 0, flags=flags)\n"
     ]
    },
    {
     "data": {
      "text/plain": [
       "<matplotlib.axes._subplots.AxesSubplot at 0x22be62227c0>"
      ]
     },
     "execution_count": 194,
     "metadata": {},
     "output_type": "execute_result"
    },
    {
     "data": {
      "image/png": "[encoded data removed]",
      "text/plain": [
       "<Figure size 360x360 with 2 Axes>"
      ]
     },
     "metadata": {
      "needs_background": "light"
     },
     "output_type": "display_data"
    }
   ],
   "source": [
    "sns.heatmap(corr)"
   ]
  },
  {
   "cell_type": "code",
   "execution_count": 12,
   "metadata": {},
   "outputs": [
    {
     "name": "stdout",
     "output_type": "stream",
     "text": [
      "차대사람    2729\n",
      "차대차     1646\n",
      "Name: 사고유형_대분류, dtype: int64\n"
     ]
    },
    {
     "data": {
      "text/plain": [
       "Power_divergenceResult(statistic=268.0889142857143, pvalue=2.9609252129405383e-60)"
      ]
     },
     "execution_count": 12,
     "metadata": {},
     "output_type": "execute_result"
    }
   ],
   "source": [
    "from scipy.stats import chisquare\n",
    "\n",
    "num_class = Seoul_0719[Seoul_0719['사망자수'] >= 1]['사고유형_대분류'].value_counts()\n",
    "print(num_class)\n",
    "chisquare(num_class)"
   ]
  },
  {
   "cell_type": "code",
   "execution_count": 11,
   "metadata": {},
   "outputs": [
    {
     "data": {
      "text/plain": [
       "차대사람    2729\n",
       "차대차     1646\n",
       "Name: 사고유형_대분류, dtype: int64"
      ]
     },
     "execution_count": 11,
     "metadata": {},
     "output_type": "execute_result"
    }
   ],
   "source": [
    "Seoul_0719[Seoul_0719['사망자수'] >= 1]['사고유형_대분류'].value_counts()"
   ]
  },
  {
   "cell_type": "code",
   "execution_count": 52,
   "metadata": {},
   "outputs": [
    {
     "data": {
      "text/html": [
       "<div>\n",
       "<style scoped>\n",
       "    .dataframe tbody tr th:only-of-type {\n",
       "        vertical-align: middle;\n",
       "    }\n",
       "\n",
       "    .dataframe tbody tr th {\n",
       "        vertical-align: top;\n",
       "    }\n",
       "\n",
       "    .dataframe thead th {\n",
       "        text-align: right;\n",
       "    }\n",
       "</style>\n",
       "<table border=\"1\" class=\"dataframe\">\n",
       "  <thead>\n",
       "    <tr style=\"text-align: right;\">\n",
       "      <th>사망여부</th>\n",
       "      <th>0</th>\n",
       "      <th>1</th>\n",
       "    </tr>\n",
       "    <tr>\n",
       "      <th>주야</th>\n",
       "      <th></th>\n",
       "      <th></th>\n",
       "    </tr>\n",
       "  </thead>\n",
       "  <tbody>\n",
       "    <tr>\n",
       "      <th>야</th>\n",
       "      <td>2448</td>\n",
       "      <td>239687</td>\n",
       "    </tr>\n",
       "    <tr>\n",
       "      <th>주</th>\n",
       "      <td>1927</td>\n",
       "      <td>248875</td>\n",
       "    </tr>\n",
       "  </tbody>\n",
       "</table>\n",
       "</div>"
      ],
      "text/plain": [
       "사망여부     0       1\n",
       "주야                \n",
       "야     2448  239687\n",
       "주     1927  248875"
      ]
     },
     "execution_count": 52,
     "metadata": {},
     "output_type": "execute_result"
    }
   ],
   "source": [
    "pd.crosstab(Seoul_0719['주야'], Seoul_0719['사망여부'])"
   ]
  },
  {
   "cell_type": "code",
   "execution_count": 50,
   "metadata": {
    "scrolled": true
   },
   "outputs": [
    {
     "data": {
      "text/plain": [
       "<matplotlib.axes._subplots.AxesSubplot at 0x24085869dc0>"
      ]
     },
     "execution_count": 50,
     "metadata": {},
     "output_type": "execute_result"
    },
    {
     "data": {
      "image/png": "[encoded data removed]",
      "text/plain": [
       "<Figure size 360x360 with 1 Axes>"
      ]
     },
     "metadata": {
      "needs_background": "light"
     },
     "output_type": "display_data"
    }
   ],
   "source": [
    "ct = pd.crosstab(Seoul_0719['주야'], Seoul_0719['사망여부'])\n",
    "ct.plot.bar(stacked=True)"
   ]
  },
  {
   "cell_type": "code",
   "execution_count": 51,
   "metadata": {},
   "outputs": [
    {
     "data": {
      "text/plain": [
       "(82.19859220527974,\n",
       " 1.2307750685998935e-19,\n",
       " 1,\n",
       " array([[  2149.03856882, 239985.96143118],\n",
       "        [  2225.96143118, 248576.03856882]]))"
      ]
     },
     "execution_count": 51,
     "metadata": {},
     "output_type": "execute_result"
    }
   ],
   "source": [
    "from scipy import stats\n",
    "stats.chi2_contingency(ct)"
   ]
  },
  {
   "cell_type": "code",
   "execution_count": 32,
   "metadata": {},
   "outputs": [],
   "source": [
    "death = Seoul_0719[Seoul_0719['사망여부'] == 0].reset_index(drop=True)"
   ]
  },
  {
   "cell_type": "code",
   "execution_count": 33,
   "metadata": {
    "scrolled": true
   },
   "outputs": [
    {
     "data": {
      "text/html": [
       "<div>\n",
       "<style scoped>\n",
       "    .dataframe tbody tr th:only-of-type {\n",
       "        vertical-align: middle;\n",
       "    }\n",
       "\n",
       "    .dataframe tbody tr th {\n",
       "        vertical-align: top;\n",
       "    }\n",
       "\n",
       "    .dataframe thead th {\n",
       "        text-align: right;\n",
       "    }\n",
       "</style>\n",
       "<table border=\"1\" class=\"dataframe\">\n",
       "  <thead>\n",
       "    <tr style=\"text-align: right;\">\n",
       "      <th></th>\n",
       "      <th>발생일</th>\n",
       "      <th>발생시간</th>\n",
       "      <th>요일</th>\n",
       "      <th>주야</th>\n",
       "      <th>발생지_시군구</th>\n",
       "      <th>법정동명</th>\n",
       "      <th>사고내용</th>\n",
       "      <th>사망자수</th>\n",
       "      <th>중상자수</th>\n",
       "      <th>경상자수</th>\n",
       "      <th>...</th>\n",
       "      <th>피해자연령</th>\n",
       "      <th>피해자신체상해정도</th>\n",
       "      <th>주야코드</th>\n",
       "      <th>사고내용코드</th>\n",
       "      <th>가해자차종코드</th>\n",
       "      <th>기상상태코드</th>\n",
       "      <th>노면상태코드</th>\n",
       "      <th>발생연도</th>\n",
       "      <th>발생월</th>\n",
       "      <th>사망여부</th>\n",
       "    </tr>\n",
       "  </thead>\n",
       "  <tbody>\n",
       "    <tr>\n",
       "      <th>0</th>\n",
       "      <td>20070101</td>\n",
       "      <td>19시</td>\n",
       "      <td>월</td>\n",
       "      <td>야</td>\n",
       "      <td>관악구</td>\n",
       "      <td>봉천동</td>\n",
       "      <td>사망</td>\n",
       "      <td>1</td>\n",
       "      <td>0</td>\n",
       "      <td>1</td>\n",
       "      <td>...</td>\n",
       "      <td>40</td>\n",
       "      <td>경상</td>\n",
       "      <td>0</td>\n",
       "      <td>0</td>\n",
       "      <td>2</td>\n",
       "      <td>1</td>\n",
       "      <td>0</td>\n",
       "      <td>2007</td>\n",
       "      <td>1</td>\n",
       "      <td>0</td>\n",
       "    </tr>\n",
       "    <tr>\n",
       "      <th>1</th>\n",
       "      <td>20070102</td>\n",
       "      <td>22시</td>\n",
       "      <td>화</td>\n",
       "      <td>야</td>\n",
       "      <td>강남구</td>\n",
       "      <td>일원동</td>\n",
       "      <td>사망</td>\n",
       "      <td>1</td>\n",
       "      <td>0</td>\n",
       "      <td>0</td>\n",
       "      <td>...</td>\n",
       "      <td>12</td>\n",
       "      <td>사망</td>\n",
       "      <td>0</td>\n",
       "      <td>0</td>\n",
       "      <td>3</td>\n",
       "      <td>0</td>\n",
       "      <td>0</td>\n",
       "      <td>2007</td>\n",
       "      <td>1</td>\n",
       "      <td>0</td>\n",
       "    </tr>\n",
       "    <tr>\n",
       "      <th>2</th>\n",
       "      <td>20070103</td>\n",
       "      <td>06시</td>\n",
       "      <td>수</td>\n",
       "      <td>주</td>\n",
       "      <td>광진구</td>\n",
       "      <td>광장동</td>\n",
       "      <td>사망</td>\n",
       "      <td>1</td>\n",
       "      <td>0</td>\n",
       "      <td>0</td>\n",
       "      <td>...</td>\n",
       "      <td>77</td>\n",
       "      <td>사망</td>\n",
       "      <td>1</td>\n",
       "      <td>0</td>\n",
       "      <td>0</td>\n",
       "      <td>0</td>\n",
       "      <td>0</td>\n",
       "      <td>2007</td>\n",
       "      <td>1</td>\n",
       "      <td>0</td>\n",
       "    </tr>\n",
       "    <tr>\n",
       "      <th>3</th>\n",
       "      <td>20070107</td>\n",
       "      <td>00시</td>\n",
       "      <td>일</td>\n",
       "      <td>야</td>\n",
       "      <td>도봉구</td>\n",
       "      <td>방학동</td>\n",
       "      <td>사망</td>\n",
       "      <td>1</td>\n",
       "      <td>0</td>\n",
       "      <td>0</td>\n",
       "      <td>...</td>\n",
       "      <td>51</td>\n",
       "      <td>상해없음</td>\n",
       "      <td>0</td>\n",
       "      <td>0</td>\n",
       "      <td>5</td>\n",
       "      <td>0</td>\n",
       "      <td>0</td>\n",
       "      <td>2007</td>\n",
       "      <td>1</td>\n",
       "      <td>0</td>\n",
       "    </tr>\n",
       "    <tr>\n",
       "      <th>4</th>\n",
       "      <td>20070108</td>\n",
       "      <td>09시</td>\n",
       "      <td>월</td>\n",
       "      <td>주</td>\n",
       "      <td>광진구</td>\n",
       "      <td>광장동</td>\n",
       "      <td>사망</td>\n",
       "      <td>1</td>\n",
       "      <td>0</td>\n",
       "      <td>0</td>\n",
       "      <td>...</td>\n",
       "      <td>69</td>\n",
       "      <td>사망</td>\n",
       "      <td>1</td>\n",
       "      <td>0</td>\n",
       "      <td>0</td>\n",
       "      <td>0</td>\n",
       "      <td>0</td>\n",
       "      <td>2007</td>\n",
       "      <td>1</td>\n",
       "      <td>0</td>\n",
       "    </tr>\n",
       "    <tr>\n",
       "      <th>...</th>\n",
       "      <td>...</td>\n",
       "      <td>...</td>\n",
       "      <td>...</td>\n",
       "      <td>...</td>\n",
       "      <td>...</td>\n",
       "      <td>...</td>\n",
       "      <td>...</td>\n",
       "      <td>...</td>\n",
       "      <td>...</td>\n",
       "      <td>...</td>\n",
       "      <td>...</td>\n",
       "      <td>...</td>\n",
       "      <td>...</td>\n",
       "      <td>...</td>\n",
       "      <td>...</td>\n",
       "      <td>...</td>\n",
       "      <td>...</td>\n",
       "      <td>...</td>\n",
       "      <td>...</td>\n",
       "      <td>...</td>\n",
       "      <td>...</td>\n",
       "    </tr>\n",
       "    <tr>\n",
       "      <th>4370</th>\n",
       "      <td>20191226</td>\n",
       "      <td>16시</td>\n",
       "      <td>목</td>\n",
       "      <td>주</td>\n",
       "      <td>은평구</td>\n",
       "      <td>진관동</td>\n",
       "      <td>사망</td>\n",
       "      <td>1</td>\n",
       "      <td>0</td>\n",
       "      <td>0</td>\n",
       "      <td>...</td>\n",
       "      <td>23</td>\n",
       "      <td>사망</td>\n",
       "      <td>1</td>\n",
       "      <td>0</td>\n",
       "      <td>0</td>\n",
       "      <td>0</td>\n",
       "      <td>0</td>\n",
       "      <td>2019</td>\n",
       "      <td>12</td>\n",
       "      <td>0</td>\n",
       "    </tr>\n",
       "    <tr>\n",
       "      <th>4371</th>\n",
       "      <td>20191229</td>\n",
       "      <td>23시</td>\n",
       "      <td>일</td>\n",
       "      <td>야</td>\n",
       "      <td>동대문구</td>\n",
       "      <td>휘경동</td>\n",
       "      <td>사망</td>\n",
       "      <td>1</td>\n",
       "      <td>0</td>\n",
       "      <td>0</td>\n",
       "      <td>...</td>\n",
       "      <td>66</td>\n",
       "      <td>사망</td>\n",
       "      <td>0</td>\n",
       "      <td>0</td>\n",
       "      <td>0</td>\n",
       "      <td>2</td>\n",
       "      <td>2</td>\n",
       "      <td>2019</td>\n",
       "      <td>12</td>\n",
       "      <td>0</td>\n",
       "    </tr>\n",
       "    <tr>\n",
       "      <th>4372</th>\n",
       "      <td>20191230</td>\n",
       "      <td>00시</td>\n",
       "      <td>월</td>\n",
       "      <td>야</td>\n",
       "      <td>관악구</td>\n",
       "      <td>봉천동</td>\n",
       "      <td>사망</td>\n",
       "      <td>1</td>\n",
       "      <td>0</td>\n",
       "      <td>0</td>\n",
       "      <td>...</td>\n",
       "      <td>84</td>\n",
       "      <td>사망</td>\n",
       "      <td>0</td>\n",
       "      <td>0</td>\n",
       "      <td>0</td>\n",
       "      <td>2</td>\n",
       "      <td>2</td>\n",
       "      <td>2019</td>\n",
       "      <td>12</td>\n",
       "      <td>0</td>\n",
       "    </tr>\n",
       "    <tr>\n",
       "      <th>4373</th>\n",
       "      <td>20191231</td>\n",
       "      <td>01시</td>\n",
       "      <td>화</td>\n",
       "      <td>야</td>\n",
       "      <td>서초구</td>\n",
       "      <td>반포동</td>\n",
       "      <td>사망</td>\n",
       "      <td>1</td>\n",
       "      <td>0</td>\n",
       "      <td>0</td>\n",
       "      <td>...</td>\n",
       "      <td>39</td>\n",
       "      <td>사망</td>\n",
       "      <td>0</td>\n",
       "      <td>0</td>\n",
       "      <td>0</td>\n",
       "      <td>0</td>\n",
       "      <td>7</td>\n",
       "      <td>2019</td>\n",
       "      <td>12</td>\n",
       "      <td>0</td>\n",
       "    </tr>\n",
       "    <tr>\n",
       "      <th>4374</th>\n",
       "      <td>20191231</td>\n",
       "      <td>05시</td>\n",
       "      <td>화</td>\n",
       "      <td>야</td>\n",
       "      <td>강남구</td>\n",
       "      <td>수서동</td>\n",
       "      <td>사망</td>\n",
       "      <td>1</td>\n",
       "      <td>0</td>\n",
       "      <td>0</td>\n",
       "      <td>...</td>\n",
       "      <td>80</td>\n",
       "      <td>사망</td>\n",
       "      <td>0</td>\n",
       "      <td>0</td>\n",
       "      <td>1</td>\n",
       "      <td>0</td>\n",
       "      <td>0</td>\n",
       "      <td>2019</td>\n",
       "      <td>12</td>\n",
       "      <td>0</td>\n",
       "    </tr>\n",
       "  </tbody>\n",
       "</table>\n",
       "<p>4375 rows × 36 columns</p>\n",
       "</div>"
      ],
      "text/plain": [
       "           발생일 발생시간 요일 주야 발생지_시군구 법정동명 사고내용  사망자수  중상자수  경상자수  ...  피해자연령  \\\n",
       "0     20070101  19시  월  야     관악구  봉천동   사망     1     0     1  ...     40   \n",
       "1     20070102  22시  화  야     강남구  일원동   사망     1     0     0  ...     12   \n",
       "2     20070103  06시  수  주     광진구  광장동   사망     1     0     0  ...     77   \n",
       "3     20070107  00시  일  야     도봉구  방학동   사망     1     0     0  ...     51   \n",
       "4     20070108  09시  월  주     광진구  광장동   사망     1     0     0  ...     69   \n",
       "...        ...  ... .. ..     ...  ...  ...   ...   ...   ...  ...    ...   \n",
       "4370  20191226  16시  목  주     은평구  진관동   사망     1     0     0  ...     23   \n",
       "4371  20191229  23시  일  야    동대문구  휘경동   사망     1     0     0  ...     66   \n",
       "4372  20191230  00시  월  야     관악구  봉천동   사망     1     0     0  ...     84   \n",
       "4373  20191231  01시  화  야     서초구  반포동   사망     1     0     0  ...     39   \n",
       "4374  20191231  05시  화  야     강남구  수서동   사망     1     0     0  ...     80   \n",
       "\n",
       "     피해자신체상해정도 주야코드 사고내용코드 가해자차종코드 기상상태코드 노면상태코드  발생연도 발생월 사망여부  \n",
       "0           경상    0      0       2      1      0  2007   1    0  \n",
       "1           사망    0      0       3      0      0  2007   1    0  \n",
       "2           사망    1      0       0      0      0  2007   1    0  \n",
       "3         상해없음    0      0       5      0      0  2007   1    0  \n",
       "4           사망    1      0       0      0      0  2007   1    0  \n",
       "...        ...  ...    ...     ...    ...    ...   ...  ..  ...  \n",
       "4370        사망    1      0       0      0      0  2019  12    0  \n",
       "4371        사망    0      0       0      2      2  2019  12    0  \n",
       "4372        사망    0      0       0      2      2  2019  12    0  \n",
       "4373        사망    0      0       0      0      7  2019  12    0  \n",
       "4374        사망    0      0       1      0      0  2019  12    0  \n",
       "\n",
       "[4375 rows x 36 columns]"
      ]
     },
     "execution_count": 33,
     "metadata": {},
     "output_type": "execute_result"
    }
   ],
   "source": [
    "death"
   ]
  },
  {
   "cell_type": "code",
   "execution_count": 48,
   "metadata": {},
   "outputs": [
    {
     "data": {
      "text/plain": [
       "<matplotlib.axes._subplots.AxesSubplot at 0x2408561db80>"
      ]
     },
     "execution_count": 48,
     "metadata": {},
     "output_type": "execute_result"
    },
    {
     "data": {
      "image/png": "[encoded data removed]",
      "text/plain": [
       "<Figure size 360x360 with 1 Axes>"
      ]
     },
     "metadata": {
      "needs_background": "light"
     },
     "output_type": "display_data"
    }
   ],
   "source": [
    "ct = pd.crosstab(Seoul_0719['가해자차종'], death['사망여부'])\n",
    "ct.plot.bar(stacked=True)"
   ]
  },
  {
   "cell_type": "code",
   "execution_count": 49,
   "metadata": {
    "scrolled": true
   },
   "outputs": [
    {
     "data": {
      "text/plain": [
       "(0.0,\n",
       " 1.0,\n",
       " 0,\n",
       " array([[   8.],\n",
       "        [3323.],\n",
       "        [ 321.],\n",
       "        [ 130.],\n",
       "        [ 175.],\n",
       "        [  15.],\n",
       "        [  11.],\n",
       "        [ 392.]]))"
      ]
     },
     "execution_count": 49,
     "metadata": {},
     "output_type": "execute_result"
    }
   ],
   "source": [
    "stats.chi2_contingency(ct)"
   ]
  },
  {
   "cell_type": "code",
   "execution_count": 56,
   "metadata": {
    "scrolled": true
   },
   "outputs": [
    {
     "data": {
      "text/plain": [
       "array([<matplotlib.axes._subplots.AxesSubplot object at 0x00000240858DE5E0>,\n",
       "       <matplotlib.axes._subplots.AxesSubplot object at 0x000002408564C610>,\n",
       "       <matplotlib.axes._subplots.AxesSubplot object at 0x0000024085636310>,\n",
       "       <matplotlib.axes._subplots.AxesSubplot object at 0x0000024085A403A0>,\n",
       "       <matplotlib.axes._subplots.AxesSubplot object at 0x0000024085B83850>,\n",
       "       <matplotlib.axes._subplots.AxesSubplot object at 0x00000240E9742460>,\n",
       "       <matplotlib.axes._subplots.AxesSubplot object at 0x00000240E97AC100>,\n",
       "       <matplotlib.axes._subplots.AxesSubplot object at 0x0000024085E2C340>,\n",
       "       <matplotlib.axes._subplots.AxesSubplot object at 0x0000024085E7B640>,\n",
       "       <matplotlib.axes._subplots.AxesSubplot object at 0x0000024085EAC7C0>,\n",
       "       <matplotlib.axes._subplots.AxesSubplot object at 0x0000024085EDC940>,\n",
       "       <matplotlib.axes._subplots.AxesSubplot object at 0x0000024085F0BAC0>,\n",
       "       <matplotlib.axes._subplots.AxesSubplot object at 0x0000024085F3AC40>],\n",
       "      dtype=object)"
      ]
     },
     "execution_count": 56,
     "metadata": {},
     "output_type": "execute_result"
    },
    {
     "data": {
      "image/png": "[encoded data removed]",
      "text/plain": [
       "<Figure size 360x360 with 13 Axes>"
      ]
     },
     "metadata": {},
     "output_type": "display_data"
    }
   ],
   "source": [
    "ct = pd.crosstab(Seoul_0719['사망여부'], Seoul_0719['가해자차종'])\n",
    "ct.plot.pie(subplots=True)"
   ]
  },
  {
   "cell_type": "code",
   "execution_count": 57,
   "metadata": {},
   "outputs": [
    {
     "data": {
      "text/plain": [
       "(1762.329005307077,\n",
       " 0.0,\n",
       " 12,\n",
       " array([[1.77507471e+00, 2.14606532e+01, 1.33130603e+00, 2.48510459e-01,\n",
       "         1.31355528e+00, 2.30759712e-01, 3.08437868e+03, 2.87757360e+02,\n",
       "         1.36352363e+02, 3.25335692e+02, 1.53224449e+02, 8.72449218e+00,\n",
       "         3.52867101e+02],\n",
       "        [1.98224925e+02, 2.39653935e+03, 1.48668694e+02, 2.77514895e+01,\n",
       "         1.46686445e+02, 2.57692403e+01, 3.44436621e+05, 3.21342426e+04,\n",
       "         1.52266476e+04, 3.63306643e+04, 1.71107756e+04, 9.74275508e+02,\n",
       "         3.94051329e+04]]))"
      ]
     },
     "execution_count": 57,
     "metadata": {},
     "output_type": "execute_result"
    }
   ],
   "source": [
    "stats.chi2_contingency(ct)"
   ]
  },
  {
   "cell_type": "code",
   "execution_count": 70,
   "metadata": {
    "scrolled": false
   },
   "outputs": [
    {
     "data": {
      "text/plain": [
       "<matplotlib.collections.PathCollection at 0x24099983160>"
      ]
     },
     "execution_count": 70,
     "metadata": {},
     "output_type": "execute_result"
    },
    {
     "data": {
      "image/png": "[encoded data removed]",
      "text/plain": [
       "<Figure size 2160x360 with 1 Axes>"
      ]
     },
     "metadata": {
      "needs_background": "light"
     },
     "output_type": "display_data"
    }
   ],
   "source": [
    "plt.figure(figsize=(30, 5))\n",
    "plt.scatter(\"가해자연령\", \"피해자연령\", data=Seoul_0719)"
   ]
  },
  {
   "cell_type": "code",
   "execution_count": 50,
   "metadata": {},
   "outputs": [
    {
     "data": {
      "text/html": [
       "<div>\n",
       "<style scoped>\n",
       "    .dataframe tbody tr th:only-of-type {\n",
       "        vertical-align: middle;\n",
       "    }\n",
       "\n",
       "    .dataframe tbody tr th {\n",
       "        vertical-align: top;\n",
       "    }\n",
       "\n",
       "    .dataframe thead th {\n",
       "        text-align: right;\n",
       "    }\n",
       "</style>\n",
       "<table border=\"1\" class=\"dataframe\">\n",
       "  <thead>\n",
       "    <tr style=\"text-align: right;\">\n",
       "      <th></th>\n",
       "      <th>질병</th>\n",
       "      <th>연령</th>\n",
       "      <th>출산자</th>\n",
       "      <th>출산자_질병</th>\n",
       "      <th>비출산자</th>\n",
       "      <th>비출산자_질병</th>\n",
       "    </tr>\n",
       "  </thead>\n",
       "  <tbody>\n",
       "    <tr>\n",
       "      <th>0</th>\n",
       "      <td>변비</td>\n",
       "      <td>10대</td>\n",
       "      <td>275</td>\n",
       "      <td>11</td>\n",
       "      <td>45684</td>\n",
       "      <td>537</td>\n",
       "    </tr>\n",
       "    <tr>\n",
       "      <th>1</th>\n",
       "      <td>변비</td>\n",
       "      <td>20대</td>\n",
       "      <td>12289</td>\n",
       "      <td>304</td>\n",
       "      <td>61702</td>\n",
       "      <td>705</td>\n",
       "    </tr>\n",
       "    <tr>\n",
       "      <th>2</th>\n",
       "      <td>변비</td>\n",
       "      <td>30대</td>\n",
       "      <td>29870</td>\n",
       "      <td>671</td>\n",
       "      <td>84713</td>\n",
       "      <td>128</td>\n",
       "    </tr>\n",
       "    <tr>\n",
       "      <th>3</th>\n",
       "      <td>변비</td>\n",
       "      <td>40대</td>\n",
       "      <td>1014</td>\n",
       "      <td>27</td>\n",
       "      <td>103417</td>\n",
       "      <td>1670</td>\n",
       "    </tr>\n",
       "  </tbody>\n",
       "</table>\n",
       "</div>"
      ],
      "text/plain": [
       "   질병   연령    출산자  출산자_질병    비출산자  비출산자_질병\n",
       "0  변비  10대    275      11   45684      537\n",
       "1  변비  20대  12289     304   61702      705\n",
       "2  변비  30대  29870     671   84713      128\n",
       "3  변비  40대   1014      27  103417     1670"
      ]
     },
     "execution_count": 50,
     "metadata": {},
     "output_type": "execute_result"
    }
   ],
   "source": [
    "bb = pd.read_csv('bb.csv', encoding='cp949')\n",
    "bb"
   ]
  },
  {
   "cell_type": "code",
   "execution_count": 56,
   "metadata": {},
   "outputs": [],
   "source": [
    "bb['출산자_질병비율'] = bb['출산자_질병'] / bb['출산자'] * 100\n",
    "bb['비출산자_질병비율'] = bb['비출산자_질병'] / bb['비출산자'] * 100"
   ]
  },
  {
   "cell_type": "code",
   "execution_count": 57,
   "metadata": {},
   "outputs": [
    {
     "data": {
      "text/html": [
       "<div>\n",
       "<style scoped>\n",
       "    .dataframe tbody tr th:only-of-type {\n",
       "        vertical-align: middle;\n",
       "    }\n",
       "\n",
       "    .dataframe tbody tr th {\n",
       "        vertical-align: top;\n",
       "    }\n",
       "\n",
       "    .dataframe thead th {\n",
       "        text-align: right;\n",
       "    }\n",
       "</style>\n",
       "<table border=\"1\" class=\"dataframe\">\n",
       "  <thead>\n",
       "    <tr style=\"text-align: right;\">\n",
       "      <th></th>\n",
       "      <th>질병</th>\n",
       "      <th>연령</th>\n",
       "      <th>출산자</th>\n",
       "      <th>출산자_질병</th>\n",
       "      <th>비출산자</th>\n",
       "      <th>비출산자_질병</th>\n",
       "      <th>출산자_질병비율</th>\n",
       "      <th>비출산자_질병비율</th>\n",
       "    </tr>\n",
       "  </thead>\n",
       "  <tbody>\n",
       "    <tr>\n",
       "      <th>0</th>\n",
       "      <td>변비</td>\n",
       "      <td>10대</td>\n",
       "      <td>275</td>\n",
       "      <td>11</td>\n",
       "      <td>45684</td>\n",
       "      <td>537</td>\n",
       "      <td>4.000000</td>\n",
       "      <td>1.175466</td>\n",
       "    </tr>\n",
       "    <tr>\n",
       "      <th>1</th>\n",
       "      <td>변비</td>\n",
       "      <td>20대</td>\n",
       "      <td>12289</td>\n",
       "      <td>304</td>\n",
       "      <td>61702</td>\n",
       "      <td>705</td>\n",
       "      <td>2.473757</td>\n",
       "      <td>1.142589</td>\n",
       "    </tr>\n",
       "    <tr>\n",
       "      <th>2</th>\n",
       "      <td>변비</td>\n",
       "      <td>30대</td>\n",
       "      <td>29870</td>\n",
       "      <td>671</td>\n",
       "      <td>84713</td>\n",
       "      <td>128</td>\n",
       "      <td>2.246401</td>\n",
       "      <td>0.151098</td>\n",
       "    </tr>\n",
       "    <tr>\n",
       "      <th>3</th>\n",
       "      <td>변비</td>\n",
       "      <td>40대</td>\n",
       "      <td>1014</td>\n",
       "      <td>27</td>\n",
       "      <td>103417</td>\n",
       "      <td>1670</td>\n",
       "      <td>2.662722</td>\n",
       "      <td>1.614822</td>\n",
       "    </tr>\n",
       "  </tbody>\n",
       "</table>\n",
       "</div>"
      ],
      "text/plain": [
       "   질병   연령    출산자  출산자_질병    비출산자  비출산자_질병  출산자_질병비율  비출산자_질병비율\n",
       "0  변비  10대    275      11   45684      537  4.000000   1.175466\n",
       "1  변비  20대  12289     304   61702      705  2.473757   1.142589\n",
       "2  변비  30대  29870     671   84713      128  2.246401   0.151098\n",
       "3  변비  40대   1014      27  103417     1670  2.662722   1.614822"
      ]
     },
     "execution_count": 57,
     "metadata": {},
     "output_type": "execute_result"
    }
   ],
   "source": [
    "bb"
   ]
  },
  {
   "cell_type": "code",
   "execution_count": 61,
   "metadata": {},
   "outputs": [],
   "source": [
    "from scipy import stats\n",
    "t, p = stats.ttest_ind(bb['비출산자_질병비율'], bb['출산자_질병비율'])"
   ]
  },
  {
   "cell_type": "code",
   "execution_count": 66,
   "metadata": {},
   "outputs": [
    {
     "data": {
      "text/html": [
       "<div>\n",
       "<style scoped>\n",
       "    .dataframe tbody tr th:only-of-type {\n",
       "        vertical-align: middle;\n",
       "    }\n",
       "\n",
       "    .dataframe tbody tr th {\n",
       "        vertical-align: top;\n",
       "    }\n",
       "\n",
       "    .dataframe thead th {\n",
       "        text-align: right;\n",
       "    }\n",
       "</style>\n",
       "<table border=\"1\" class=\"dataframe\">\n",
       "  <thead>\n",
       "    <tr style=\"text-align: right;\">\n",
       "      <th></th>\n",
       "      <th>출산자</th>\n",
       "      <th>출산자_질병</th>\n",
       "    </tr>\n",
       "  </thead>\n",
       "  <tbody>\n",
       "    <tr>\n",
       "      <th>0</th>\n",
       "      <td>275</td>\n",
       "      <td>11</td>\n",
       "    </tr>\n",
       "  </tbody>\n",
       "</table>\n",
       "</div>"
      ],
      "text/plain": [
       "   출산자  출산자_질병\n",
       "0  275      11"
      ]
     },
     "execution_count": 66,
     "metadata": {},
     "output_type": "execute_result"
    }
   ],
   "source": [
    "bb[['출산자', '출산자_질병']][0:1]"
   ]
  },
  {
   "cell_type": "code",
   "execution_count": 70,
   "metadata": {},
   "outputs": [
    {
     "ename": "TypeError",
     "evalue": "object of type 'int' has no len()",
     "output_type": "error",
     "traceback": [
      "\u001b[1;31m---------------------------------------------------------------------------\u001b[0m",
      "\u001b[1;31mTypeError\u001b[0m                                 Traceback (most recent call last)",
      "\u001b[1;32m<ipython-input-70-e9ce8dae4551>\u001b[0m in \u001b[0;36m<module>\u001b[1;34m\u001b[0m\n\u001b[0;32m      3\u001b[0m \u001b[0mo\u001b[0m \u001b[1;33m=\u001b[0m \u001b[0mbb\u001b[0m\u001b[1;33m[\u001b[0m\u001b[1;33m[\u001b[0m\u001b[1;34m'출산자'\u001b[0m\u001b[1;33m,\u001b[0m \u001b[1;34m'출산자_질병'\u001b[0m\u001b[1;33m]\u001b[0m\u001b[1;33m]\u001b[0m\u001b[1;33m[\u001b[0m\u001b[1;36m0\u001b[0m\u001b[1;33m:\u001b[0m\u001b[1;36m1\u001b[0m\u001b[1;33m]\u001b[0m\u001b[1;33m\u001b[0m\u001b[1;33m\u001b[0m\u001b[0m\n\u001b[0;32m      4\u001b[0m \u001b[0mx\u001b[0m \u001b[1;33m=\u001b[0m \u001b[0mbb\u001b[0m\u001b[1;33m[\u001b[0m\u001b[1;33m[\u001b[0m\u001b[1;34m'비출산자'\u001b[0m\u001b[1;33m,\u001b[0m \u001b[1;34m'비출산자_질병'\u001b[0m\u001b[1;33m]\u001b[0m\u001b[1;33m]\u001b[0m\u001b[1;33m[\u001b[0m\u001b[1;36m0\u001b[0m\u001b[1;33m:\u001b[0m\u001b[1;36m1\u001b[0m\u001b[1;33m]\u001b[0m\u001b[1;33m\u001b[0m\u001b[1;33m\u001b[0m\u001b[0m\n\u001b[1;32m----> 5\u001b[1;33m \u001b[0mlevene\u001b[0m\u001b[1;33m(\u001b[0m\u001b[1;36m4\u001b[0m\u001b[1;33m,\u001b[0m \u001b[1;36m1.175\u001b[0m\u001b[1;33m)\u001b[0m\u001b[1;33m\u001b[0m\u001b[1;33m\u001b[0m\u001b[0m\n\u001b[0m",
      "\u001b[1;32mC:\\ProgramData\\Anaconda3\\lib\\site-packages\\scipy\\stats\\morestats.py\u001b[0m in \u001b[0;36mlevene\u001b[1;34m(*args, **kwds)\u001b[0m\n\u001b[0;32m   2341\u001b[0m \u001b[1;33m\u001b[0m\u001b[0m\n\u001b[0;32m   2342\u001b[0m     \u001b[1;32mfor\u001b[0m \u001b[0mj\u001b[0m \u001b[1;32min\u001b[0m \u001b[0mrange\u001b[0m\u001b[1;33m(\u001b[0m\u001b[0mk\u001b[0m\u001b[1;33m)\u001b[0m\u001b[1;33m:\u001b[0m\u001b[1;33m\u001b[0m\u001b[1;33m\u001b[0m\u001b[0m\n\u001b[1;32m-> 2343\u001b[1;33m         \u001b[0mNi\u001b[0m\u001b[1;33m[\u001b[0m\u001b[0mj\u001b[0m\u001b[1;33m]\u001b[0m \u001b[1;33m=\u001b[0m \u001b[0mlen\u001b[0m\u001b[1;33m(\u001b[0m\u001b[0margs\u001b[0m\u001b[1;33m[\u001b[0m\u001b[0mj\u001b[0m\u001b[1;33m]\u001b[0m\u001b[1;33m)\u001b[0m\u001b[1;33m\u001b[0m\u001b[1;33m\u001b[0m\u001b[0m\n\u001b[0m\u001b[0;32m   2344\u001b[0m         \u001b[0mYci\u001b[0m\u001b[1;33m[\u001b[0m\u001b[0mj\u001b[0m\u001b[1;33m]\u001b[0m \u001b[1;33m=\u001b[0m \u001b[0mfunc\u001b[0m\u001b[1;33m(\u001b[0m\u001b[0margs\u001b[0m\u001b[1;33m[\u001b[0m\u001b[0mj\u001b[0m\u001b[1;33m]\u001b[0m\u001b[1;33m)\u001b[0m\u001b[1;33m\u001b[0m\u001b[1;33m\u001b[0m\u001b[0m\n\u001b[0;32m   2345\u001b[0m     \u001b[0mNtot\u001b[0m \u001b[1;33m=\u001b[0m \u001b[0mnp\u001b[0m\u001b[1;33m.\u001b[0m\u001b[0msum\u001b[0m\u001b[1;33m(\u001b[0m\u001b[0mNi\u001b[0m\u001b[1;33m,\u001b[0m \u001b[0maxis\u001b[0m\u001b[1;33m=\u001b[0m\u001b[1;36m0\u001b[0m\u001b[1;33m)\u001b[0m\u001b[1;33m\u001b[0m\u001b[1;33m\u001b[0m\u001b[0m\n",
      "\u001b[1;31mTypeError\u001b[0m: object of type 'int' has no len()"
     ]
    }
   ],
   "source": [
    "from scipy.stats import levene, ttest_ind\n",
    "\n",
    "o = bb[['출산자', '출산자_질병']][0:1]\n",
    "x = bb[['비출산자', '비출산자_질병']][0:1]\n",
    "levene(4, 1.175)"
   ]
  },
  {
   "cell_type": "code",
   "execution_count": null,
   "metadata": {},
   "outputs": [],
   "source": []
  },
  {
   "cell_type": "code",
   "execution_count": null,
   "metadata": {},
   "outputs": [],
   "source": []
  },
  {
   "cell_type": "code",
   "execution_count": null,
   "metadata": {},
   "outputs": [],
   "source": []
  },
  {
   "cell_type": "code",
   "execution_count": null,
   "metadata": {},
   "outputs": [],
   "source": []
  },
  {
   "cell_type": "code",
   "execution_count": null,
   "metadata": {},
   "outputs": [],
   "source": []
  }
 ],
 "metadata": {
  "kernelspec": {
   "display_name": "Python 3",
   "language": "python",
   "name": "python3"
  },
  "language_info": {
   "codemirror_mode": {
    "name": "ipython",
    "version": 3
   },
   "file_extension": ".py",
   "mimetype": "text/x-python",
   "name": "python",
   "nbconvert_exporter": "python",
   "pygments_lexer": "ipython3",
   "version": "3.8.3"
  }
 },
 "nbformat": 4,
 "nbformat_minor": 4
}
